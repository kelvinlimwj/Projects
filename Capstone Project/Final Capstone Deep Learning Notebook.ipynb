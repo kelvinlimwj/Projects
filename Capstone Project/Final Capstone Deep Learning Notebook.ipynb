{
 "cells": [
  {
   "cell_type": "markdown",
   "metadata": {},
   "source": [
    "NLP Sentiment Analysis using Deep Learning with Keras"
   ]
  },
  {
   "cell_type": "code",
   "execution_count": 1,
   "metadata": {},
   "outputs": [
    {
     "name": "stderr",
     "output_type": "stream",
     "text": [
      "Using TensorFlow backend.\n"
     ]
    }
   ],
   "source": [
    "import pandas as pd\n",
    "import numpy as np\n",
    "import re\n",
    "import nltk\n",
    "import seaborn as sns\n",
    "import matplotlib.pyplot as plt\n",
    "from nltk.corpus import stopwords\n",
    "from nltk.tokenize import word_tokenize\n",
    "from wordcloud import WordCloud\n",
    "\n",
    "from numpy import array\n",
    "from keras.preprocessing.text import one_hot\n",
    "from keras.preprocessing.sequence import pad_sequences\n",
    "from keras.models import Sequential\n",
    "from keras.layers.core import Activation, Dropout, Dense\n",
    "from keras.layers import Flatten\n",
    "from keras.layers import GlobalMaxPooling1D, Conv1D\n",
    "from keras.layers.embeddings import Embedding\n",
    "from keras.layers.recurrent import LSTM\n",
    "from keras.callbacks import EarlyStopping\n",
    "from sklearn.model_selection import train_test_split\n",
    "from keras.preprocessing.text import Tokenizer"
   ]
  },
  {
   "cell_type": "code",
   "execution_count": 2,
   "metadata": {},
   "outputs": [],
   "source": [
    "movie_reviews = pd.read_csv('cleaned_reviews.csv')"
   ]
  },
  {
   "cell_type": "code",
   "execution_count": 3,
   "metadata": {},
   "outputs": [
    {
     "data": {
      "text/html": [
       "<div>\n",
       "<style scoped>\n",
       "    .dataframe tbody tr th:only-of-type {\n",
       "        vertical-align: middle;\n",
       "    }\n",
       "\n",
       "    .dataframe tbody tr th {\n",
       "        vertical-align: top;\n",
       "    }\n",
       "\n",
       "    .dataframe thead th {\n",
       "        text-align: right;\n",
       "    }\n",
       "</style>\n",
       "<table border=\"1\" class=\"dataframe\">\n",
       "  <thead>\n",
       "    <tr style=\"text-align: right;\">\n",
       "      <th></th>\n",
       "      <th>Review</th>\n",
       "      <th>cleaned_review</th>\n",
       "      <th>stopped_review</th>\n",
       "      <th>final_review</th>\n",
       "      <th>Freshness</th>\n",
       "    </tr>\n",
       "  </thead>\n",
       "  <tbody>\n",
       "    <tr>\n",
       "      <td>0</td>\n",
       "      <td>Manakamana doesn't answer any questions, yet ...</td>\n",
       "      <td>manakamana doesnt answer any questions yet mak...</td>\n",
       "      <td>manakamana doesnt answer questions yet makes p...</td>\n",
       "      <td>manakamana doesnt answer question yet make poi...</td>\n",
       "      <td>1</td>\n",
       "    </tr>\n",
       "    <tr>\n",
       "      <td>1</td>\n",
       "      <td>Wilfully offensive and powered by a chest-thu...</td>\n",
       "      <td>wilfully offensive and powered by a chestthump...</td>\n",
       "      <td>wilfully offensive powered chestthumping machi...</td>\n",
       "      <td>wil offens power chestthump machismo good clea...</td>\n",
       "      <td>1</td>\n",
       "    </tr>\n",
       "    <tr>\n",
       "      <td>2</td>\n",
       "      <td>It would be difficult to imagine material mor...</td>\n",
       "      <td>it would be difficult to imagine material more...</td>\n",
       "      <td>would difficult imagine material wrong spade l...</td>\n",
       "      <td>would difficult imagin materi wrong spade lost...</td>\n",
       "      <td>0</td>\n",
       "    </tr>\n",
       "    <tr>\n",
       "      <td>3</td>\n",
       "      <td>Despite the gusto its star brings to the role...</td>\n",
       "      <td>despite the gusto its star brings to the role ...</td>\n",
       "      <td>despite gusto star brings role hard ride shotg...</td>\n",
       "      <td>despit gusto star bring role hard ride shotgun...</td>\n",
       "      <td>0</td>\n",
       "    </tr>\n",
       "    <tr>\n",
       "      <td>4</td>\n",
       "      <td>If there was a good idea at the core of this ...</td>\n",
       "      <td>if there was a good idea at the core of this f...</td>\n",
       "      <td>good idea core film buried unsightly pile flat...</td>\n",
       "      <td>good idea core film buri unsightli pile flatul...</td>\n",
       "      <td>0</td>\n",
       "    </tr>\n",
       "  </tbody>\n",
       "</table>\n",
       "</div>"
      ],
      "text/plain": [
       "                                              Review  \\\n",
       "0   Manakamana doesn't answer any questions, yet ...   \n",
       "1   Wilfully offensive and powered by a chest-thu...   \n",
       "2   It would be difficult to imagine material mor...   \n",
       "3   Despite the gusto its star brings to the role...   \n",
       "4   If there was a good idea at the core of this ...   \n",
       "\n",
       "                                      cleaned_review  \\\n",
       "0  manakamana doesnt answer any questions yet mak...   \n",
       "1  wilfully offensive and powered by a chestthump...   \n",
       "2  it would be difficult to imagine material more...   \n",
       "3  despite the gusto its star brings to the role ...   \n",
       "4  if there was a good idea at the core of this f...   \n",
       "\n",
       "                                      stopped_review  \\\n",
       "0  manakamana doesnt answer questions yet makes p...   \n",
       "1  wilfully offensive powered chestthumping machi...   \n",
       "2  would difficult imagine material wrong spade l...   \n",
       "3  despite gusto star brings role hard ride shotg...   \n",
       "4  good idea core film buried unsightly pile flat...   \n",
       "\n",
       "                                        final_review  Freshness  \n",
       "0  manakamana doesnt answer question yet make poi...          1  \n",
       "1  wil offens power chestthump machismo good clea...          1  \n",
       "2  would difficult imagin materi wrong spade lost...          0  \n",
       "3  despit gusto star bring role hard ride shotgun...          0  \n",
       "4  good idea core film buri unsightli pile flatul...          0  "
      ]
     },
     "execution_count": 3,
     "metadata": {},
     "output_type": "execute_result"
    }
   ],
   "source": [
    "movie_reviews.head()"
   ]
  },
  {
   "cell_type": "code",
   "execution_count": 4,
   "metadata": {},
   "outputs": [],
   "source": [
    "X = movie_reviews['stopped_review'].astype(str)\n",
    "#X_lemma = movie_reviews['final_review']\n",
    "y = movie_reviews['Freshness']"
   ]
  },
  {
   "cell_type": "code",
   "execution_count": 5,
   "metadata": {},
   "outputs": [
    {
     "data": {
      "text/plain": [
       "'guy ritchies take arthurian myth misbegotten mashup swordandsorcery action fantasy geezersonamission caper booming cgi lairy banter bish bash bosh'"
      ]
     },
     "execution_count": 5,
     "metadata": {},
     "output_type": "execute_result"
    }
   ],
   "source": [
    "X[400]"
   ]
  },
  {
   "cell_type": "code",
   "execution_count": 6,
   "metadata": {},
   "outputs": [],
   "source": [
    "X_train, X_test, y_train, y_test = train_test_split(X, \n",
    "                                                    y, \n",
    "                                                    test_size=0.33, \n",
    "                                                    random_state=42)"
   ]
  },
  {
   "cell_type": "code",
   "execution_count": 7,
   "metadata": {},
   "outputs": [],
   "source": [
    "tokenizer = Tokenizer(num_words=5000)\n",
    "tokenizer.fit_on_texts(X_train)\n",
    "\n",
    "X_train = tokenizer.texts_to_sequences(X_train)\n",
    "X_test = tokenizer.texts_to_sequences(X_test)"
   ]
  },
  {
   "cell_type": "code",
   "execution_count": 8,
   "metadata": {},
   "outputs": [],
   "source": [
    "vocab_size = len(tokenizer.word_index) + 1\n",
    "\n",
    "maxlen = 30\n",
    "\n",
    "X_train = pad_sequences(X_train, padding='post', maxlen=maxlen)\n",
    "X_test = pad_sequences(X_test, padding='post', maxlen=maxlen)"
   ]
  },
  {
   "cell_type": "code",
   "execution_count": 9,
   "metadata": {},
   "outputs": [
    {
     "data": {
      "text/plain": [
       "113209"
      ]
     },
     "execution_count": 9,
     "metadata": {},
     "output_type": "execute_result"
    }
   ],
   "source": [
    "vocab_size"
   ]
  },
  {
   "cell_type": "code",
   "execution_count": 10,
   "metadata": {},
   "outputs": [],
   "source": [
    "from numpy import array\n",
    "from numpy import asarray\n",
    "from numpy import zeros\n",
    "\n",
    "embeddings_dictionary = dict()\n",
    "glove_file = open('C:/Users/kelvi/Desktop/Capstone/glove.6B.100d.txt', encoding=\"utf8\")\n",
    "\n",
    "for line in glove_file:\n",
    "    records = line.split()\n",
    "    word = records[0]\n",
    "    vector_dimensions = asarray(records[1:], dtype='float32')\n",
    "    embeddings_dictionary [word] = vector_dimensions\n",
    "glove_file.close()"
   ]
  },
  {
   "cell_type": "code",
   "execution_count": 11,
   "metadata": {},
   "outputs": [],
   "source": [
    "embedding_matrix = zeros((vocab_size, 100))\n",
    "for word, index in tokenizer.word_index.items():\n",
    "    embedding_vector = embeddings_dictionary.get(word)\n",
    "    if embedding_vector is not None:\n",
    "        embedding_matrix[index] = embedding_vector"
   ]
  },
  {
   "cell_type": "code",
   "execution_count": 12,
   "metadata": {},
   "outputs": [],
   "source": [
    "model = Sequential()\n",
    "embedding_layer = Embedding(vocab_size, 100, weights=[embedding_matrix], input_length=maxlen , trainable=False)\n",
    "model.add(embedding_layer)\n",
    "\n",
    "model.add(Flatten())\n",
    "model.add(Dense(1, activation='sigmoid'))"
   ]
  },
  {
   "cell_type": "code",
   "execution_count": 13,
   "metadata": {},
   "outputs": [
    {
     "name": "stdout",
     "output_type": "stream",
     "text": [
      "Model: \"sequential_1\"\n",
      "_________________________________________________________________\n",
      "Layer (type)                 Output Shape              Param #   \n",
      "=================================================================\n",
      "embedding_1 (Embedding)      (None, 30, 100)           11320900  \n",
      "_________________________________________________________________\n",
      "flatten_1 (Flatten)          (None, 3000)              0         \n",
      "_________________________________________________________________\n",
      "dense_1 (Dense)              (None, 1)                 3001      \n",
      "=================================================================\n",
      "Total params: 11,323,901\n",
      "Trainable params: 3,001\n",
      "Non-trainable params: 11,320,900\n",
      "_________________________________________________________________\n",
      "None\n"
     ]
    }
   ],
   "source": [
    "model.compile(optimizer='adam', loss='binary_crossentropy', metrics=['acc'])\n",
    "\n",
    "print(model.summary())"
   ]
  },
  {
   "cell_type": "code",
   "execution_count": 14,
   "metadata": {},
   "outputs": [
    {
     "name": "stdout",
     "output_type": "stream",
     "text": [
      "Train on 257280 samples, validate on 64320 samples\n",
      "Epoch 1/10\n",
      "257280/257280 [==============================] - 5s 19us/step - loss: 0.6068 - acc: 0.6708 - val_loss: 0.5968 - val_acc: 0.6795\n",
      "Epoch 2/10\n",
      "257280/257280 [==============================] - 5s 18us/step - loss: 0.5922 - acc: 0.6853 - val_loss: 0.5969 - val_acc: 0.6803\n",
      "Epoch 3/10\n",
      "257280/257280 [==============================] - 5s 18us/step - loss: 0.5909 - acc: 0.6865 - val_loss: 0.5966 - val_acc: 0.6818\n",
      "Epoch 4/10\n",
      "257280/257280 [==============================] - 5s 18us/step - loss: 0.5905 - acc: 0.6868 - val_loss: 0.5951 - val_acc: 0.6833\n",
      "Epoch 5/10\n",
      "257280/257280 [==============================] - 5s 18us/step - loss: 0.5901 - acc: 0.6867 - val_loss: 0.5947 - val_acc: 0.6842\n",
      "Epoch 6/10\n",
      "257280/257280 [==============================] - 5s 18us/step - loss: 0.5897 - acc: 0.6874 - val_loss: 0.5987 - val_acc: 0.6808\n",
      "Epoch 7/10\n",
      "257280/257280 [==============================] - 5s 18us/step - loss: 0.5895 - acc: 0.6877 - val_loss: 0.5944 - val_acc: 0.6832\n",
      "Epoch 8/10\n",
      "257280/257280 [==============================] - 5s 18us/step - loss: 0.5896 - acc: 0.6884 - val_loss: 0.5946 - val_acc: 0.6846\n",
      "Epoch 9/10\n",
      "257280/257280 [==============================] - 5s 19us/step - loss: 0.5896 - acc: 0.6874 - val_loss: 0.5963 - val_acc: 0.6831\n",
      "Epoch 10/10\n",
      "257280/257280 [==============================] - 5s 18us/step - loss: 0.5894 - acc: 0.6879 - val_loss: 0.5968 - val_acc: 0.6817\n"
     ]
    }
   ],
   "source": [
    "history = model.fit(X_train, y_train, batch_size=128, epochs=10, verbose=1, validation_split=0.2)"
   ]
  },
  {
   "cell_type": "code",
   "execution_count": 15,
   "metadata": {},
   "outputs": [
    {
     "name": "stdout",
     "output_type": "stream",
     "text": [
      "158400/158400 [==============================] - 3s 20us/step\n"
     ]
    }
   ],
   "source": [
    "score = model.evaluate(X_test, y_test, verbose=1)"
   ]
  },
  {
   "cell_type": "code",
   "execution_count": 16,
   "metadata": {},
   "outputs": [
    {
     "name": "stdout",
     "output_type": "stream",
     "text": [
      "Test Score: 0.5932413291870946\n",
      "Test Accuracy: 0.6853408813476562\n"
     ]
    }
   ],
   "source": [
    "print(\"Test Score:\", score[0])\n",
    "print(\"Test Accuracy:\", score[1])"
   ]
  },
  {
   "cell_type": "code",
   "execution_count": 17,
   "metadata": {},
   "outputs": [
    {
     "data": {
      "image/png": "[encoded data removed]",
      "text/plain": [
       "<Figure size 432x288 with 1 Axes>"
      ]
     },
     "metadata": {
      "needs_background": "light"
     },
     "output_type": "display_data"
    },
    {
     "data": {
      "image/png": "[encoded data removed]",
      "text/plain": [
       "<Figure size 432x288 with 1 Axes>"
      ]
     },
     "metadata": {
      "needs_background": "light"
     },
     "output_type": "display_data"
    }
   ],
   "source": [
    "plt.plot(history.history['acc'])\n",
    "plt.plot(history.history['val_acc'])\n",
    "\n",
    "plt.title('Model Accuracy')\n",
    "plt.ylabel('Accuracy')\n",
    "plt.xlabel('Epoch')\n",
    "plt.legend(['train','test'], loc='upper right')\n",
    "plt.show()\n",
    "\n",
    "plt.plot(history.history['loss'])\n",
    "plt.plot(history.history['val_loss'])\n",
    "\n",
    "plt.title('Model Loss')\n",
    "plt.ylabel('Loss')\n",
    "plt.xlabel('Epoch')\n",
    "plt.legend(['train','test'], loc='upper right')\n",
    "plt.show()"
   ]
  },
  {
   "cell_type": "code",
   "execution_count": 18,
   "metadata": {},
   "outputs": [],
   "source": [
    "model = Sequential()\n",
    "\n",
    "embedding_layer = Embedding(vocab_size, 100, weights=[embedding_matrix], input_length=maxlen , trainable=False)\n",
    "model.add(embedding_layer)\n",
    "\n",
    "model.add(Conv1D(128, 5, activation='relu'))\n",
    "model.add(GlobalMaxPooling1D())\n",
    "model.add(Dense(1, activation='sigmoid'))\n",
    "model.compile(optimizer='adam', loss='binary_crossentropy', metrics=['acc'])"
   ]
  },
  {
   "cell_type": "code",
   "execution_count": 19,
   "metadata": {},
   "outputs": [
    {
     "name": "stdout",
     "output_type": "stream",
     "text": [
      "Model: \"sequential_2\"\n",
      "_________________________________________________________________\n",
      "Layer (type)                 Output Shape              Param #   \n",
      "=================================================================\n",
      "embedding_2 (Embedding)      (None, 30, 100)           11320900  \n",
      "_________________________________________________________________\n",
      "conv1d_1 (Conv1D)            (None, 26, 128)           64128     \n",
      "_________________________________________________________________\n",
      "global_max_pooling1d_1 (Glob (None, 128)               0         \n",
      "_________________________________________________________________\n",
      "dense_2 (Dense)              (None, 1)                 129       \n",
      "=================================================================\n",
      "Total params: 11,385,157\n",
      "Trainable params: 64,257\n",
      "Non-trainable params: 11,320,900\n",
      "_________________________________________________________________\n",
      "None\n"
     ]
    }
   ],
   "source": [
    "print(model.summary())"
   ]
  },
  {
   "cell_type": "code",
   "execution_count": 20,
   "metadata": {},
   "outputs": [
    {
     "name": "stdout",
     "output_type": "stream",
     "text": [
      "Train on 257280 samples, validate on 64320 samples\n",
      "Epoch 1/20\n",
      "257280/257280 [==============================] - 28s 110us/step - loss: 0.5427 - acc: 0.7207 - val_loss: 0.5133 - val_acc: 0.7434\n",
      "Epoch 2/20\n",
      "257280/257280 [==============================] - 28s 110us/step - loss: 0.4823 - acc: 0.7663 - val_loss: 0.4971 - val_acc: 0.7559\n",
      "Epoch 3/20\n",
      "257280/257280 [==============================] - 28s 109us/step - loss: 0.4456 - acc: 0.7905 - val_loss: 0.4891 - val_acc: 0.7636\n",
      "Epoch 4/20\n",
      "257280/257280 [==============================] - 28s 109us/step - loss: 0.4165 - acc: 0.8090 - val_loss: 0.4887 - val_acc: 0.7682\n",
      "Epoch 5/20\n",
      "257280/257280 [==============================] - 28s 110us/step - loss: 0.3942 - acc: 0.8223 - val_loss: 0.5560 - val_acc: 0.7390\n",
      "Epoch 6/20\n",
      "257280/257280 [==============================] - 28s 111us/step - loss: 0.3754 - acc: 0.8323 - val_loss: 0.5010 - val_acc: 0.7702\n",
      "Epoch 7/20\n",
      "257280/257280 [==============================] - 29s 112us/step - loss: 0.3600 - acc: 0.8414 - val_loss: 0.5057 - val_acc: 0.7715\n",
      "Epoch 8/20\n",
      "257280/257280 [==============================] - 28s 110us/step - loss: 0.3462 - acc: 0.8489 - val_loss: 0.5183 - val_acc: 0.7698\n",
      "Epoch 9/20\n",
      "257280/257280 [==============================] - 29s 111us/step - loss: 0.3355 - acc: 0.8547 - val_loss: 0.5241 - val_acc: 0.7719\n",
      "Epoch 10/20\n",
      "257280/257280 [==============================] - 28s 111us/step - loss: 0.3246 - acc: 0.8599 - val_loss: 0.5362 - val_acc: 0.7709\n",
      "Epoch 11/20\n",
      "257280/257280 [==============================] - 28s 110us/step - loss: 0.3151 - acc: 0.8655 - val_loss: 0.5978 - val_acc: 0.7499\n",
      "Epoch 12/20\n",
      "257280/257280 [==============================] - 28s 110us/step - loss: 0.3069 - acc: 0.8686 - val_loss: 0.5602 - val_acc: 0.7674\n",
      "Epoch 13/20\n",
      "257280/257280 [==============================] - 28s 110us/step - loss: 0.2991 - acc: 0.8731 - val_loss: 0.5714 - val_acc: 0.7688\n",
      "Epoch 14/20\n",
      "257280/257280 [==============================] - 28s 110us/step - loss: 0.2928 - acc: 0.8767 - val_loss: 0.5760 - val_acc: 0.7725\n",
      "Epoch 15/20\n",
      "257280/257280 [==============================] - 28s 110us/step - loss: 0.2860 - acc: 0.8800 - val_loss: 0.5809 - val_acc: 0.7735\n",
      "Epoch 16/20\n",
      "257280/257280 [==============================] - 28s 110us/step - loss: 0.2806 - acc: 0.8823 - val_loss: 0.6198 - val_acc: 0.7626\n",
      "Epoch 17/20\n",
      "257280/257280 [==============================] - 28s 110us/step - loss: 0.2742 - acc: 0.8854 - val_loss: 0.6013 - val_acc: 0.7716\n",
      "Epoch 18/20\n",
      "257280/257280 [==============================] - 29s 111us/step - loss: 0.2709 - acc: 0.8868 - val_loss: 0.6079 - val_acc: 0.7730\n",
      "Epoch 19/20\n",
      "257280/257280 [==============================] - 28s 110us/step - loss: 0.2639 - acc: 0.8895 - val_loss: 0.6204 - val_acc: 0.7725\n",
      "Epoch 20/20\n",
      "257280/257280 [==============================] - 28s 110us/step - loss: 0.2593 - acc: 0.8927 - val_loss: 0.6248 - val_acc: 0.7737\n",
      "158400/158400 [==============================] - 11s 68us/step\n"
     ]
    }
   ],
   "source": [
    "history = model.fit(X_train, y_train, batch_size=128, epochs=20, verbose=1, validation_split=0.2)\n",
    "\n",
    "score = model.evaluate(X_test, y_test, verbose=1)"
   ]
  },
  {
   "cell_type": "code",
   "execution_count": 21,
   "metadata": {},
   "outputs": [
    {
     "name": "stdout",
     "output_type": "stream",
     "text": [
      "Test Score: 0.6166203731388756\n",
      "Test Accuracy: 0.7780176997184753\n"
     ]
    }
   ],
   "source": [
    "print(\"Test Score:\", score[0])\n",
    "print(\"Test Accuracy:\", score[1])"
   ]
  },
  {
   "cell_type": "code",
   "execution_count": 22,
   "metadata": {},
   "outputs": [
    {
     "data": {
      "image/png": "[encoded data removed]",
      "text/plain": [
       "<Figure size 432x288 with 1 Axes>"
      ]
     },
     "metadata": {
      "needs_background": "light"
     },
     "output_type": "display_data"
    },
    {
     "data": {
      "image/png": "[encoded data removed]",
      "text/plain": [
       "<Figure size 432x288 with 1 Axes>"
      ]
     },
     "metadata": {
      "needs_background": "light"
     },
     "output_type": "display_data"
    }
   ],
   "source": [
    "plt.plot(history.history['acc'])\n",
    "plt.plot(history.history['val_acc'])\n",
    "\n",
    "plt.title('Model Accuracy')\n",
    "plt.ylabel('Accuracy')\n",
    "plt.xlabel('Epoch')\n",
    "plt.legend(['train','test'], loc='upper right')\n",
    "plt.show()\n",
    "\n",
    "plt.plot(history.history['loss'])\n",
    "plt.plot(history.history['val_loss'])\n",
    "\n",
    "plt.title('Model Loss')\n",
    "plt.ylabel('Loss')\n",
    "plt.xlabel('Epoch')\n",
    "plt.legend(['train','test'], loc='upper right')\n",
    "plt.show()"
   ]
  },
  {
   "cell_type": "code",
   "execution_count": 29,
   "metadata": {},
   "outputs": [],
   "source": [
    "model = Sequential()\n",
    "embedding_layer = Embedding(vocab_size, 100, weights=[embedding_matrix], input_length=maxlen , trainable=False)\n",
    "model.add(embedding_layer)\n",
    "model.add(LSTM(256))\n",
    "\n",
    "model.add(Dense(1, activation='sigmoid'))\n",
    "model.compile(optimizer='adam', loss='binary_crossentropy', metrics=['acc'])"
   ]
  },
  {
   "cell_type": "code",
   "execution_count": 30,
   "metadata": {},
   "outputs": [
    {
     "name": "stdout",
     "output_type": "stream",
     "text": [
      "Model: \"sequential_4\"\n",
      "_________________________________________________________________\n",
      "Layer (type)                 Output Shape              Param #   \n",
      "=================================================================\n",
      "embedding_4 (Embedding)      (None, 30, 100)           11320900  \n",
      "_________________________________________________________________\n",
      "lstm_2 (LSTM)                (None, 256)               365568    \n",
      "_________________________________________________________________\n",
      "dense_4 (Dense)              (None, 1)                 257       \n",
      "=================================================================\n",
      "Total params: 11,686,725\n",
      "Trainable params: 365,825\n",
      "Non-trainable params: 11,320,900\n",
      "_________________________________________________________________\n",
      "None\n"
     ]
    }
   ],
   "source": [
    "print(model.summary())"
   ]
  },
  {
   "cell_type": "code",
   "execution_count": 31,
   "metadata": {},
   "outputs": [
    {
     "name": "stdout",
     "output_type": "stream",
     "text": [
      "Train on 257280 samples, validate on 64320 samples\n",
      "Epoch 1/20\n",
      "257280/257280 [==============================] - 270s 1ms/step - loss: 0.5459 - acc: 0.7190 - val_loss: 0.5176 - val_acc: 0.7390\n",
      "Epoch 2/20\n",
      "257280/257280 [==============================] - 263s 1ms/step - loss: 0.4845 - acc: 0.7633 - val_loss: 0.4775 - val_acc: 0.7706\n",
      "Epoch 3/20\n",
      "257280/257280 [==============================] - 265s 1ms/step - loss: 0.4495 - acc: 0.7847 - val_loss: 0.4563 - val_acc: 0.7819\n",
      "Epoch 4/20\n",
      "257280/257280 [==============================] - 267s 1ms/step - loss: 0.4159 - acc: 0.8064 - val_loss: 0.4433 - val_acc: 0.7904\n",
      "Epoch 5/20\n",
      "257280/257280 [==============================] - 268s 1ms/step - loss: 0.3787 - acc: 0.8273 - val_loss: 0.4440 - val_acc: 0.7905\n",
      "Epoch 6/20\n",
      "257280/257280 [==============================] - 270s 1ms/step - loss: 0.3399 - acc: 0.8497 - val_loss: 0.4413 - val_acc: 0.8027\n",
      "Epoch 7/20\n",
      "257280/257280 [==============================] - 270s 1ms/step - loss: 0.3004 - acc: 0.8714 - val_loss: 0.4414 - val_acc: 0.8082\n",
      "Epoch 8/20\n",
      "257280/257280 [==============================] - 270s 1ms/step - loss: 0.2627 - acc: 0.8906 - val_loss: 0.4959 - val_acc: 0.8100\n",
      "Epoch 9/20\n",
      "257280/257280 [==============================] - 271s 1ms/step - loss: 0.2306 - acc: 0.9066 - val_loss: 0.5045 - val_acc: 0.8146\n",
      "Epoch 10/20\n",
      "257280/257280 [==============================] - 269s 1ms/step - loss: 0.2004 - acc: 0.9209 - val_loss: 0.5122 - val_acc: 0.8140\n",
      "Epoch 11/20\n",
      "257280/257280 [==============================] - 270s 1ms/step - loss: 0.1769 - acc: 0.9317 - val_loss: 0.5487 - val_acc: 0.8148\n",
      "Epoch 12/20\n",
      "257280/257280 [==============================] - 269s 1ms/step - loss: 0.1560 - acc: 0.9408 - val_loss: 0.5627 - val_acc: 0.8161\n",
      "Epoch 13/20\n",
      "257280/257280 [==============================] - 271s 1ms/step - loss: 0.1384 - acc: 0.9483 - val_loss: 0.6020 - val_acc: 0.8181\n",
      "Epoch 14/20\n",
      "257280/257280 [==============================] - 270s 1ms/step - loss: 0.1228 - acc: 0.9551 - val_loss: 0.6557 - val_acc: 0.8199\n",
      "Epoch 15/20\n",
      "257280/257280 [==============================] - 270s 1ms/step - loss: 0.1115 - acc: 0.9599 - val_loss: 0.6955 - val_acc: 0.8212\n",
      "Epoch 16/20\n",
      "257280/257280 [==============================] - 271s 1ms/step - loss: 0.0993 - acc: 0.9646 - val_loss: 0.6901 - val_acc: 0.8212\n",
      "Epoch 17/20\n",
      "257280/257280 [==============================] - 270s 1ms/step - loss: 0.0915 - acc: 0.9675 - val_loss: 0.6777 - val_acc: 0.8198\n",
      "Epoch 18/20\n",
      "257280/257280 [==============================] - 271s 1ms/step - loss: 0.0827 - acc: 0.9710 - val_loss: 0.7391 - val_acc: 0.8209\n",
      "Epoch 19/20\n",
      "257280/257280 [==============================] - 270s 1ms/step - loss: 0.0771 - acc: 0.9731 - val_loss: 0.7517 - val_acc: 0.8219\n",
      "Epoch 20/20\n",
      "257280/257280 [==============================] - 270s 1ms/step - loss: 0.0714 - acc: 0.9751 - val_loss: 0.7402 - val_acc: 0.8171\n"
     ]
    }
   ],
   "source": [
    "history = model.fit(X_train, y_train, batch_size=128, epochs=20, verbose=1, validation_split=0.2)"
   ]
  },
  {
   "cell_type": "code",
   "execution_count": 32,
   "metadata": {},
   "outputs": [
    {
     "name": "stdout",
     "output_type": "stream",
     "text": [
      "158400/158400 [==============================] - 99s 624us/step\n"
     ]
    }
   ],
   "source": [
    "score = model.evaluate(X_test, y_test, verbose=1)"
   ]
  },
  {
   "cell_type": "code",
   "execution_count": 33,
   "metadata": {},
   "outputs": [
    {
     "name": "stdout",
     "output_type": "stream",
     "text": [
      "Test Score: 0.7350656364589102\n",
      "Test Accuracy: 0.8174558281898499\n"
     ]
    }
   ],
   "source": [
    "print(\"Test Score:\", score[0])\n",
    "print(\"Test Accuracy:\", score[1])"
   ]
  },
  {
   "cell_type": "code",
   "execution_count": 34,
   "metadata": {},
   "outputs": [
    {
     "name": "stdout",
     "output_type": "stream",
     "text": [
      "Test Accuracy: 0.8174558281898499\n"
     ]
    },
    {
     "data": {
      "image/png": "[encoded data removed]",
      "text/plain": [
       "<Figure size 432x288 with 1 Axes>"
      ]
     },
     "metadata": {
      "needs_background": "light"
     },
     "output_type": "display_data"
    },
    {
     "data": {
      "image/png": "[encoded data removed]",
      "text/plain": [
       "<Figure size 432x288 with 1 Axes>"
      ]
     },
     "metadata": {
      "needs_background": "light"
     },
     "output_type": "display_data"
    }
   ],
   "source": [
    "plt.plot(history.history['acc'])\n",
    "plt.plot(history.history['val_acc'])\n",
    "\n",
    "plt.title('Model Accuracy')\n",
    "plt.ylabel('Accuracy')\n",
    "plt.xlabel('Epoch')\n",
    "plt.legend(['train','test'], loc='upper right')\n",
    "plt.show()\n",
    "\n",
    "plt.plot(history.history['loss'])\n",
    "plt.plot(history.history['val_loss'])\n",
    "\n",
    "plt.title('Model Loss')\n",
    "plt.ylabel('Loss')\n",
    "plt.xlabel('Epoch')\n",
    "plt.legend(['train','test'], loc='upper right')\n",
    "plt.show()"
   ]
  },
  {
   "cell_type": "code",
   "execution_count": null,
   "metadata": {},
   "outputs": [],
   "source": []
  }
 ],
 "metadata": {
  "kernelspec": {
   "display_name": "Python 3",
   "language": "python",
   "name": "python3"
  },
  "language_info": {
   "codemirror_mode": {
    "name": "ipython",
    "version": 3
   },
   "file_extension": ".py",
   "mimetype": "text/x-python",
   "name": "python",
   "nbconvert_exporter": "python",
   "pygments_lexer": "ipython3",
   "version": "3.7.4"
  }
 },
 "nbformat": 4,
 "nbformat_minor": 2
}
