{
 "cells": [
  {
   "cell_type": "markdown",
   "metadata": {},
   "source": [
    "<h1> Project 2 - Ames Housing Data and Kaggle Challenge</h1>\n",
    "\n"
   ]
  },
  {
   "cell_type": "markdown",
   "metadata": {},
   "source": [
    "Problem Statement: We are tasked with creating a regression model based on the Ames Housing Dataset. This model will predict the price of a house at sale. <br>\n",
    "\n",
    "<a class=\"anchor\" id=\"title\"></a>\n",
    "<b> Table of Contents: </b>\n",
    "\n",
    "[1.Importing Libraries](#first-section) <br>\n",
    "[2.Reading/Displaying and Data Cleaning](#second-section)<br>\n",
    "[3.Exploratory Data Analysis](#third-section)<br>\n",
    "[4.Scatter Plotting](#fourth-section)<br>\n",
    "[5.Modelling](#fifth-section)<br>\n",
    "&emsp; [MLR with 1 predictor](#sixth-section) <br>\n",
    "&emsp; [MLR with 5 predictor](#seventh-section) <br>\n",
    "&emsp; [MLR with 10 predictor](#eighth-section) <br>\n",
    "&emsp; [Ridge/Lasso Regression](#ninth-section) <br>\n",
    "[6.Submission](#tenth-section)<br>"
   ]
  },
  {
   "cell_type": "markdown",
   "metadata": {},
   "source": [
    "<a class=\"anchor\" id=\"first-section\"></a>\n",
    "\n",
    "<b> 1. Importing the neccessary libraries needed: </b>"
   ]
  },
  {
   "cell_type": "code",
   "execution_count": 1,
   "metadata": {},
   "outputs": [],
   "source": [
    "import numpy as np\n",
    "import pandas as pd\n",
    "import matplotlib.pyplot as plt\n",
    "import seaborn as sns\n",
    "from sklearn import metrics\n",
    "from sklearn import linear_model\n",
    "from sklearn.linear_model import LinearRegression, Lasso, LassoCV, Ridge, RidgeCV\n",
    "from sklearn.preprocessing import PolynomialFeatures, StandardScaler\n",
    "from sklearn.metrics import mean_squared_error, r2_score\n",
    "from sklearn.model_selection import train_test_split, cross_val_score, KFold\n",
    "\n",
    "pd.set_option('display.max_rows',500)\n",
    "pd.set_option('display.max_columns',500)"
   ]
  },
  {
   "cell_type": "markdown",
   "metadata": {},
   "source": [
    "[Return to Table of Contents](#title)"
   ]
  },
  {
   "cell_type": "markdown",
   "metadata": {},
   "source": [
    "<a class=\"anchor\" id=\"second-section\"></a>\n",
    "\n",
    "<b> 2. Reading and displaying data, Data Cleaning</b>"
   ]
  },
  {
   "cell_type": "markdown",
   "metadata": {},
   "source": [
    "Loading csv files into DataFrames:"
   ]
  },
  {
   "cell_type": "code",
   "execution_count": 2,
   "metadata": {},
   "outputs": [],
   "source": [
    "train = pd.read_csv('./datasets/train.csv')\n",
    "test = pd.read_csv('./datasets/test.csv')"
   ]
  },
  {
   "cell_type": "markdown",
   "metadata": {},
   "source": [
    "Displaying first 5 rows of data to see that data has been loaded in:"
   ]
  },
  {
   "cell_type": "code",
   "execution_count": 3,
   "metadata": {
    "scrolled": false
   },
   "outputs": [
    {
     "data": {
      "text/html": [
       "<div>\n",
       "<style scoped>\n",
       "    .dataframe tbody tr th:only-of-type {\n",
       "        vertical-align: middle;\n",
       "    }\n",
       "\n",
       "    .dataframe tbody tr th {\n",
       "        vertical-align: top;\n",
       "    }\n",
       "\n",
       "    .dataframe thead th {\n",
       "        text-align: right;\n",
       "    }\n",
       "</style>\n",
       "<table border=\"1\" class=\"dataframe\">\n",
       "  <thead>\n",
       "    <tr style=\"text-align: right;\">\n",
       "      <th></th>\n",
       "      <th>Id</th>\n",
       "      <th>PID</th>\n",
       "      <th>MS SubClass</th>\n",
       "      <th>MS Zoning</th>\n",
       "      <th>Lot Frontage</th>\n",
       "      <th>Lot Area</th>\n",
       "      <th>Street</th>\n",
       "      <th>Alley</th>\n",
       "      <th>Lot Shape</th>\n",
       "      <th>Land Contour</th>\n",
       "      <th>Utilities</th>\n",
       "      <th>Lot Config</th>\n",
       "      <th>Land Slope</th>\n",
       "      <th>Neighborhood</th>\n",
       "      <th>Condition 1</th>\n",
       "      <th>Condition 2</th>\n",
       "      <th>Bldg Type</th>\n",
       "      <th>House Style</th>\n",
       "      <th>Overall Qual</th>\n",
       "      <th>Overall Cond</th>\n",
       "      <th>Year Built</th>\n",
       "      <th>Year Remod/Add</th>\n",
       "      <th>Roof Style</th>\n",
       "      <th>Roof Matl</th>\n",
       "      <th>Exterior 1st</th>\n",
       "      <th>Exterior 2nd</th>\n",
       "      <th>Mas Vnr Type</th>\n",
       "      <th>Mas Vnr Area</th>\n",
       "      <th>Exter Qual</th>\n",
       "      <th>Exter Cond</th>\n",
       "      <th>Foundation</th>\n",
       "      <th>Bsmt Qual</th>\n",
       "      <th>Bsmt Cond</th>\n",
       "      <th>Bsmt Exposure</th>\n",
       "      <th>BsmtFin Type 1</th>\n",
       "      <th>BsmtFin SF 1</th>\n",
       "      <th>BsmtFin Type 2</th>\n",
       "      <th>BsmtFin SF 2</th>\n",
       "      <th>Bsmt Unf SF</th>\n",
       "      <th>Total Bsmt SF</th>\n",
       "      <th>Heating</th>\n",
       "      <th>Heating QC</th>\n",
       "      <th>Central Air</th>\n",
       "      <th>Electrical</th>\n",
       "      <th>1st Flr SF</th>\n",
       "      <th>2nd Flr SF</th>\n",
       "      <th>Low Qual Fin SF</th>\n",
       "      <th>Gr Liv Area</th>\n",
       "      <th>Bsmt Full Bath</th>\n",
       "      <th>Bsmt Half Bath</th>\n",
       "      <th>Full Bath</th>\n",
       "      <th>Half Bath</th>\n",
       "      <th>Bedroom AbvGr</th>\n",
       "      <th>Kitchen AbvGr</th>\n",
       "      <th>Kitchen Qual</th>\n",
       "      <th>TotRms AbvGrd</th>\n",
       "      <th>Functional</th>\n",
       "      <th>Fireplaces</th>\n",
       "      <th>Fireplace Qu</th>\n",
       "      <th>Garage Type</th>\n",
       "      <th>Garage Yr Blt</th>\n",
       "      <th>Garage Finish</th>\n",
       "      <th>Garage Cars</th>\n",
       "      <th>Garage Area</th>\n",
       "      <th>Garage Qual</th>\n",
       "      <th>Garage Cond</th>\n",
       "      <th>Paved Drive</th>\n",
       "      <th>Wood Deck SF</th>\n",
       "      <th>Open Porch SF</th>\n",
       "      <th>Enclosed Porch</th>\n",
       "      <th>3Ssn Porch</th>\n",
       "      <th>Screen Porch</th>\n",
       "      <th>Pool Area</th>\n",
       "      <th>Pool QC</th>\n",
       "      <th>Fence</th>\n",
       "      <th>Misc Feature</th>\n",
       "      <th>Misc Val</th>\n",
       "      <th>Mo Sold</th>\n",
       "      <th>Yr Sold</th>\n",
       "      <th>Sale Type</th>\n",
       "      <th>SalePrice</th>\n",
       "    </tr>\n",
       "  </thead>\n",
       "  <tbody>\n",
       "    <tr>\n",
       "      <th>0</th>\n",
       "      <td>109</td>\n",
       "      <td>533352170</td>\n",
       "      <td>60</td>\n",
       "      <td>RL</td>\n",
       "      <td>NaN</td>\n",
       "      <td>13517</td>\n",
       "      <td>Pave</td>\n",
       "      <td>NaN</td>\n",
       "      <td>IR1</td>\n",
       "      <td>Lvl</td>\n",
       "      <td>AllPub</td>\n",
       "      <td>CulDSac</td>\n",
       "      <td>Gtl</td>\n",
       "      <td>Sawyer</td>\n",
       "      <td>RRAe</td>\n",
       "      <td>Norm</td>\n",
       "      <td>1Fam</td>\n",
       "      <td>2Story</td>\n",
       "      <td>6</td>\n",
       "      <td>8</td>\n",
       "      <td>1976</td>\n",
       "      <td>2005</td>\n",
       "      <td>Gable</td>\n",
       "      <td>CompShg</td>\n",
       "      <td>HdBoard</td>\n",
       "      <td>Plywood</td>\n",
       "      <td>BrkFace</td>\n",
       "      <td>289.0</td>\n",
       "      <td>Gd</td>\n",
       "      <td>TA</td>\n",
       "      <td>CBlock</td>\n",
       "      <td>TA</td>\n",
       "      <td>TA</td>\n",
       "      <td>No</td>\n",
       "      <td>GLQ</td>\n",
       "      <td>533.0</td>\n",
       "      <td>Unf</td>\n",
       "      <td>0.0</td>\n",
       "      <td>192.0</td>\n",
       "      <td>725.0</td>\n",
       "      <td>GasA</td>\n",
       "      <td>Ex</td>\n",
       "      <td>Y</td>\n",
       "      <td>SBrkr</td>\n",
       "      <td>725</td>\n",
       "      <td>754</td>\n",
       "      <td>0</td>\n",
       "      <td>1479</td>\n",
       "      <td>0.0</td>\n",
       "      <td>0.0</td>\n",
       "      <td>2</td>\n",
       "      <td>1</td>\n",
       "      <td>3</td>\n",
       "      <td>1</td>\n",
       "      <td>Gd</td>\n",
       "      <td>6</td>\n",
       "      <td>Typ</td>\n",
       "      <td>0</td>\n",
       "      <td>NaN</td>\n",
       "      <td>Attchd</td>\n",
       "      <td>1976.0</td>\n",
       "      <td>RFn</td>\n",
       "      <td>2.0</td>\n",
       "      <td>475.0</td>\n",
       "      <td>TA</td>\n",
       "      <td>TA</td>\n",
       "      <td>Y</td>\n",
       "      <td>0</td>\n",
       "      <td>44</td>\n",
       "      <td>0</td>\n",
       "      <td>0</td>\n",
       "      <td>0</td>\n",
       "      <td>0</td>\n",
       "      <td>NaN</td>\n",
       "      <td>NaN</td>\n",
       "      <td>NaN</td>\n",
       "      <td>0</td>\n",
       "      <td>3</td>\n",
       "      <td>2010</td>\n",
       "      <td>WD</td>\n",
       "      <td>130500</td>\n",
       "    </tr>\n",
       "    <tr>\n",
       "      <th>1</th>\n",
       "      <td>544</td>\n",
       "      <td>531379050</td>\n",
       "      <td>60</td>\n",
       "      <td>RL</td>\n",
       "      <td>43.0</td>\n",
       "      <td>11492</td>\n",
       "      <td>Pave</td>\n",
       "      <td>NaN</td>\n",
       "      <td>IR1</td>\n",
       "      <td>Lvl</td>\n",
       "      <td>AllPub</td>\n",
       "      <td>CulDSac</td>\n",
       "      <td>Gtl</td>\n",
       "      <td>SawyerW</td>\n",
       "      <td>Norm</td>\n",
       "      <td>Norm</td>\n",
       "      <td>1Fam</td>\n",
       "      <td>2Story</td>\n",
       "      <td>7</td>\n",
       "      <td>5</td>\n",
       "      <td>1996</td>\n",
       "      <td>1997</td>\n",
       "      <td>Gable</td>\n",
       "      <td>CompShg</td>\n",
       "      <td>VinylSd</td>\n",
       "      <td>VinylSd</td>\n",
       "      <td>BrkFace</td>\n",
       "      <td>132.0</td>\n",
       "      <td>Gd</td>\n",
       "      <td>TA</td>\n",
       "      <td>PConc</td>\n",
       "      <td>Gd</td>\n",
       "      <td>TA</td>\n",
       "      <td>No</td>\n",
       "      <td>GLQ</td>\n",
       "      <td>637.0</td>\n",
       "      <td>Unf</td>\n",
       "      <td>0.0</td>\n",
       "      <td>276.0</td>\n",
       "      <td>913.0</td>\n",
       "      <td>GasA</td>\n",
       "      <td>Ex</td>\n",
       "      <td>Y</td>\n",
       "      <td>SBrkr</td>\n",
       "      <td>913</td>\n",
       "      <td>1209</td>\n",
       "      <td>0</td>\n",
       "      <td>2122</td>\n",
       "      <td>1.0</td>\n",
       "      <td>0.0</td>\n",
       "      <td>2</td>\n",
       "      <td>1</td>\n",
       "      <td>4</td>\n",
       "      <td>1</td>\n",
       "      <td>Gd</td>\n",
       "      <td>8</td>\n",
       "      <td>Typ</td>\n",
       "      <td>1</td>\n",
       "      <td>TA</td>\n",
       "      <td>Attchd</td>\n",
       "      <td>1997.0</td>\n",
       "      <td>RFn</td>\n",
       "      <td>2.0</td>\n",
       "      <td>559.0</td>\n",
       "      <td>TA</td>\n",
       "      <td>TA</td>\n",
       "      <td>Y</td>\n",
       "      <td>0</td>\n",
       "      <td>74</td>\n",
       "      <td>0</td>\n",
       "      <td>0</td>\n",
       "      <td>0</td>\n",
       "      <td>0</td>\n",
       "      <td>NaN</td>\n",
       "      <td>NaN</td>\n",
       "      <td>NaN</td>\n",
       "      <td>0</td>\n",
       "      <td>4</td>\n",
       "      <td>2009</td>\n",
       "      <td>WD</td>\n",
       "      <td>220000</td>\n",
       "    </tr>\n",
       "    <tr>\n",
       "      <th>2</th>\n",
       "      <td>153</td>\n",
       "      <td>535304180</td>\n",
       "      <td>20</td>\n",
       "      <td>RL</td>\n",
       "      <td>68.0</td>\n",
       "      <td>7922</td>\n",
       "      <td>Pave</td>\n",
       "      <td>NaN</td>\n",
       "      <td>Reg</td>\n",
       "      <td>Lvl</td>\n",
       "      <td>AllPub</td>\n",
       "      <td>Inside</td>\n",
       "      <td>Gtl</td>\n",
       "      <td>NAmes</td>\n",
       "      <td>Norm</td>\n",
       "      <td>Norm</td>\n",
       "      <td>1Fam</td>\n",
       "      <td>1Story</td>\n",
       "      <td>5</td>\n",
       "      <td>7</td>\n",
       "      <td>1953</td>\n",
       "      <td>2007</td>\n",
       "      <td>Gable</td>\n",
       "      <td>CompShg</td>\n",
       "      <td>VinylSd</td>\n",
       "      <td>VinylSd</td>\n",
       "      <td>None</td>\n",
       "      <td>0.0</td>\n",
       "      <td>TA</td>\n",
       "      <td>Gd</td>\n",
       "      <td>CBlock</td>\n",
       "      <td>TA</td>\n",
       "      <td>TA</td>\n",
       "      <td>No</td>\n",
       "      <td>GLQ</td>\n",
       "      <td>731.0</td>\n",
       "      <td>Unf</td>\n",
       "      <td>0.0</td>\n",
       "      <td>326.0</td>\n",
       "      <td>1057.0</td>\n",
       "      <td>GasA</td>\n",
       "      <td>TA</td>\n",
       "      <td>Y</td>\n",
       "      <td>SBrkr</td>\n",
       "      <td>1057</td>\n",
       "      <td>0</td>\n",
       "      <td>0</td>\n",
       "      <td>1057</td>\n",
       "      <td>1.0</td>\n",
       "      <td>0.0</td>\n",
       "      <td>1</td>\n",
       "      <td>0</td>\n",
       "      <td>3</td>\n",
       "      <td>1</td>\n",
       "      <td>Gd</td>\n",
       "      <td>5</td>\n",
       "      <td>Typ</td>\n",
       "      <td>0</td>\n",
       "      <td>NaN</td>\n",
       "      <td>Detchd</td>\n",
       "      <td>1953.0</td>\n",
       "      <td>Unf</td>\n",
       "      <td>1.0</td>\n",
       "      <td>246.0</td>\n",
       "      <td>TA</td>\n",
       "      <td>TA</td>\n",
       "      <td>Y</td>\n",
       "      <td>0</td>\n",
       "      <td>52</td>\n",
       "      <td>0</td>\n",
       "      <td>0</td>\n",
       "      <td>0</td>\n",
       "      <td>0</td>\n",
       "      <td>NaN</td>\n",
       "      <td>NaN</td>\n",
       "      <td>NaN</td>\n",
       "      <td>0</td>\n",
       "      <td>1</td>\n",
       "      <td>2010</td>\n",
       "      <td>WD</td>\n",
       "      <td>109000</td>\n",
       "    </tr>\n",
       "    <tr>\n",
       "      <th>3</th>\n",
       "      <td>318</td>\n",
       "      <td>916386060</td>\n",
       "      <td>60</td>\n",
       "      <td>RL</td>\n",
       "      <td>73.0</td>\n",
       "      <td>9802</td>\n",
       "      <td>Pave</td>\n",
       "      <td>NaN</td>\n",
       "      <td>Reg</td>\n",
       "      <td>Lvl</td>\n",
       "      <td>AllPub</td>\n",
       "      <td>Inside</td>\n",
       "      <td>Gtl</td>\n",
       "      <td>Timber</td>\n",
       "      <td>Norm</td>\n",
       "      <td>Norm</td>\n",
       "      <td>1Fam</td>\n",
       "      <td>2Story</td>\n",
       "      <td>5</td>\n",
       "      <td>5</td>\n",
       "      <td>2006</td>\n",
       "      <td>2007</td>\n",
       "      <td>Gable</td>\n",
       "      <td>CompShg</td>\n",
       "      <td>VinylSd</td>\n",
       "      <td>VinylSd</td>\n",
       "      <td>None</td>\n",
       "      <td>0.0</td>\n",
       "      <td>TA</td>\n",
       "      <td>TA</td>\n",
       "      <td>PConc</td>\n",
       "      <td>Gd</td>\n",
       "      <td>TA</td>\n",
       "      <td>No</td>\n",
       "      <td>Unf</td>\n",
       "      <td>0.0</td>\n",
       "      <td>Unf</td>\n",
       "      <td>0.0</td>\n",
       "      <td>384.0</td>\n",
       "      <td>384.0</td>\n",
       "      <td>GasA</td>\n",
       "      <td>Gd</td>\n",
       "      <td>Y</td>\n",
       "      <td>SBrkr</td>\n",
       "      <td>744</td>\n",
       "      <td>700</td>\n",
       "      <td>0</td>\n",
       "      <td>1444</td>\n",
       "      <td>0.0</td>\n",
       "      <td>0.0</td>\n",
       "      <td>2</td>\n",
       "      <td>1</td>\n",
       "      <td>3</td>\n",
       "      <td>1</td>\n",
       "      <td>TA</td>\n",
       "      <td>7</td>\n",
       "      <td>Typ</td>\n",
       "      <td>0</td>\n",
       "      <td>NaN</td>\n",
       "      <td>BuiltIn</td>\n",
       "      <td>2007.0</td>\n",
       "      <td>Fin</td>\n",
       "      <td>2.0</td>\n",
       "      <td>400.0</td>\n",
       "      <td>TA</td>\n",
       "      <td>TA</td>\n",
       "      <td>Y</td>\n",
       "      <td>100</td>\n",
       "      <td>0</td>\n",
       "      <td>0</td>\n",
       "      <td>0</td>\n",
       "      <td>0</td>\n",
       "      <td>0</td>\n",
       "      <td>NaN</td>\n",
       "      <td>NaN</td>\n",
       "      <td>NaN</td>\n",
       "      <td>0</td>\n",
       "      <td>4</td>\n",
       "      <td>2010</td>\n",
       "      <td>WD</td>\n",
       "      <td>174000</td>\n",
       "    </tr>\n",
       "    <tr>\n",
       "      <th>4</th>\n",
       "      <td>255</td>\n",
       "      <td>906425045</td>\n",
       "      <td>50</td>\n",
       "      <td>RL</td>\n",
       "      <td>82.0</td>\n",
       "      <td>14235</td>\n",
       "      <td>Pave</td>\n",
       "      <td>NaN</td>\n",
       "      <td>IR1</td>\n",
       "      <td>Lvl</td>\n",
       "      <td>AllPub</td>\n",
       "      <td>Inside</td>\n",
       "      <td>Gtl</td>\n",
       "      <td>SawyerW</td>\n",
       "      <td>Norm</td>\n",
       "      <td>Norm</td>\n",
       "      <td>1Fam</td>\n",
       "      <td>1.5Fin</td>\n",
       "      <td>6</td>\n",
       "      <td>8</td>\n",
       "      <td>1900</td>\n",
       "      <td>1993</td>\n",
       "      <td>Gable</td>\n",
       "      <td>CompShg</td>\n",
       "      <td>Wd Sdng</td>\n",
       "      <td>Plywood</td>\n",
       "      <td>None</td>\n",
       "      <td>0.0</td>\n",
       "      <td>TA</td>\n",
       "      <td>TA</td>\n",
       "      <td>PConc</td>\n",
       "      <td>Fa</td>\n",
       "      <td>Gd</td>\n",
       "      <td>No</td>\n",
       "      <td>Unf</td>\n",
       "      <td>0.0</td>\n",
       "      <td>Unf</td>\n",
       "      <td>0.0</td>\n",
       "      <td>676.0</td>\n",
       "      <td>676.0</td>\n",
       "      <td>GasA</td>\n",
       "      <td>TA</td>\n",
       "      <td>Y</td>\n",
       "      <td>SBrkr</td>\n",
       "      <td>831</td>\n",
       "      <td>614</td>\n",
       "      <td>0</td>\n",
       "      <td>1445</td>\n",
       "      <td>0.0</td>\n",
       "      <td>0.0</td>\n",
       "      <td>2</td>\n",
       "      <td>0</td>\n",
       "      <td>3</td>\n",
       "      <td>1</td>\n",
       "      <td>TA</td>\n",
       "      <td>6</td>\n",
       "      <td>Typ</td>\n",
       "      <td>0</td>\n",
       "      <td>NaN</td>\n",
       "      <td>Detchd</td>\n",
       "      <td>1957.0</td>\n",
       "      <td>Unf</td>\n",
       "      <td>2.0</td>\n",
       "      <td>484.0</td>\n",
       "      <td>TA</td>\n",
       "      <td>TA</td>\n",
       "      <td>N</td>\n",
       "      <td>0</td>\n",
       "      <td>59</td>\n",
       "      <td>0</td>\n",
       "      <td>0</td>\n",
       "      <td>0</td>\n",
       "      <td>0</td>\n",
       "      <td>NaN</td>\n",
       "      <td>NaN</td>\n",
       "      <td>NaN</td>\n",
       "      <td>0</td>\n",
       "      <td>3</td>\n",
       "      <td>2010</td>\n",
       "      <td>WD</td>\n",
       "      <td>138500</td>\n",
       "    </tr>\n",
       "  </tbody>\n",
       "</table>\n",
       "</div>"
      ],
      "text/plain": [
       "    Id        PID  MS SubClass MS Zoning  Lot Frontage  Lot Area Street Alley  \\\n",
       "0  109  533352170           60        RL           NaN     13517   Pave   NaN   \n",
       "1  544  531379050           60        RL          43.0     11492   Pave   NaN   \n",
       "2  153  535304180           20        RL          68.0      7922   Pave   NaN   \n",
       "3  318  916386060           60        RL          73.0      9802   Pave   NaN   \n",
       "4  255  906425045           50        RL          82.0     14235   Pave   NaN   \n",
       "\n",
       "  Lot Shape Land Contour Utilities Lot Config Land Slope Neighborhood  \\\n",
       "0       IR1          Lvl    AllPub    CulDSac        Gtl       Sawyer   \n",
       "1       IR1          Lvl    AllPub    CulDSac        Gtl      SawyerW   \n",
       "2       Reg          Lvl    AllPub     Inside        Gtl        NAmes   \n",
       "3       Reg          Lvl    AllPub     Inside        Gtl       Timber   \n",
       "4       IR1          Lvl    AllPub     Inside        Gtl      SawyerW   \n",
       "\n",
       "  Condition 1 Condition 2 Bldg Type House Style  Overall Qual  Overall Cond  \\\n",
       "0        RRAe        Norm      1Fam      2Story             6             8   \n",
       "1        Norm        Norm      1Fam      2Story             7             5   \n",
       "2        Norm        Norm      1Fam      1Story             5             7   \n",
       "3        Norm        Norm      1Fam      2Story             5             5   \n",
       "4        Norm        Norm      1Fam      1.5Fin             6             8   \n",
       "\n",
       "   Year Built  Year Remod/Add Roof Style Roof Matl Exterior 1st Exterior 2nd  \\\n",
       "0        1976            2005      Gable   CompShg      HdBoard      Plywood   \n",
       "1        1996            1997      Gable   CompShg      VinylSd      VinylSd   \n",
       "2        1953            2007      Gable   CompShg      VinylSd      VinylSd   \n",
       "3        2006            2007      Gable   CompShg      VinylSd      VinylSd   \n",
       "4        1900            1993      Gable   CompShg      Wd Sdng      Plywood   \n",
       "\n",
       "  Mas Vnr Type  Mas Vnr Area Exter Qual Exter Cond Foundation Bsmt Qual  \\\n",
       "0      BrkFace         289.0         Gd         TA     CBlock        TA   \n",
       "1      BrkFace         132.0         Gd         TA      PConc        Gd   \n",
       "2         None           0.0         TA         Gd     CBlock        TA   \n",
       "3         None           0.0         TA         TA      PConc        Gd   \n",
       "4         None           0.0         TA         TA      PConc        Fa   \n",
       "\n",
       "  Bsmt Cond Bsmt Exposure BsmtFin Type 1  BsmtFin SF 1 BsmtFin Type 2  \\\n",
       "0        TA            No            GLQ         533.0            Unf   \n",
       "1        TA            No            GLQ         637.0            Unf   \n",
       "2        TA            No            GLQ         731.0            Unf   \n",
       "3        TA            No            Unf           0.0            Unf   \n",
       "4        Gd            No            Unf           0.0            Unf   \n",
       "\n",
       "   BsmtFin SF 2  Bsmt Unf SF  Total Bsmt SF Heating Heating QC Central Air  \\\n",
       "0           0.0        192.0          725.0    GasA         Ex           Y   \n",
       "1           0.0        276.0          913.0    GasA         Ex           Y   \n",
       "2           0.0        326.0         1057.0    GasA         TA           Y   \n",
       "3           0.0        384.0          384.0    GasA         Gd           Y   \n",
       "4           0.0        676.0          676.0    GasA         TA           Y   \n",
       "\n",
       "  Electrical  1st Flr SF  2nd Flr SF  Low Qual Fin SF  Gr Liv Area  \\\n",
       "0      SBrkr         725         754                0         1479   \n",
       "1      SBrkr         913        1209                0         2122   \n",
       "2      SBrkr        1057           0                0         1057   \n",
       "3      SBrkr         744         700                0         1444   \n",
       "4      SBrkr         831         614                0         1445   \n",
       "\n",
       "   Bsmt Full Bath  Bsmt Half Bath  Full Bath  Half Bath  Bedroom AbvGr  \\\n",
       "0             0.0             0.0          2          1              3   \n",
       "1             1.0             0.0          2          1              4   \n",
       "2             1.0             0.0          1          0              3   \n",
       "3             0.0             0.0          2          1              3   \n",
       "4             0.0             0.0          2          0              3   \n",
       "\n",
       "   Kitchen AbvGr Kitchen Qual  TotRms AbvGrd Functional  Fireplaces  \\\n",
       "0              1           Gd              6        Typ           0   \n",
       "1              1           Gd              8        Typ           1   \n",
       "2              1           Gd              5        Typ           0   \n",
       "3              1           TA              7        Typ           0   \n",
       "4              1           TA              6        Typ           0   \n",
       "\n",
       "  Fireplace Qu Garage Type  Garage Yr Blt Garage Finish  Garage Cars  \\\n",
       "0          NaN      Attchd         1976.0           RFn          2.0   \n",
       "1           TA      Attchd         1997.0           RFn          2.0   \n",
       "2          NaN      Detchd         1953.0           Unf          1.0   \n",
       "3          NaN     BuiltIn         2007.0           Fin          2.0   \n",
       "4          NaN      Detchd         1957.0           Unf          2.0   \n",
       "\n",
       "   Garage Area Garage Qual Garage Cond Paved Drive  Wood Deck SF  \\\n",
       "0        475.0          TA          TA           Y             0   \n",
       "1        559.0          TA          TA           Y             0   \n",
       "2        246.0          TA          TA           Y             0   \n",
       "3        400.0          TA          TA           Y           100   \n",
       "4        484.0          TA          TA           N             0   \n",
       "\n",
       "   Open Porch SF  Enclosed Porch  3Ssn Porch  Screen Porch  Pool Area Pool QC  \\\n",
       "0             44               0           0             0          0     NaN   \n",
       "1             74               0           0             0          0     NaN   \n",
       "2             52               0           0             0          0     NaN   \n",
       "3              0               0           0             0          0     NaN   \n",
       "4             59               0           0             0          0     NaN   \n",
       "\n",
       "  Fence Misc Feature  Misc Val  Mo Sold  Yr Sold Sale Type  SalePrice  \n",
       "0   NaN          NaN         0        3     2010       WD      130500  \n",
       "1   NaN          NaN         0        4     2009       WD      220000  \n",
       "2   NaN          NaN         0        1     2010       WD      109000  \n",
       "3   NaN          NaN         0        4     2010       WD      174000  \n",
       "4   NaN          NaN         0        3     2010       WD      138500  "
      ]
     },
     "execution_count": 3,
     "metadata": {},
     "output_type": "execute_result"
    }
   ],
   "source": [
    "train.head()"
   ]
  },
  {
   "cell_type": "code",
   "execution_count": 4,
   "metadata": {
    "scrolled": false
   },
   "outputs": [
    {
     "name": "stdout",
     "output_type": "stream",
     "text": [
      "(2051, 81)\n",
      "(879, 80)\n"
     ]
    }
   ],
   "source": [
    "print(train.shape)\n",
    "print(test.shape)"
   ]
  },
  {
   "cell_type": "markdown",
   "metadata": {},
   "source": [
    "Drop `PID` once we've loaded the csv into a `DataFrame`."
   ]
  },
  {
   "cell_type": "code",
   "execution_count": 5,
   "metadata": {},
   "outputs": [],
   "source": [
    "train.drop(\"PID\", axis = 1, inplace = True)\n",
    "test.drop(\"PID\", axis = 1, inplace = True)"
   ]
  },
  {
   "cell_type": "markdown",
   "metadata": {},
   "source": [
    "Renaming all columns into something more readable and easy for data analysis:"
   ]
  },
  {
   "cell_type": "code",
   "execution_count": 6,
   "metadata": {},
   "outputs": [],
   "source": [
    "train.columns = [x.lower().replace(' ','_') for x in train.columns]\n",
    "test.columns = [x.lower().replace(' ','_') for x in test.columns]"
   ]
  },
  {
   "cell_type": "markdown",
   "metadata": {},
   "source": [
    "Addressing NaN values in our data set:"
   ]
  },
  {
   "cell_type": "code",
   "execution_count": 7,
   "metadata": {
    "scrolled": true
   },
   "outputs": [
    {
     "data": {
      "text/plain": [
       "pool_qc            2042\n",
       "misc_feature       1986\n",
       "alley              1911\n",
       "fence              1651\n",
       "fireplace_qu       1000\n",
       "lot_frontage        330\n",
       "garage_qual         114\n",
       "garage_finish       114\n",
       "garage_cond         114\n",
       "garage_yr_blt       114\n",
       "garage_type         113\n",
       "bsmt_exposure        58\n",
       "bsmtfin_type_2       56\n",
       "bsmt_cond            55\n",
       "bsmt_qual            55\n",
       "bsmtfin_type_1       55\n",
       "mas_vnr_type         22\n",
       "mas_vnr_area         22\n",
       "bsmt_half_bath        2\n",
       "bsmt_full_bath        2\n",
       "garage_cars           1\n",
       "garage_area           1\n",
       "total_bsmt_sf         1\n",
       "bsmt_unf_sf           1\n",
       "bsmtfin_sf_2          1\n",
       "bsmtfin_sf_1          1\n",
       "year_built            0\n",
       "exterior_2nd          0\n",
       "exterior_1st          0\n",
       "roof_matl             0\n",
       "roof_style            0\n",
       "year_remod/add        0\n",
       "saleprice             0\n",
       "condition_1           0\n",
       "overall_cond          0\n",
       "utilities             0\n",
       "ms_subclass           0\n",
       "ms_zoning             0\n",
       "lot_area              0\n",
       "street                0\n",
       "lot_shape             0\n",
       "land_contour          0\n",
       "lot_config            0\n",
       "overall_qual          0\n",
       "land_slope            0\n",
       "neighborhood          0\n",
       "exter_cond            0\n",
       "condition_2           0\n",
       "bldg_type             0\n",
       "house_style           0\n",
       "exter_qual            0\n",
       "heating               0\n",
       "foundation            0\n",
       "sale_type             0\n",
       "yr_sold               0\n",
       "mo_sold               0\n",
       "misc_val              0\n",
       "pool_area             0\n",
       "screen_porch          0\n",
       "3ssn_porch            0\n",
       "enclosed_porch        0\n",
       "open_porch_sf         0\n",
       "wood_deck_sf          0\n",
       "paved_drive           0\n",
       "fireplaces            0\n",
       "functional            0\n",
       "totrms_abvgrd         0\n",
       "kitchen_qual          0\n",
       "kitchen_abvgr         0\n",
       "bedroom_abvgr         0\n",
       "half_bath             0\n",
       "full_bath             0\n",
       "gr_liv_area           0\n",
       "low_qual_fin_sf       0\n",
       "2nd_flr_sf            0\n",
       "1st_flr_sf            0\n",
       "electrical            0\n",
       "central_air           0\n",
       "heating_qc            0\n",
       "id                    0\n",
       "dtype: int64"
      ]
     },
     "execution_count": 7,
     "metadata": {},
     "output_type": "execute_result"
    }
   ],
   "source": [
    "train.isna().sum().sort_values(ascending=False)"
   ]
  },
  {
   "cell_type": "code",
   "execution_count": 8,
   "metadata": {
    "scrolled": true
   },
   "outputs": [
    {
     "data": {
      "text/plain": [
       "id                   int64\n",
       "ms_subclass          int64\n",
       "ms_zoning           object\n",
       "lot_frontage       float64\n",
       "lot_area             int64\n",
       "street              object\n",
       "alley               object\n",
       "lot_shape           object\n",
       "land_contour        object\n",
       "utilities           object\n",
       "lot_config          object\n",
       "land_slope          object\n",
       "neighborhood        object\n",
       "condition_1         object\n",
       "condition_2         object\n",
       "bldg_type           object\n",
       "house_style         object\n",
       "overall_qual         int64\n",
       "overall_cond         int64\n",
       "year_built           int64\n",
       "year_remod/add       int64\n",
       "roof_style          object\n",
       "roof_matl           object\n",
       "exterior_1st        object\n",
       "exterior_2nd        object\n",
       "mas_vnr_type        object\n",
       "mas_vnr_area       float64\n",
       "exter_qual          object\n",
       "exter_cond          object\n",
       "foundation          object\n",
       "bsmt_qual           object\n",
       "bsmt_cond           object\n",
       "bsmt_exposure       object\n",
       "bsmtfin_type_1      object\n",
       "bsmtfin_sf_1       float64\n",
       "bsmtfin_type_2      object\n",
       "bsmtfin_sf_2       float64\n",
       "bsmt_unf_sf        float64\n",
       "total_bsmt_sf      float64\n",
       "heating             object\n",
       "heating_qc          object\n",
       "central_air         object\n",
       "electrical          object\n",
       "1st_flr_sf           int64\n",
       "2nd_flr_sf           int64\n",
       "low_qual_fin_sf      int64\n",
       "gr_liv_area          int64\n",
       "bsmt_full_bath     float64\n",
       "bsmt_half_bath     float64\n",
       "full_bath            int64\n",
       "half_bath            int64\n",
       "bedroom_abvgr        int64\n",
       "kitchen_abvgr        int64\n",
       "kitchen_qual        object\n",
       "totrms_abvgrd        int64\n",
       "functional          object\n",
       "fireplaces           int64\n",
       "fireplace_qu        object\n",
       "garage_type         object\n",
       "garage_yr_blt      float64\n",
       "garage_finish       object\n",
       "garage_cars        float64\n",
       "garage_area        float64\n",
       "garage_qual         object\n",
       "garage_cond         object\n",
       "paved_drive         object\n",
       "wood_deck_sf         int64\n",
       "open_porch_sf        int64\n",
       "enclosed_porch       int64\n",
       "3ssn_porch           int64\n",
       "screen_porch         int64\n",
       "pool_area            int64\n",
       "pool_qc             object\n",
       "fence               object\n",
       "misc_feature        object\n",
       "misc_val             int64\n",
       "mo_sold              int64\n",
       "yr_sold              int64\n",
       "sale_type           object\n",
       "saleprice            int64\n",
       "dtype: object"
      ]
     },
     "execution_count": 8,
     "metadata": {},
     "output_type": "execute_result"
    }
   ],
   "source": [
    "train.dtypes"
   ]
  },
  {
   "cell_type": "markdown",
   "metadata": {},
   "source": [
    "<h3> 2. Handling of null values </h3>\n",
    "\n",
    "If column is an ordinal, replace NaN with 'None', if it is continuous, replace NaN with 0:"
   ]
  },
  {
   "cell_type": "code",
   "execution_count": 9,
   "metadata": {},
   "outputs": [],
   "source": [
    "for i in train.columns:\n",
    "    if train[i].dtype == np.object:\n",
    "          train[i].fillna('None',inplace=True)\n",
    "    else:\n",
    "          train[i].fillna(0,inplace=True)\n",
    "            \n",
    "for i in test.columns:\n",
    "    if test[i].dtype == np.object:\n",
    "          test[i].fillna('None',inplace=True)\n",
    "    else:\n",
    "          test[i].fillna(0,inplace=True)"
   ]
  },
  {
   "cell_type": "markdown",
   "metadata": {},
   "source": [
    "Check if all null values are accounted for:"
   ]
  },
  {
   "cell_type": "code",
   "execution_count": 10,
   "metadata": {
    "scrolled": true
   },
   "outputs": [
    {
     "data": {
      "text/plain": [
       "saleprice          0\n",
       "sale_type          0\n",
       "roof_style         0\n",
       "roof_matl          0\n",
       "exterior_1st       0\n",
       "exterior_2nd       0\n",
       "mas_vnr_type       0\n",
       "mas_vnr_area       0\n",
       "exter_qual         0\n",
       "exter_cond         0\n",
       "foundation         0\n",
       "bsmt_qual          0\n",
       "bsmt_cond          0\n",
       "bsmt_exposure      0\n",
       "bsmtfin_type_1     0\n",
       "bsmtfin_sf_1       0\n",
       "bsmtfin_type_2     0\n",
       "bsmtfin_sf_2       0\n",
       "bsmt_unf_sf        0\n",
       "year_remod/add     0\n",
       "year_built         0\n",
       "overall_cond       0\n",
       "land_contour       0\n",
       "ms_subclass        0\n",
       "ms_zoning          0\n",
       "lot_frontage       0\n",
       "lot_area           0\n",
       "street             0\n",
       "alley              0\n",
       "lot_shape          0\n",
       "utilities          0\n",
       "overall_qual       0\n",
       "lot_config         0\n",
       "land_slope         0\n",
       "neighborhood       0\n",
       "condition_1        0\n",
       "condition_2        0\n",
       "bldg_type          0\n",
       "house_style        0\n",
       "total_bsmt_sf      0\n",
       "heating            0\n",
       "heating_qc         0\n",
       "3ssn_porch         0\n",
       "garage_area        0\n",
       "garage_qual        0\n",
       "garage_cond        0\n",
       "paved_drive        0\n",
       "wood_deck_sf       0\n",
       "open_porch_sf      0\n",
       "enclosed_porch     0\n",
       "screen_porch       0\n",
       "garage_finish      0\n",
       "pool_area          0\n",
       "pool_qc            0\n",
       "fence              0\n",
       "misc_feature       0\n",
       "misc_val           0\n",
       "mo_sold            0\n",
       "yr_sold            0\n",
       "garage_cars        0\n",
       "garage_yr_blt      0\n",
       "central_air        0\n",
       "full_bath          0\n",
       "electrical         0\n",
       "1st_flr_sf         0\n",
       "2nd_flr_sf         0\n",
       "low_qual_fin_sf    0\n",
       "gr_liv_area        0\n",
       "bsmt_full_bath     0\n",
       "bsmt_half_bath     0\n",
       "half_bath          0\n",
       "garage_type        0\n",
       "bedroom_abvgr      0\n",
       "kitchen_abvgr      0\n",
       "kitchen_qual       0\n",
       "totrms_abvgrd      0\n",
       "functional         0\n",
       "fireplaces         0\n",
       "fireplace_qu       0\n",
       "id                 0\n",
       "dtype: int64"
      ]
     },
     "execution_count": 10,
     "metadata": {},
     "output_type": "execute_result"
    }
   ],
   "source": [
    "train.isna().sum().sort_values(ascending=False)"
   ]
  },
  {
   "cell_type": "code",
   "execution_count": 11,
   "metadata": {
    "scrolled": true
   },
   "outputs": [
    {
     "data": {
      "text/plain": [
       "sale_type          0\n",
       "exter_cond         0\n",
       "roof_style         0\n",
       "roof_matl          0\n",
       "exterior_1st       0\n",
       "exterior_2nd       0\n",
       "mas_vnr_type       0\n",
       "mas_vnr_area       0\n",
       "exter_qual         0\n",
       "foundation         0\n",
       "year_built         0\n",
       "bsmt_qual          0\n",
       "bsmt_cond          0\n",
       "bsmt_exposure      0\n",
       "bsmtfin_type_1     0\n",
       "bsmtfin_sf_1       0\n",
       "bsmtfin_type_2     0\n",
       "bsmtfin_sf_2       0\n",
       "year_remod/add     0\n",
       "overall_cond       0\n",
       "total_bsmt_sf      0\n",
       "land_contour       0\n",
       "ms_subclass        0\n",
       "ms_zoning          0\n",
       "lot_frontage       0\n",
       "lot_area           0\n",
       "street             0\n",
       "alley              0\n",
       "lot_shape          0\n",
       "utilities          0\n",
       "overall_qual       0\n",
       "lot_config         0\n",
       "land_slope         0\n",
       "neighborhood       0\n",
       "condition_1        0\n",
       "condition_2        0\n",
       "bldg_type          0\n",
       "house_style        0\n",
       "bsmt_unf_sf        0\n",
       "heating            0\n",
       "yr_sold            0\n",
       "enclosed_porch     0\n",
       "garage_cars        0\n",
       "garage_area        0\n",
       "garage_qual        0\n",
       "garage_cond        0\n",
       "paved_drive        0\n",
       "wood_deck_sf       0\n",
       "open_porch_sf      0\n",
       "3ssn_porch         0\n",
       "garage_yr_blt      0\n",
       "screen_porch       0\n",
       "pool_area          0\n",
       "pool_qc            0\n",
       "fence              0\n",
       "misc_feature       0\n",
       "misc_val           0\n",
       "mo_sold            0\n",
       "garage_finish      0\n",
       "garage_type        0\n",
       "heating_qc         0\n",
       "bsmt_half_bath     0\n",
       "central_air        0\n",
       "electrical         0\n",
       "1st_flr_sf         0\n",
       "2nd_flr_sf         0\n",
       "low_qual_fin_sf    0\n",
       "gr_liv_area        0\n",
       "bsmt_full_bath     0\n",
       "full_bath          0\n",
       "fireplace_qu       0\n",
       "half_bath          0\n",
       "bedroom_abvgr      0\n",
       "kitchen_abvgr      0\n",
       "kitchen_qual       0\n",
       "totrms_abvgrd      0\n",
       "functional         0\n",
       "fireplaces         0\n",
       "id                 0\n",
       "dtype: int64"
      ]
     },
     "execution_count": 11,
     "metadata": {},
     "output_type": "execute_result"
    }
   ],
   "source": [
    "test.isna().sum().sort_values(ascending=False)"
   ]
  },
  {
   "cell_type": "markdown",
   "metadata": {},
   "source": [
    "[Return to Table of Contents](#title)"
   ]
  },
  {
   "cell_type": "markdown",
   "metadata": {},
   "source": [
    "<a class=\"anchor\" id=\"third-section\"></a>\n",
    "\n",
    "### <span style=\"color:blue\"> 3. Exploratory Data Analysis</span>"
   ]
  },
  {
   "cell_type": "markdown",
   "metadata": {},
   "source": [
    "Calling on pandas Describe function to show us some information about the sale prices in our data set:"
   ]
  },
  {
   "cell_type": "code",
   "execution_count": 12,
   "metadata": {
    "scrolled": true
   },
   "outputs": [
    {
     "data": {
      "text/plain": [
       "count      2051.000000\n",
       "mean     181469.701609\n",
       "std       79258.659352\n",
       "min       12789.000000\n",
       "25%      129825.000000\n",
       "50%      162500.000000\n",
       "75%      214000.000000\n",
       "max      611657.000000\n",
       "Name: saleprice, dtype: float64"
      ]
     },
     "execution_count": 12,
     "metadata": {},
     "output_type": "execute_result"
    }
   ],
   "source": [
    "train['saleprice'].describe()"
   ]
  },
  {
   "cell_type": "markdown",
   "metadata": {},
   "source": [
    "We can see from above that the mean of the sale prices of houses here are about USD 180k and bulk of our houses in this data lies between roughly USD130k and 215k. However, we can furthur plot out the histogram of the sale prices of houses to see it's distribution and check for it's skew."
   ]
  },
  {
   "cell_type": "code",
   "execution_count": 13,
   "metadata": {
    "scrolled": true
   },
   "outputs": [
    {
     "data": {
      "text/plain": [
       "<matplotlib.axes._subplots.AxesSubplot at 0x1eb7510ef60>"
      ]
     },
     "execution_count": 13,
     "metadata": {},
     "output_type": "execute_result"
    },
    {
     "data": {
      "image/png": "[encoded data removed]",
      "text/plain": [
       "<Figure size 1008x288 with 1 Axes>"
      ]
     },
     "metadata": {
      "needs_background": "light"
     },
     "output_type": "display_data"
    }
   ],
   "source": [
    "train['saleprice'].hist(bins=75, rwidth=.8, figsize=(14,4), color='green')"
   ]
  },
  {
   "cell_type": "markdown",
   "metadata": {},
   "source": [
    "From the histogram above, we can see that our data is positively skewed to the right and we can furthur check this out by calculating it's skewness."
   ]
  },
  {
   "cell_type": "code",
   "execution_count": 14,
   "metadata": {
    "scrolled": true
   },
   "outputs": [
    {
     "name": "stdout",
     "output_type": "stream",
     "text": [
      "Skew is: 1.5575514385863427\n"
     ]
    },
    {
     "data": {
      "image/png": "[encoded data removed]",
      "text/plain": [
       "<Figure size 432x288 with 1 Axes>"
      ]
     },
     "metadata": {
      "needs_background": "light"
     },
     "output_type": "display_data"
    }
   ],
   "source": [
    "print (\"Skew is:\", train['saleprice'].skew())\n",
    "plt.hist(train['saleprice'], color='green')\n",
    "plt.show()"
   ]
  },
  {
   "cell_type": "markdown",
   "metadata": {},
   "source": [
    "From above, we can see that Sale Price is not linear and does not follow a normal distribution. We will have to transform it so that it represents a normal distribution. <br> \n",
    "\n",
    "Log transformation works fine with positive skewness thus here, we use np.log() to transform train['saleprice'] and calculate the skewness a second time, as well as re-plot the data. A value closer to 0 means that we have improved the skewness of the data."
   ]
  },
  {
   "cell_type": "code",
   "execution_count": 15,
   "metadata": {
    "scrolled": true
   },
   "outputs": [
    {
     "name": "stdout",
     "output_type": "stream",
     "text": [
      "Skew is: -0.14681576272177396\n"
     ]
    },
    {
     "data": {
      "image/png": "[encoded data removed]",
      "text/plain": [
       "<Figure size 432x288 with 1 Axes>"
      ]
     },
     "metadata": {
      "needs_background": "light"
     },
     "output_type": "display_data"
    }
   ],
   "source": [
    "target = np.log(train['saleprice'])\n",
    "print (\"Skew is:\", target.skew())\n",
    "plt.hist(target, color='green')\n",
    "plt.show()"
   ]
  },
  {
   "cell_type": "markdown",
   "metadata": {},
   "source": [
    "As such, we can see that we have improved the skewness of the data and visually it looks more normally distributed."
   ]
  },
  {
   "cell_type": "markdown",
   "metadata": {},
   "source": [
    "There are 37 numeric columns that are given to us, however, there are a lot of other columns which are in ordinal form which might have correlation with Sale Price thus here, we used the Find-And-Replace technique to re-assign(encode) all our data to a number to facilitate machine learning. "
   ]
  },
  {
   "cell_type": "code",
   "execution_count": 16,
   "metadata": {},
   "outputs": [],
   "source": [
    "cleanup_nums = {\"lot_shape\": {\"Reg\": 1, \"IR1\": 2,'IR2': 3, 'IR3': 4, 'None': 0},\n",
    "                \"utilities\": {\"AllPub\": 1, 'NoSeWa': 2, 'NoSewr': 3, 'None': 0},\n",
    "                \"land_slope\": {'Gtl': 1, 'Mod': 2, 'Sev': 3, 'None': 0},\n",
    "                \"exter_qual\": {\"Ex\": 5, \"Gd\": 4, \"TA\": 3, \"Fa\": 2, 'Po': 1, 'None': 0},\n",
    "                \"exter_cond\": {\"Ex\": 5, \"Gd\": 4, \"TA\": 3, \"Fa\": 2, 'Po': 1, 'None': 0},\n",
    "                \"bsmt_qual\": {\"Ex\": 5, \"Gd\": 4, \"TA\": 3, \"Fa\": 2, 'Po': 1, 'None': 0},\n",
    "                \"bsmt_cond\": {\"Ex\": 5, \"Gd\": 4, \"TA\": 3, \"Fa\": 2, 'Po': 1, 'None': 0},\n",
    "                \"bsmt_exposure\": {\"Gd\": 4, \"Av\": 3, \"Mn\": 2, \"No\": 1, 'None': 0},\n",
    "                \"bsmtfin_type_1\": {'GLQ': 6, 'ALQ': 5, 'BLQ': 4, 'Rec': 3, 'LwQ': 2, 'UnF': 1, 'None': 0},\n",
    "                \"bsmtfin_type_2\": {'GLQ': 6, 'ALQ': 5, 'BLQ': 4, 'Rec': 3, 'LwQ': 2, 'UnF': 1, 'None': 0},\n",
    "                \"heating_qc\": {\"Ex\": 5, \"Gd\": 4, \"TA\": 3, \"Fa\": 2, 'Po': 1, 'None': 0},\n",
    "                \"electrical\": {'SBrkr': 5, 'FuseA': 4, 'FuseF': 3, 'FuseP': 2, 'Mix': 1, 'None': 0},\n",
    "                \"kitchen_qual\": {\"Ex\": 5, \"Gd\": 4, \"TA\": 3, \"Fa\": 2, 'Po': 1, 'None': 0},\n",
    "                \"functional\": {\"Typ\": 8, \"Min1\": 7, \"Min2\": 6, \"Mod\": 5, \"Maj1\": 4, \"Maj2\": 3, \"Sev\": 2, \"Sal\": 1, 'None': 0},\n",
    "                \"fireplace_qu\": {\"Ex\": 5, \"Gd\": 4, \"TA\": 3, \"Fa\": 2, 'Po': 1, 'None': 0},\n",
    "                \"garage_finish\": {'Fin': 3, 'RFn': 2, 'Unf': 1, 'None': 0},\n",
    "                \"garage_qual\": {\"Ex\": 5, \"Gd\": 4, \"TA\": 3, \"Fa\": 2, 'Po': 1, 'None': 0},\n",
    "                \"garage_cond\": {\"Ex\": 5, \"Gd\": 4, \"TA\": 3, \"Fa\": 2, 'Po': 1, 'None': 0},\n",
    "                \"paved_drive\": {'Y': 3, 'P': 2 , 'N': 1, 'None': 0},\n",
    "                \"pool_qc\" : {\"Ex\": 4, \"Gd\": 3, \"TA\": 2, \"Fa\": 1, 'None': 0},\n",
    "                \"fence\": {'GdPrv': 4, \"MnPrv\": 3, 'GdWo': 2, \"MnWw\": 1, 'None': 0}}\n",
    "                "
   ]
  },
  {
   "cell_type": "code",
   "execution_count": 17,
   "metadata": {
    "scrolled": true
   },
   "outputs": [],
   "source": [
    "train.replace(cleanup_nums, inplace=True)\n",
    "test.replace(cleanup_nums, inplace=True)"
   ]
  },
  {
   "cell_type": "markdown",
   "metadata": {},
   "source": [
    "Now, we check that the data has been replaced and the columns which we want encoded has been encoded properly."
   ]
  },
  {
   "cell_type": "code",
   "execution_count": 18,
   "metadata": {
    "scrolled": false
   },
   "outputs": [
    {
     "data": {
      "text/html": [
       "<div>\n",
       "<style scoped>\n",
       "    .dataframe tbody tr th:only-of-type {\n",
       "        vertical-align: middle;\n",
       "    }\n",
       "\n",
       "    .dataframe tbody tr th {\n",
       "        vertical-align: top;\n",
       "    }\n",
       "\n",
       "    .dataframe thead th {\n",
       "        text-align: right;\n",
       "    }\n",
       "</style>\n",
       "<table border=\"1\" class=\"dataframe\">\n",
       "  <thead>\n",
       "    <tr style=\"text-align: right;\">\n",
       "      <th></th>\n",
       "      <th>id</th>\n",
       "      <th>ms_subclass</th>\n",
       "      <th>ms_zoning</th>\n",
       "      <th>lot_frontage</th>\n",
       "      <th>lot_area</th>\n",
       "      <th>street</th>\n",
       "      <th>alley</th>\n",
       "      <th>lot_shape</th>\n",
       "      <th>land_contour</th>\n",
       "      <th>utilities</th>\n",
       "      <th>lot_config</th>\n",
       "      <th>land_slope</th>\n",
       "      <th>neighborhood</th>\n",
       "      <th>condition_1</th>\n",
       "      <th>condition_2</th>\n",
       "      <th>bldg_type</th>\n",
       "      <th>house_style</th>\n",
       "      <th>overall_qual</th>\n",
       "      <th>overall_cond</th>\n",
       "      <th>year_built</th>\n",
       "      <th>year_remod/add</th>\n",
       "      <th>roof_style</th>\n",
       "      <th>roof_matl</th>\n",
       "      <th>exterior_1st</th>\n",
       "      <th>exterior_2nd</th>\n",
       "      <th>mas_vnr_type</th>\n",
       "      <th>mas_vnr_area</th>\n",
       "      <th>exter_qual</th>\n",
       "      <th>exter_cond</th>\n",
       "      <th>foundation</th>\n",
       "      <th>bsmt_qual</th>\n",
       "      <th>bsmt_cond</th>\n",
       "      <th>bsmt_exposure</th>\n",
       "      <th>bsmtfin_type_1</th>\n",
       "      <th>bsmtfin_sf_1</th>\n",
       "      <th>bsmtfin_type_2</th>\n",
       "      <th>bsmtfin_sf_2</th>\n",
       "      <th>bsmt_unf_sf</th>\n",
       "      <th>total_bsmt_sf</th>\n",
       "      <th>heating</th>\n",
       "      <th>heating_qc</th>\n",
       "      <th>central_air</th>\n",
       "      <th>electrical</th>\n",
       "      <th>1st_flr_sf</th>\n",
       "      <th>2nd_flr_sf</th>\n",
       "      <th>low_qual_fin_sf</th>\n",
       "      <th>gr_liv_area</th>\n",
       "      <th>bsmt_full_bath</th>\n",
       "      <th>bsmt_half_bath</th>\n",
       "      <th>full_bath</th>\n",
       "      <th>half_bath</th>\n",
       "      <th>bedroom_abvgr</th>\n",
       "      <th>kitchen_abvgr</th>\n",
       "      <th>kitchen_qual</th>\n",
       "      <th>totrms_abvgrd</th>\n",
       "      <th>functional</th>\n",
       "      <th>fireplaces</th>\n",
       "      <th>fireplace_qu</th>\n",
       "      <th>garage_type</th>\n",
       "      <th>garage_yr_blt</th>\n",
       "      <th>garage_finish</th>\n",
       "      <th>garage_cars</th>\n",
       "      <th>garage_area</th>\n",
       "      <th>garage_qual</th>\n",
       "      <th>garage_cond</th>\n",
       "      <th>paved_drive</th>\n",
       "      <th>wood_deck_sf</th>\n",
       "      <th>open_porch_sf</th>\n",
       "      <th>enclosed_porch</th>\n",
       "      <th>3ssn_porch</th>\n",
       "      <th>screen_porch</th>\n",
       "      <th>pool_area</th>\n",
       "      <th>pool_qc</th>\n",
       "      <th>fence</th>\n",
       "      <th>misc_feature</th>\n",
       "      <th>misc_val</th>\n",
       "      <th>mo_sold</th>\n",
       "      <th>yr_sold</th>\n",
       "      <th>sale_type</th>\n",
       "      <th>saleprice</th>\n",
       "    </tr>\n",
       "  </thead>\n",
       "  <tbody>\n",
       "    <tr>\n",
       "      <th>0</th>\n",
       "      <td>109</td>\n",
       "      <td>60</td>\n",
       "      <td>RL</td>\n",
       "      <td>0.0</td>\n",
       "      <td>13517</td>\n",
       "      <td>Pave</td>\n",
       "      <td>None</td>\n",
       "      <td>2</td>\n",
       "      <td>Lvl</td>\n",
       "      <td>1</td>\n",
       "      <td>CulDSac</td>\n",
       "      <td>1</td>\n",
       "      <td>Sawyer</td>\n",
       "      <td>RRAe</td>\n",
       "      <td>Norm</td>\n",
       "      <td>1Fam</td>\n",
       "      <td>2Story</td>\n",
       "      <td>6</td>\n",
       "      <td>8</td>\n",
       "      <td>1976</td>\n",
       "      <td>2005</td>\n",
       "      <td>Gable</td>\n",
       "      <td>CompShg</td>\n",
       "      <td>HdBoard</td>\n",
       "      <td>Plywood</td>\n",
       "      <td>BrkFace</td>\n",
       "      <td>289.0</td>\n",
       "      <td>4</td>\n",
       "      <td>3</td>\n",
       "      <td>CBlock</td>\n",
       "      <td>3</td>\n",
       "      <td>3</td>\n",
       "      <td>1</td>\n",
       "      <td>6</td>\n",
       "      <td>533.0</td>\n",
       "      <td>Unf</td>\n",
       "      <td>0.0</td>\n",
       "      <td>192.0</td>\n",
       "      <td>725.0</td>\n",
       "      <td>GasA</td>\n",
       "      <td>5</td>\n",
       "      <td>Y</td>\n",
       "      <td>5</td>\n",
       "      <td>725</td>\n",
       "      <td>754</td>\n",
       "      <td>0</td>\n",
       "      <td>1479</td>\n",
       "      <td>0.0</td>\n",
       "      <td>0.0</td>\n",
       "      <td>2</td>\n",
       "      <td>1</td>\n",
       "      <td>3</td>\n",
       "      <td>1</td>\n",
       "      <td>4</td>\n",
       "      <td>6</td>\n",
       "      <td>8</td>\n",
       "      <td>0</td>\n",
       "      <td>0</td>\n",
       "      <td>Attchd</td>\n",
       "      <td>1976.0</td>\n",
       "      <td>2</td>\n",
       "      <td>2.0</td>\n",
       "      <td>475.0</td>\n",
       "      <td>3</td>\n",
       "      <td>3</td>\n",
       "      <td>3</td>\n",
       "      <td>0</td>\n",
       "      <td>44</td>\n",
       "      <td>0</td>\n",
       "      <td>0</td>\n",
       "      <td>0</td>\n",
       "      <td>0</td>\n",
       "      <td>0</td>\n",
       "      <td>0</td>\n",
       "      <td>None</td>\n",
       "      <td>0</td>\n",
       "      <td>3</td>\n",
       "      <td>2010</td>\n",
       "      <td>WD</td>\n",
       "      <td>130500</td>\n",
       "    </tr>\n",
       "    <tr>\n",
       "      <th>1</th>\n",
       "      <td>544</td>\n",
       "      <td>60</td>\n",
       "      <td>RL</td>\n",
       "      <td>43.0</td>\n",
       "      <td>11492</td>\n",
       "      <td>Pave</td>\n",
       "      <td>None</td>\n",
       "      <td>2</td>\n",
       "      <td>Lvl</td>\n",
       "      <td>1</td>\n",
       "      <td>CulDSac</td>\n",
       "      <td>1</td>\n",
       "      <td>SawyerW</td>\n",
       "      <td>Norm</td>\n",
       "      <td>Norm</td>\n",
       "      <td>1Fam</td>\n",
       "      <td>2Story</td>\n",
       "      <td>7</td>\n",
       "      <td>5</td>\n",
       "      <td>1996</td>\n",
       "      <td>1997</td>\n",
       "      <td>Gable</td>\n",
       "      <td>CompShg</td>\n",
       "      <td>VinylSd</td>\n",
       "      <td>VinylSd</td>\n",
       "      <td>BrkFace</td>\n",
       "      <td>132.0</td>\n",
       "      <td>4</td>\n",
       "      <td>3</td>\n",
       "      <td>PConc</td>\n",
       "      <td>4</td>\n",
       "      <td>3</td>\n",
       "      <td>1</td>\n",
       "      <td>6</td>\n",
       "      <td>637.0</td>\n",
       "      <td>Unf</td>\n",
       "      <td>0.0</td>\n",
       "      <td>276.0</td>\n",
       "      <td>913.0</td>\n",
       "      <td>GasA</td>\n",
       "      <td>5</td>\n",
       "      <td>Y</td>\n",
       "      <td>5</td>\n",
       "      <td>913</td>\n",
       "      <td>1209</td>\n",
       "      <td>0</td>\n",
       "      <td>2122</td>\n",
       "      <td>1.0</td>\n",
       "      <td>0.0</td>\n",
       "      <td>2</td>\n",
       "      <td>1</td>\n",
       "      <td>4</td>\n",
       "      <td>1</td>\n",
       "      <td>4</td>\n",
       "      <td>8</td>\n",
       "      <td>8</td>\n",
       "      <td>1</td>\n",
       "      <td>3</td>\n",
       "      <td>Attchd</td>\n",
       "      <td>1997.0</td>\n",
       "      <td>2</td>\n",
       "      <td>2.0</td>\n",
       "      <td>559.0</td>\n",
       "      <td>3</td>\n",
       "      <td>3</td>\n",
       "      <td>3</td>\n",
       "      <td>0</td>\n",
       "      <td>74</td>\n",
       "      <td>0</td>\n",
       "      <td>0</td>\n",
       "      <td>0</td>\n",
       "      <td>0</td>\n",
       "      <td>0</td>\n",
       "      <td>0</td>\n",
       "      <td>None</td>\n",
       "      <td>0</td>\n",
       "      <td>4</td>\n",
       "      <td>2009</td>\n",
       "      <td>WD</td>\n",
       "      <td>220000</td>\n",
       "    </tr>\n",
       "    <tr>\n",
       "      <th>2</th>\n",
       "      <td>153</td>\n",
       "      <td>20</td>\n",
       "      <td>RL</td>\n",
       "      <td>68.0</td>\n",
       "      <td>7922</td>\n",
       "      <td>Pave</td>\n",
       "      <td>None</td>\n",
       "      <td>1</td>\n",
       "      <td>Lvl</td>\n",
       "      <td>1</td>\n",
       "      <td>Inside</td>\n",
       "      <td>1</td>\n",
       "      <td>NAmes</td>\n",
       "      <td>Norm</td>\n",
       "      <td>Norm</td>\n",
       "      <td>1Fam</td>\n",
       "      <td>1Story</td>\n",
       "      <td>5</td>\n",
       "      <td>7</td>\n",
       "      <td>1953</td>\n",
       "      <td>2007</td>\n",
       "      <td>Gable</td>\n",
       "      <td>CompShg</td>\n",
       "      <td>VinylSd</td>\n",
       "      <td>VinylSd</td>\n",
       "      <td>None</td>\n",
       "      <td>0.0</td>\n",
       "      <td>3</td>\n",
       "      <td>4</td>\n",
       "      <td>CBlock</td>\n",
       "      <td>3</td>\n",
       "      <td>3</td>\n",
       "      <td>1</td>\n",
       "      <td>6</td>\n",
       "      <td>731.0</td>\n",
       "      <td>Unf</td>\n",
       "      <td>0.0</td>\n",
       "      <td>326.0</td>\n",
       "      <td>1057.0</td>\n",
       "      <td>GasA</td>\n",
       "      <td>3</td>\n",
       "      <td>Y</td>\n",
       "      <td>5</td>\n",
       "      <td>1057</td>\n",
       "      <td>0</td>\n",
       "      <td>0</td>\n",
       "      <td>1057</td>\n",
       "      <td>1.0</td>\n",
       "      <td>0.0</td>\n",
       "      <td>1</td>\n",
       "      <td>0</td>\n",
       "      <td>3</td>\n",
       "      <td>1</td>\n",
       "      <td>4</td>\n",
       "      <td>5</td>\n",
       "      <td>8</td>\n",
       "      <td>0</td>\n",
       "      <td>0</td>\n",
       "      <td>Detchd</td>\n",
       "      <td>1953.0</td>\n",
       "      <td>1</td>\n",
       "      <td>1.0</td>\n",
       "      <td>246.0</td>\n",
       "      <td>3</td>\n",
       "      <td>3</td>\n",
       "      <td>3</td>\n",
       "      <td>0</td>\n",
       "      <td>52</td>\n",
       "      <td>0</td>\n",
       "      <td>0</td>\n",
       "      <td>0</td>\n",
       "      <td>0</td>\n",
       "      <td>0</td>\n",
       "      <td>0</td>\n",
       "      <td>None</td>\n",
       "      <td>0</td>\n",
       "      <td>1</td>\n",
       "      <td>2010</td>\n",
       "      <td>WD</td>\n",
       "      <td>109000</td>\n",
       "    </tr>\n",
       "    <tr>\n",
       "      <th>3</th>\n",
       "      <td>318</td>\n",
       "      <td>60</td>\n",
       "      <td>RL</td>\n",
       "      <td>73.0</td>\n",
       "      <td>9802</td>\n",
       "      <td>Pave</td>\n",
       "      <td>None</td>\n",
       "      <td>1</td>\n",
       "      <td>Lvl</td>\n",
       "      <td>1</td>\n",
       "      <td>Inside</td>\n",
       "      <td>1</td>\n",
       "      <td>Timber</td>\n",
       "      <td>Norm</td>\n",
       "      <td>Norm</td>\n",
       "      <td>1Fam</td>\n",
       "      <td>2Story</td>\n",
       "      <td>5</td>\n",
       "      <td>5</td>\n",
       "      <td>2006</td>\n",
       "      <td>2007</td>\n",
       "      <td>Gable</td>\n",
       "      <td>CompShg</td>\n",
       "      <td>VinylSd</td>\n",
       "      <td>VinylSd</td>\n",
       "      <td>None</td>\n",
       "      <td>0.0</td>\n",
       "      <td>3</td>\n",
       "      <td>3</td>\n",
       "      <td>PConc</td>\n",
       "      <td>4</td>\n",
       "      <td>3</td>\n",
       "      <td>1</td>\n",
       "      <td>Unf</td>\n",
       "      <td>0.0</td>\n",
       "      <td>Unf</td>\n",
       "      <td>0.0</td>\n",
       "      <td>384.0</td>\n",
       "      <td>384.0</td>\n",
       "      <td>GasA</td>\n",
       "      <td>4</td>\n",
       "      <td>Y</td>\n",
       "      <td>5</td>\n",
       "      <td>744</td>\n",
       "      <td>700</td>\n",
       "      <td>0</td>\n",
       "      <td>1444</td>\n",
       "      <td>0.0</td>\n",
       "      <td>0.0</td>\n",
       "      <td>2</td>\n",
       "      <td>1</td>\n",
       "      <td>3</td>\n",
       "      <td>1</td>\n",
       "      <td>3</td>\n",
       "      <td>7</td>\n",
       "      <td>8</td>\n",
       "      <td>0</td>\n",
       "      <td>0</td>\n",
       "      <td>BuiltIn</td>\n",
       "      <td>2007.0</td>\n",
       "      <td>3</td>\n",
       "      <td>2.0</td>\n",
       "      <td>400.0</td>\n",
       "      <td>3</td>\n",
       "      <td>3</td>\n",
       "      <td>3</td>\n",
       "      <td>100</td>\n",
       "      <td>0</td>\n",
       "      <td>0</td>\n",
       "      <td>0</td>\n",
       "      <td>0</td>\n",
       "      <td>0</td>\n",
       "      <td>0</td>\n",
       "      <td>0</td>\n",
       "      <td>None</td>\n",
       "      <td>0</td>\n",
       "      <td>4</td>\n",
       "      <td>2010</td>\n",
       "      <td>WD</td>\n",
       "      <td>174000</td>\n",
       "    </tr>\n",
       "    <tr>\n",
       "      <th>4</th>\n",
       "      <td>255</td>\n",
       "      <td>50</td>\n",
       "      <td>RL</td>\n",
       "      <td>82.0</td>\n",
       "      <td>14235</td>\n",
       "      <td>Pave</td>\n",
       "      <td>None</td>\n",
       "      <td>2</td>\n",
       "      <td>Lvl</td>\n",
       "      <td>1</td>\n",
       "      <td>Inside</td>\n",
       "      <td>1</td>\n",
       "      <td>SawyerW</td>\n",
       "      <td>Norm</td>\n",
       "      <td>Norm</td>\n",
       "      <td>1Fam</td>\n",
       "      <td>1.5Fin</td>\n",
       "      <td>6</td>\n",
       "      <td>8</td>\n",
       "      <td>1900</td>\n",
       "      <td>1993</td>\n",
       "      <td>Gable</td>\n",
       "      <td>CompShg</td>\n",
       "      <td>Wd Sdng</td>\n",
       "      <td>Plywood</td>\n",
       "      <td>None</td>\n",
       "      <td>0.0</td>\n",
       "      <td>3</td>\n",
       "      <td>3</td>\n",
       "      <td>PConc</td>\n",
       "      <td>2</td>\n",
       "      <td>4</td>\n",
       "      <td>1</td>\n",
       "      <td>Unf</td>\n",
       "      <td>0.0</td>\n",
       "      <td>Unf</td>\n",
       "      <td>0.0</td>\n",
       "      <td>676.0</td>\n",
       "      <td>676.0</td>\n",
       "      <td>GasA</td>\n",
       "      <td>3</td>\n",
       "      <td>Y</td>\n",
       "      <td>5</td>\n",
       "      <td>831</td>\n",
       "      <td>614</td>\n",
       "      <td>0</td>\n",
       "      <td>1445</td>\n",
       "      <td>0.0</td>\n",
       "      <td>0.0</td>\n",
       "      <td>2</td>\n",
       "      <td>0</td>\n",
       "      <td>3</td>\n",
       "      <td>1</td>\n",
       "      <td>3</td>\n",
       "      <td>6</td>\n",
       "      <td>8</td>\n",
       "      <td>0</td>\n",
       "      <td>0</td>\n",
       "      <td>Detchd</td>\n",
       "      <td>1957.0</td>\n",
       "      <td>1</td>\n",
       "      <td>2.0</td>\n",
       "      <td>484.0</td>\n",
       "      <td>3</td>\n",
       "      <td>3</td>\n",
       "      <td>1</td>\n",
       "      <td>0</td>\n",
       "      <td>59</td>\n",
       "      <td>0</td>\n",
       "      <td>0</td>\n",
       "      <td>0</td>\n",
       "      <td>0</td>\n",
       "      <td>0</td>\n",
       "      <td>0</td>\n",
       "      <td>None</td>\n",
       "      <td>0</td>\n",
       "      <td>3</td>\n",
       "      <td>2010</td>\n",
       "      <td>WD</td>\n",
       "      <td>138500</td>\n",
       "    </tr>\n",
       "  </tbody>\n",
       "</table>\n",
       "</div>"
      ],
      "text/plain": [
       "    id  ms_subclass ms_zoning  lot_frontage  lot_area street alley lot_shape  \\\n",
       "0  109           60        RL           0.0     13517   Pave  None         2   \n",
       "1  544           60        RL          43.0     11492   Pave  None         2   \n",
       "2  153           20        RL          68.0      7922   Pave  None         1   \n",
       "3  318           60        RL          73.0      9802   Pave  None         1   \n",
       "4  255           50        RL          82.0     14235   Pave  None         2   \n",
       "\n",
       "  land_contour utilities lot_config land_slope neighborhood condition_1  \\\n",
       "0          Lvl         1    CulDSac          1       Sawyer        RRAe   \n",
       "1          Lvl         1    CulDSac          1      SawyerW        Norm   \n",
       "2          Lvl         1     Inside          1        NAmes        Norm   \n",
       "3          Lvl         1     Inside          1       Timber        Norm   \n",
       "4          Lvl         1     Inside          1      SawyerW        Norm   \n",
       "\n",
       "  condition_2 bldg_type house_style  overall_qual  overall_cond  year_built  \\\n",
       "0        Norm      1Fam      2Story             6             8        1976   \n",
       "1        Norm      1Fam      2Story             7             5        1996   \n",
       "2        Norm      1Fam      1Story             5             7        1953   \n",
       "3        Norm      1Fam      2Story             5             5        2006   \n",
       "4        Norm      1Fam      1.5Fin             6             8        1900   \n",
       "\n",
       "   year_remod/add roof_style roof_matl exterior_1st exterior_2nd mas_vnr_type  \\\n",
       "0            2005      Gable   CompShg      HdBoard      Plywood      BrkFace   \n",
       "1            1997      Gable   CompShg      VinylSd      VinylSd      BrkFace   \n",
       "2            2007      Gable   CompShg      VinylSd      VinylSd         None   \n",
       "3            2007      Gable   CompShg      VinylSd      VinylSd         None   \n",
       "4            1993      Gable   CompShg      Wd Sdng      Plywood         None   \n",
       "\n",
       "   mas_vnr_area exter_qual exter_cond foundation  bsmt_qual  bsmt_cond  \\\n",
       "0         289.0          4          3     CBlock          3          3   \n",
       "1         132.0          4          3      PConc          4          3   \n",
       "2           0.0          3          4     CBlock          3          3   \n",
       "3           0.0          3          3      PConc          4          3   \n",
       "4           0.0          3          3      PConc          2          4   \n",
       "\n",
       "   bsmt_exposure bsmtfin_type_1  bsmtfin_sf_1 bsmtfin_type_2  bsmtfin_sf_2  \\\n",
       "0              1              6         533.0            Unf           0.0   \n",
       "1              1              6         637.0            Unf           0.0   \n",
       "2              1              6         731.0            Unf           0.0   \n",
       "3              1            Unf           0.0            Unf           0.0   \n",
       "4              1            Unf           0.0            Unf           0.0   \n",
       "\n",
       "   bsmt_unf_sf  total_bsmt_sf heating heating_qc central_air electrical  \\\n",
       "0        192.0          725.0    GasA          5           Y          5   \n",
       "1        276.0          913.0    GasA          5           Y          5   \n",
       "2        326.0         1057.0    GasA          3           Y          5   \n",
       "3        384.0          384.0    GasA          4           Y          5   \n",
       "4        676.0          676.0    GasA          3           Y          5   \n",
       "\n",
       "   1st_flr_sf  2nd_flr_sf  low_qual_fin_sf  gr_liv_area  bsmt_full_bath  \\\n",
       "0         725         754                0         1479             0.0   \n",
       "1         913        1209                0         2122             1.0   \n",
       "2        1057           0                0         1057             1.0   \n",
       "3         744         700                0         1444             0.0   \n",
       "4         831         614                0         1445             0.0   \n",
       "\n",
       "   bsmt_half_bath  full_bath  half_bath  bedroom_abvgr  kitchen_abvgr  \\\n",
       "0             0.0          2          1              3              1   \n",
       "1             0.0          2          1              4              1   \n",
       "2             0.0          1          0              3              1   \n",
       "3             0.0          2          1              3              1   \n",
       "4             0.0          2          0              3              1   \n",
       "\n",
       "  kitchen_qual  totrms_abvgrd functional  fireplaces  fireplace_qu  \\\n",
       "0            4              6          8           0             0   \n",
       "1            4              8          8           1             3   \n",
       "2            4              5          8           0             0   \n",
       "3            3              7          8           0             0   \n",
       "4            3              6          8           0             0   \n",
       "\n",
       "  garage_type  garage_yr_blt  garage_finish  garage_cars  garage_area  \\\n",
       "0      Attchd         1976.0              2          2.0        475.0   \n",
       "1      Attchd         1997.0              2          2.0        559.0   \n",
       "2      Detchd         1953.0              1          1.0        246.0   \n",
       "3     BuiltIn         2007.0              3          2.0        400.0   \n",
       "4      Detchd         1957.0              1          2.0        484.0   \n",
       "\n",
       "   garage_qual  garage_cond paved_drive  wood_deck_sf  open_porch_sf  \\\n",
       "0            3            3           3             0             44   \n",
       "1            3            3           3             0             74   \n",
       "2            3            3           3             0             52   \n",
       "3            3            3           3           100              0   \n",
       "4            3            3           1             0             59   \n",
       "\n",
       "   enclosed_porch  3ssn_porch  screen_porch  pool_area  pool_qc  fence  \\\n",
       "0               0           0             0          0        0      0   \n",
       "1               0           0             0          0        0      0   \n",
       "2               0           0             0          0        0      0   \n",
       "3               0           0             0          0        0      0   \n",
       "4               0           0             0          0        0      0   \n",
       "\n",
       "  misc_feature  misc_val  mo_sold  yr_sold sale_type  saleprice  \n",
       "0         None         0        3     2010       WD      130500  \n",
       "1         None         0        4     2009       WD      220000  \n",
       "2         None         0        1     2010       WD      109000  \n",
       "3         None         0        4     2010       WD      174000  \n",
       "4         None         0        3     2010       WD      138500  "
      ]
     },
     "execution_count": 18,
     "metadata": {},
     "output_type": "execute_result"
    }
   ],
   "source": [
    "train.head()"
   ]
  },
  {
   "cell_type": "code",
   "execution_count": 19,
   "metadata": {},
   "outputs": [
    {
     "data": {
      "text/html": [
       "<div>\n",
       "<style scoped>\n",
       "    .dataframe tbody tr th:only-of-type {\n",
       "        vertical-align: middle;\n",
       "    }\n",
       "\n",
       "    .dataframe tbody tr th {\n",
       "        vertical-align: top;\n",
       "    }\n",
       "\n",
       "    .dataframe thead th {\n",
       "        text-align: right;\n",
       "    }\n",
       "</style>\n",
       "<table border=\"1\" class=\"dataframe\">\n",
       "  <thead>\n",
       "    <tr style=\"text-align: right;\">\n",
       "      <th></th>\n",
       "      <th>id</th>\n",
       "      <th>ms_subclass</th>\n",
       "      <th>ms_zoning</th>\n",
       "      <th>lot_frontage</th>\n",
       "      <th>lot_area</th>\n",
       "      <th>street</th>\n",
       "      <th>alley</th>\n",
       "      <th>lot_shape</th>\n",
       "      <th>land_contour</th>\n",
       "      <th>utilities</th>\n",
       "      <th>lot_config</th>\n",
       "      <th>land_slope</th>\n",
       "      <th>neighborhood</th>\n",
       "      <th>condition_1</th>\n",
       "      <th>condition_2</th>\n",
       "      <th>bldg_type</th>\n",
       "      <th>house_style</th>\n",
       "      <th>overall_qual</th>\n",
       "      <th>overall_cond</th>\n",
       "      <th>year_built</th>\n",
       "      <th>year_remod/add</th>\n",
       "      <th>roof_style</th>\n",
       "      <th>roof_matl</th>\n",
       "      <th>exterior_1st</th>\n",
       "      <th>exterior_2nd</th>\n",
       "      <th>mas_vnr_type</th>\n",
       "      <th>mas_vnr_area</th>\n",
       "      <th>exter_qual</th>\n",
       "      <th>exter_cond</th>\n",
       "      <th>foundation</th>\n",
       "      <th>bsmt_qual</th>\n",
       "      <th>bsmt_cond</th>\n",
       "      <th>bsmt_exposure</th>\n",
       "      <th>bsmtfin_type_1</th>\n",
       "      <th>bsmtfin_sf_1</th>\n",
       "      <th>bsmtfin_type_2</th>\n",
       "      <th>bsmtfin_sf_2</th>\n",
       "      <th>bsmt_unf_sf</th>\n",
       "      <th>total_bsmt_sf</th>\n",
       "      <th>heating</th>\n",
       "      <th>heating_qc</th>\n",
       "      <th>central_air</th>\n",
       "      <th>electrical</th>\n",
       "      <th>1st_flr_sf</th>\n",
       "      <th>2nd_flr_sf</th>\n",
       "      <th>low_qual_fin_sf</th>\n",
       "      <th>gr_liv_area</th>\n",
       "      <th>bsmt_full_bath</th>\n",
       "      <th>bsmt_half_bath</th>\n",
       "      <th>full_bath</th>\n",
       "      <th>half_bath</th>\n",
       "      <th>bedroom_abvgr</th>\n",
       "      <th>kitchen_abvgr</th>\n",
       "      <th>kitchen_qual</th>\n",
       "      <th>totrms_abvgrd</th>\n",
       "      <th>functional</th>\n",
       "      <th>fireplaces</th>\n",
       "      <th>fireplace_qu</th>\n",
       "      <th>garage_type</th>\n",
       "      <th>garage_yr_blt</th>\n",
       "      <th>garage_finish</th>\n",
       "      <th>garage_cars</th>\n",
       "      <th>garage_area</th>\n",
       "      <th>garage_qual</th>\n",
       "      <th>garage_cond</th>\n",
       "      <th>paved_drive</th>\n",
       "      <th>wood_deck_sf</th>\n",
       "      <th>open_porch_sf</th>\n",
       "      <th>enclosed_porch</th>\n",
       "      <th>3ssn_porch</th>\n",
       "      <th>screen_porch</th>\n",
       "      <th>pool_area</th>\n",
       "      <th>pool_qc</th>\n",
       "      <th>fence</th>\n",
       "      <th>misc_feature</th>\n",
       "      <th>misc_val</th>\n",
       "      <th>mo_sold</th>\n",
       "      <th>yr_sold</th>\n",
       "      <th>sale_type</th>\n",
       "    </tr>\n",
       "  </thead>\n",
       "  <tbody>\n",
       "    <tr>\n",
       "      <th>0</th>\n",
       "      <td>2658</td>\n",
       "      <td>190</td>\n",
       "      <td>RM</td>\n",
       "      <td>69.0</td>\n",
       "      <td>9142</td>\n",
       "      <td>Pave</td>\n",
       "      <td>Grvl</td>\n",
       "      <td>1</td>\n",
       "      <td>Lvl</td>\n",
       "      <td>1</td>\n",
       "      <td>Inside</td>\n",
       "      <td>1</td>\n",
       "      <td>OldTown</td>\n",
       "      <td>Norm</td>\n",
       "      <td>Norm</td>\n",
       "      <td>2fmCon</td>\n",
       "      <td>2Story</td>\n",
       "      <td>6</td>\n",
       "      <td>8</td>\n",
       "      <td>1910</td>\n",
       "      <td>1950</td>\n",
       "      <td>Gable</td>\n",
       "      <td>CompShg</td>\n",
       "      <td>AsbShng</td>\n",
       "      <td>AsbShng</td>\n",
       "      <td>None</td>\n",
       "      <td>0.0</td>\n",
       "      <td>3</td>\n",
       "      <td>2</td>\n",
       "      <td>Stone</td>\n",
       "      <td>2</td>\n",
       "      <td>3</td>\n",
       "      <td>1</td>\n",
       "      <td>Unf</td>\n",
       "      <td>0</td>\n",
       "      <td>Unf</td>\n",
       "      <td>0</td>\n",
       "      <td>1020</td>\n",
       "      <td>1020</td>\n",
       "      <td>GasA</td>\n",
       "      <td>4</td>\n",
       "      <td>N</td>\n",
       "      <td>2</td>\n",
       "      <td>908</td>\n",
       "      <td>1020</td>\n",
       "      <td>0</td>\n",
       "      <td>1928</td>\n",
       "      <td>0</td>\n",
       "      <td>0</td>\n",
       "      <td>2</td>\n",
       "      <td>0</td>\n",
       "      <td>4</td>\n",
       "      <td>2</td>\n",
       "      <td>2</td>\n",
       "      <td>9</td>\n",
       "      <td>8</td>\n",
       "      <td>0</td>\n",
       "      <td>0</td>\n",
       "      <td>Detchd</td>\n",
       "      <td>1910.0</td>\n",
       "      <td>1</td>\n",
       "      <td>1</td>\n",
       "      <td>440</td>\n",
       "      <td>1</td>\n",
       "      <td>1</td>\n",
       "      <td>3</td>\n",
       "      <td>0</td>\n",
       "      <td>60</td>\n",
       "      <td>112</td>\n",
       "      <td>0</td>\n",
       "      <td>0</td>\n",
       "      <td>0</td>\n",
       "      <td>0</td>\n",
       "      <td>0</td>\n",
       "      <td>None</td>\n",
       "      <td>0</td>\n",
       "      <td>4</td>\n",
       "      <td>2006</td>\n",
       "      <td>WD</td>\n",
       "    </tr>\n",
       "    <tr>\n",
       "      <th>1</th>\n",
       "      <td>2718</td>\n",
       "      <td>90</td>\n",
       "      <td>RL</td>\n",
       "      <td>0.0</td>\n",
       "      <td>9662</td>\n",
       "      <td>Pave</td>\n",
       "      <td>None</td>\n",
       "      <td>2</td>\n",
       "      <td>Lvl</td>\n",
       "      <td>1</td>\n",
       "      <td>Inside</td>\n",
       "      <td>1</td>\n",
       "      <td>Sawyer</td>\n",
       "      <td>Norm</td>\n",
       "      <td>Norm</td>\n",
       "      <td>Duplex</td>\n",
       "      <td>1Story</td>\n",
       "      <td>5</td>\n",
       "      <td>4</td>\n",
       "      <td>1977</td>\n",
       "      <td>1977</td>\n",
       "      <td>Gable</td>\n",
       "      <td>CompShg</td>\n",
       "      <td>Plywood</td>\n",
       "      <td>Plywood</td>\n",
       "      <td>None</td>\n",
       "      <td>0.0</td>\n",
       "      <td>3</td>\n",
       "      <td>3</td>\n",
       "      <td>CBlock</td>\n",
       "      <td>4</td>\n",
       "      <td>3</td>\n",
       "      <td>1</td>\n",
       "      <td>Unf</td>\n",
       "      <td>0</td>\n",
       "      <td>Unf</td>\n",
       "      <td>0</td>\n",
       "      <td>1967</td>\n",
       "      <td>1967</td>\n",
       "      <td>GasA</td>\n",
       "      <td>3</td>\n",
       "      <td>Y</td>\n",
       "      <td>5</td>\n",
       "      <td>1967</td>\n",
       "      <td>0</td>\n",
       "      <td>0</td>\n",
       "      <td>1967</td>\n",
       "      <td>0</td>\n",
       "      <td>0</td>\n",
       "      <td>2</td>\n",
       "      <td>0</td>\n",
       "      <td>6</td>\n",
       "      <td>2</td>\n",
       "      <td>3</td>\n",
       "      <td>10</td>\n",
       "      <td>8</td>\n",
       "      <td>0</td>\n",
       "      <td>0</td>\n",
       "      <td>Attchd</td>\n",
       "      <td>1977.0</td>\n",
       "      <td>3</td>\n",
       "      <td>2</td>\n",
       "      <td>580</td>\n",
       "      <td>3</td>\n",
       "      <td>3</td>\n",
       "      <td>3</td>\n",
       "      <td>170</td>\n",
       "      <td>0</td>\n",
       "      <td>0</td>\n",
       "      <td>0</td>\n",
       "      <td>0</td>\n",
       "      <td>0</td>\n",
       "      <td>0</td>\n",
       "      <td>0</td>\n",
       "      <td>None</td>\n",
       "      <td>0</td>\n",
       "      <td>8</td>\n",
       "      <td>2006</td>\n",
       "      <td>WD</td>\n",
       "    </tr>\n",
       "    <tr>\n",
       "      <th>2</th>\n",
       "      <td>2414</td>\n",
       "      <td>60</td>\n",
       "      <td>RL</td>\n",
       "      <td>58.0</td>\n",
       "      <td>17104</td>\n",
       "      <td>Pave</td>\n",
       "      <td>None</td>\n",
       "      <td>2</td>\n",
       "      <td>Lvl</td>\n",
       "      <td>1</td>\n",
       "      <td>Inside</td>\n",
       "      <td>1</td>\n",
       "      <td>Gilbert</td>\n",
       "      <td>Norm</td>\n",
       "      <td>Norm</td>\n",
       "      <td>1Fam</td>\n",
       "      <td>2Story</td>\n",
       "      <td>7</td>\n",
       "      <td>5</td>\n",
       "      <td>2006</td>\n",
       "      <td>2006</td>\n",
       "      <td>Gable</td>\n",
       "      <td>CompShg</td>\n",
       "      <td>VinylSd</td>\n",
       "      <td>VinylSd</td>\n",
       "      <td>None</td>\n",
       "      <td>0.0</td>\n",
       "      <td>4</td>\n",
       "      <td>3</td>\n",
       "      <td>PConc</td>\n",
       "      <td>4</td>\n",
       "      <td>4</td>\n",
       "      <td>3</td>\n",
       "      <td>6</td>\n",
       "      <td>554</td>\n",
       "      <td>Unf</td>\n",
       "      <td>0</td>\n",
       "      <td>100</td>\n",
       "      <td>654</td>\n",
       "      <td>GasA</td>\n",
       "      <td>5</td>\n",
       "      <td>Y</td>\n",
       "      <td>5</td>\n",
       "      <td>664</td>\n",
       "      <td>832</td>\n",
       "      <td>0</td>\n",
       "      <td>1496</td>\n",
       "      <td>1</td>\n",
       "      <td>0</td>\n",
       "      <td>2</td>\n",
       "      <td>1</td>\n",
       "      <td>3</td>\n",
       "      <td>1</td>\n",
       "      <td>4</td>\n",
       "      <td>7</td>\n",
       "      <td>8</td>\n",
       "      <td>1</td>\n",
       "      <td>4</td>\n",
       "      <td>Attchd</td>\n",
       "      <td>2006.0</td>\n",
       "      <td>2</td>\n",
       "      <td>2</td>\n",
       "      <td>426</td>\n",
       "      <td>3</td>\n",
       "      <td>3</td>\n",
       "      <td>3</td>\n",
       "      <td>100</td>\n",
       "      <td>24</td>\n",
       "      <td>0</td>\n",
       "      <td>0</td>\n",
       "      <td>0</td>\n",
       "      <td>0</td>\n",
       "      <td>0</td>\n",
       "      <td>0</td>\n",
       "      <td>None</td>\n",
       "      <td>0</td>\n",
       "      <td>9</td>\n",
       "      <td>2006</td>\n",
       "      <td>New</td>\n",
       "    </tr>\n",
       "    <tr>\n",
       "      <th>3</th>\n",
       "      <td>1989</td>\n",
       "      <td>30</td>\n",
       "      <td>RM</td>\n",
       "      <td>60.0</td>\n",
       "      <td>8520</td>\n",
       "      <td>Pave</td>\n",
       "      <td>None</td>\n",
       "      <td>1</td>\n",
       "      <td>Lvl</td>\n",
       "      <td>1</td>\n",
       "      <td>Inside</td>\n",
       "      <td>1</td>\n",
       "      <td>OldTown</td>\n",
       "      <td>Norm</td>\n",
       "      <td>Norm</td>\n",
       "      <td>1Fam</td>\n",
       "      <td>1Story</td>\n",
       "      <td>5</td>\n",
       "      <td>6</td>\n",
       "      <td>1923</td>\n",
       "      <td>2006</td>\n",
       "      <td>Gable</td>\n",
       "      <td>CompShg</td>\n",
       "      <td>Wd Sdng</td>\n",
       "      <td>Wd Sdng</td>\n",
       "      <td>None</td>\n",
       "      <td>0.0</td>\n",
       "      <td>4</td>\n",
       "      <td>3</td>\n",
       "      <td>CBlock</td>\n",
       "      <td>3</td>\n",
       "      <td>3</td>\n",
       "      <td>1</td>\n",
       "      <td>Unf</td>\n",
       "      <td>0</td>\n",
       "      <td>Unf</td>\n",
       "      <td>0</td>\n",
       "      <td>968</td>\n",
       "      <td>968</td>\n",
       "      <td>GasA</td>\n",
       "      <td>3</td>\n",
       "      <td>Y</td>\n",
       "      <td>5</td>\n",
       "      <td>968</td>\n",
       "      <td>0</td>\n",
       "      <td>0</td>\n",
       "      <td>968</td>\n",
       "      <td>0</td>\n",
       "      <td>0</td>\n",
       "      <td>1</td>\n",
       "      <td>0</td>\n",
       "      <td>2</td>\n",
       "      <td>1</td>\n",
       "      <td>3</td>\n",
       "      <td>5</td>\n",
       "      <td>8</td>\n",
       "      <td>0</td>\n",
       "      <td>0</td>\n",
       "      <td>Detchd</td>\n",
       "      <td>1935.0</td>\n",
       "      <td>1</td>\n",
       "      <td>2</td>\n",
       "      <td>480</td>\n",
       "      <td>2</td>\n",
       "      <td>3</td>\n",
       "      <td>1</td>\n",
       "      <td>0</td>\n",
       "      <td>0</td>\n",
       "      <td>184</td>\n",
       "      <td>0</td>\n",
       "      <td>0</td>\n",
       "      <td>0</td>\n",
       "      <td>0</td>\n",
       "      <td>0</td>\n",
       "      <td>None</td>\n",
       "      <td>0</td>\n",
       "      <td>7</td>\n",
       "      <td>2007</td>\n",
       "      <td>WD</td>\n",
       "    </tr>\n",
       "    <tr>\n",
       "      <th>4</th>\n",
       "      <td>625</td>\n",
       "      <td>20</td>\n",
       "      <td>RL</td>\n",
       "      <td>0.0</td>\n",
       "      <td>9500</td>\n",
       "      <td>Pave</td>\n",
       "      <td>None</td>\n",
       "      <td>2</td>\n",
       "      <td>Lvl</td>\n",
       "      <td>1</td>\n",
       "      <td>Inside</td>\n",
       "      <td>1</td>\n",
       "      <td>NAmes</td>\n",
       "      <td>Norm</td>\n",
       "      <td>Norm</td>\n",
       "      <td>1Fam</td>\n",
       "      <td>1Story</td>\n",
       "      <td>6</td>\n",
       "      <td>5</td>\n",
       "      <td>1963</td>\n",
       "      <td>1963</td>\n",
       "      <td>Gable</td>\n",
       "      <td>CompShg</td>\n",
       "      <td>Plywood</td>\n",
       "      <td>Plywood</td>\n",
       "      <td>BrkFace</td>\n",
       "      <td>247.0</td>\n",
       "      <td>3</td>\n",
       "      <td>3</td>\n",
       "      <td>CBlock</td>\n",
       "      <td>4</td>\n",
       "      <td>3</td>\n",
       "      <td>1</td>\n",
       "      <td>4</td>\n",
       "      <td>609</td>\n",
       "      <td>Unf</td>\n",
       "      <td>0</td>\n",
       "      <td>785</td>\n",
       "      <td>1394</td>\n",
       "      <td>GasA</td>\n",
       "      <td>4</td>\n",
       "      <td>Y</td>\n",
       "      <td>5</td>\n",
       "      <td>1394</td>\n",
       "      <td>0</td>\n",
       "      <td>0</td>\n",
       "      <td>1394</td>\n",
       "      <td>1</td>\n",
       "      <td>0</td>\n",
       "      <td>1</td>\n",
       "      <td>1</td>\n",
       "      <td>3</td>\n",
       "      <td>1</td>\n",
       "      <td>3</td>\n",
       "      <td>6</td>\n",
       "      <td>8</td>\n",
       "      <td>2</td>\n",
       "      <td>4</td>\n",
       "      <td>Attchd</td>\n",
       "      <td>1963.0</td>\n",
       "      <td>2</td>\n",
       "      <td>2</td>\n",
       "      <td>514</td>\n",
       "      <td>3</td>\n",
       "      <td>3</td>\n",
       "      <td>3</td>\n",
       "      <td>0</td>\n",
       "      <td>76</td>\n",
       "      <td>0</td>\n",
       "      <td>0</td>\n",
       "      <td>185</td>\n",
       "      <td>0</td>\n",
       "      <td>0</td>\n",
       "      <td>0</td>\n",
       "      <td>None</td>\n",
       "      <td>0</td>\n",
       "      <td>7</td>\n",
       "      <td>2009</td>\n",
       "      <td>WD</td>\n",
       "    </tr>\n",
       "  </tbody>\n",
       "</table>\n",
       "</div>"
      ],
      "text/plain": [
       "     id  ms_subclass ms_zoning  lot_frontage  lot_area street alley lot_shape  \\\n",
       "0  2658          190        RM          69.0      9142   Pave  Grvl         1   \n",
       "1  2718           90        RL           0.0      9662   Pave  None         2   \n",
       "2  2414           60        RL          58.0     17104   Pave  None         2   \n",
       "3  1989           30        RM          60.0      8520   Pave  None         1   \n",
       "4   625           20        RL           0.0      9500   Pave  None         2   \n",
       "\n",
       "  land_contour utilities lot_config land_slope neighborhood condition_1  \\\n",
       "0          Lvl         1     Inside          1      OldTown        Norm   \n",
       "1          Lvl         1     Inside          1       Sawyer        Norm   \n",
       "2          Lvl         1     Inside          1      Gilbert        Norm   \n",
       "3          Lvl         1     Inside          1      OldTown        Norm   \n",
       "4          Lvl         1     Inside          1        NAmes        Norm   \n",
       "\n",
       "  condition_2 bldg_type house_style  overall_qual  overall_cond  year_built  \\\n",
       "0        Norm    2fmCon      2Story             6             8        1910   \n",
       "1        Norm    Duplex      1Story             5             4        1977   \n",
       "2        Norm      1Fam      2Story             7             5        2006   \n",
       "3        Norm      1Fam      1Story             5             6        1923   \n",
       "4        Norm      1Fam      1Story             6             5        1963   \n",
       "\n",
       "   year_remod/add roof_style roof_matl exterior_1st exterior_2nd mas_vnr_type  \\\n",
       "0            1950      Gable   CompShg      AsbShng      AsbShng         None   \n",
       "1            1977      Gable   CompShg      Plywood      Plywood         None   \n",
       "2            2006      Gable   CompShg      VinylSd      VinylSd         None   \n",
       "3            2006      Gable   CompShg      Wd Sdng      Wd Sdng         None   \n",
       "4            1963      Gable   CompShg      Plywood      Plywood      BrkFace   \n",
       "\n",
       "   mas_vnr_area exter_qual exter_cond foundation  bsmt_qual  bsmt_cond  \\\n",
       "0           0.0          3          2      Stone          2          3   \n",
       "1           0.0          3          3     CBlock          4          3   \n",
       "2           0.0          4          3      PConc          4          4   \n",
       "3           0.0          4          3     CBlock          3          3   \n",
       "4         247.0          3          3     CBlock          4          3   \n",
       "\n",
       "   bsmt_exposure bsmtfin_type_1  bsmtfin_sf_1 bsmtfin_type_2  bsmtfin_sf_2  \\\n",
       "0              1            Unf             0            Unf             0   \n",
       "1              1            Unf             0            Unf             0   \n",
       "2              3              6           554            Unf             0   \n",
       "3              1            Unf             0            Unf             0   \n",
       "4              1              4           609            Unf             0   \n",
       "\n",
       "   bsmt_unf_sf  total_bsmt_sf heating heating_qc central_air  electrical  \\\n",
       "0         1020           1020    GasA          4           N           2   \n",
       "1         1967           1967    GasA          3           Y           5   \n",
       "2          100            654    GasA          5           Y           5   \n",
       "3          968            968    GasA          3           Y           5   \n",
       "4          785           1394    GasA          4           Y           5   \n",
       "\n",
       "   1st_flr_sf  2nd_flr_sf  low_qual_fin_sf  gr_liv_area  bsmt_full_bath  \\\n",
       "0         908        1020                0         1928               0   \n",
       "1        1967           0                0         1967               0   \n",
       "2         664         832                0         1496               1   \n",
       "3         968           0                0          968               0   \n",
       "4        1394           0                0         1394               1   \n",
       "\n",
       "   bsmt_half_bath  full_bath  half_bath  bedroom_abvgr  kitchen_abvgr  \\\n",
       "0               0          2          0              4              2   \n",
       "1               0          2          0              6              2   \n",
       "2               0          2          1              3              1   \n",
       "3               0          1          0              2              1   \n",
       "4               0          1          1              3              1   \n",
       "\n",
       "  kitchen_qual  totrms_abvgrd functional  fireplaces  fireplace_qu  \\\n",
       "0            2              9          8           0             0   \n",
       "1            3             10          8           0             0   \n",
       "2            4              7          8           1             4   \n",
       "3            3              5          8           0             0   \n",
       "4            3              6          8           2             4   \n",
       "\n",
       "  garage_type  garage_yr_blt  garage_finish  garage_cars  garage_area  \\\n",
       "0      Detchd         1910.0              1            1          440   \n",
       "1      Attchd         1977.0              3            2          580   \n",
       "2      Attchd         2006.0              2            2          426   \n",
       "3      Detchd         1935.0              1            2          480   \n",
       "4      Attchd         1963.0              2            2          514   \n",
       "\n",
       "   garage_qual  garage_cond paved_drive  wood_deck_sf  open_porch_sf  \\\n",
       "0            1            1           3             0             60   \n",
       "1            3            3           3           170              0   \n",
       "2            3            3           3           100             24   \n",
       "3            2            3           1             0              0   \n",
       "4            3            3           3             0             76   \n",
       "\n",
       "   enclosed_porch  3ssn_porch  screen_porch  pool_area  pool_qc  fence  \\\n",
       "0             112           0             0          0        0      0   \n",
       "1               0           0             0          0        0      0   \n",
       "2               0           0             0          0        0      0   \n",
       "3             184           0             0          0        0      0   \n",
       "4               0           0           185          0        0      0   \n",
       "\n",
       "  misc_feature  misc_val  mo_sold  yr_sold sale_type  \n",
       "0         None         0        4     2006       WD   \n",
       "1         None         0        8     2006       WD   \n",
       "2         None         0        9     2006       New  \n",
       "3         None         0        7     2007       WD   \n",
       "4         None         0        7     2009       WD   "
      ]
     },
     "execution_count": 19,
     "metadata": {},
     "output_type": "execute_result"
    }
   ],
   "source": [
    "test.head()"
   ]
  },
  {
   "cell_type": "markdown",
   "metadata": {
    "scrolled": false
   },
   "source": [
    "However, we also have to account for the rest of our nominal columns to check for collinearity with our Sale Price thus, we use Pandas get_dummies function to encode our nominal columns."
   ]
  },
  {
   "cell_type": "code",
   "execution_count": 20,
   "metadata": {},
   "outputs": [],
   "source": [
    "features_train_cat = [i for i in train.columns if (i != 'saleprice') and (train[i].dtypes) == np.object]\n",
    "features_test_cat = [i for i in test.columns if (i != 'saleprice') and (test[i].dtypes) == np.object]"
   ]
  },
  {
   "cell_type": "code",
   "execution_count": 21,
   "metadata": {},
   "outputs": [],
   "source": [
    "train = pd.get_dummies(train, columns=features_train_cat, drop_first=True)\n",
    "test = pd.get_dummies(test, columns=features_test_cat, drop_first=True)"
   ]
  },
  {
   "cell_type": "code",
   "execution_count": 22,
   "metadata": {},
   "outputs": [
    {
     "data": {
      "text/plain": [
       "(2051, 232)"
      ]
     },
     "execution_count": 22,
     "metadata": {},
     "output_type": "execute_result"
    }
   ],
   "source": [
    "numeric_features = train.select_dtypes(include=[np.number])\n",
    "numeric_features.shape"
   ]
  },
  {
   "cell_type": "code",
   "execution_count": 23,
   "metadata": {
    "scrolled": true
   },
   "outputs": [
    {
     "data": {
      "text/plain": [
       "id                        int64\n",
       "ms_subclass               int64\n",
       "lot_frontage            float64\n",
       "lot_area                  int64\n",
       "overall_qual              int64\n",
       "overall_cond              int64\n",
       "year_built                int64\n",
       "year_remod/add            int64\n",
       "mas_vnr_area            float64\n",
       "bsmt_qual                 int64\n",
       "bsmt_cond                 int64\n",
       "bsmt_exposure             int64\n",
       "bsmtfin_sf_1            float64\n",
       "bsmtfin_sf_2            float64\n",
       "bsmt_unf_sf             float64\n",
       "total_bsmt_sf           float64\n",
       "1st_flr_sf                int64\n",
       "2nd_flr_sf                int64\n",
       "low_qual_fin_sf           int64\n",
       "gr_liv_area               int64\n",
       "bsmt_full_bath          float64\n",
       "bsmt_half_bath          float64\n",
       "full_bath                 int64\n",
       "half_bath                 int64\n",
       "bedroom_abvgr             int64\n",
       "kitchen_abvgr             int64\n",
       "totrms_abvgrd             int64\n",
       "fireplaces                int64\n",
       "fireplace_qu              int64\n",
       "garage_yr_blt           float64\n",
       "garage_finish             int64\n",
       "garage_cars             float64\n",
       "garage_area             float64\n",
       "garage_qual               int64\n",
       "garage_cond               int64\n",
       "wood_deck_sf              int64\n",
       "open_porch_sf             int64\n",
       "enclosed_porch            int64\n",
       "3ssn_porch                int64\n",
       "screen_porch              int64\n",
       "pool_area                 int64\n",
       "pool_qc                   int64\n",
       "fence                     int64\n",
       "misc_val                  int64\n",
       "mo_sold                   int64\n",
       "yr_sold                   int64\n",
       "saleprice                 int64\n",
       "ms_zoning_C (all)         uint8\n",
       "ms_zoning_FV              uint8\n",
       "ms_zoning_I (all)         uint8\n",
       "ms_zoning_RH              uint8\n",
       "ms_zoning_RL              uint8\n",
       "ms_zoning_RM              uint8\n",
       "street_Pave               uint8\n",
       "alley_None                uint8\n",
       "alley_Pave                uint8\n",
       "lot_shape_2               uint8\n",
       "lot_shape_3               uint8\n",
       "lot_shape_4               uint8\n",
       "land_contour_HLS          uint8\n",
       "land_contour_Low          uint8\n",
       "land_contour_Lvl          uint8\n",
       "utilities_2               uint8\n",
       "utilities_3               uint8\n",
       "lot_config_CulDSac        uint8\n",
       "lot_config_FR2            uint8\n",
       "lot_config_FR3            uint8\n",
       "lot_config_Inside         uint8\n",
       "land_slope_2              uint8\n",
       "land_slope_3              uint8\n",
       "neighborhood_Blueste      uint8\n",
       "neighborhood_BrDale       uint8\n",
       "neighborhood_BrkSide      uint8\n",
       "neighborhood_ClearCr      uint8\n",
       "neighborhood_CollgCr      uint8\n",
       "neighborhood_Crawfor      uint8\n",
       "neighborhood_Edwards      uint8\n",
       "neighborhood_Gilbert      uint8\n",
       "neighborhood_Greens       uint8\n",
       "neighborhood_GrnHill      uint8\n",
       "neighborhood_IDOTRR       uint8\n",
       "neighborhood_Landmrk      uint8\n",
       "neighborhood_MeadowV      uint8\n",
       "neighborhood_Mitchel      uint8\n",
       "neighborhood_NAmes        uint8\n",
       "neighborhood_NPkVill      uint8\n",
       "neighborhood_NWAmes       uint8\n",
       "neighborhood_NoRidge      uint8\n",
       "neighborhood_NridgHt      uint8\n",
       "neighborhood_OldTown      uint8\n",
       "neighborhood_SWISU        uint8\n",
       "neighborhood_Sawyer       uint8\n",
       "neighborhood_SawyerW      uint8\n",
       "neighborhood_Somerst      uint8\n",
       "neighborhood_StoneBr      uint8\n",
       "neighborhood_Timber       uint8\n",
       "neighborhood_Veenker      uint8\n",
       "condition_1_Feedr         uint8\n",
       "condition_1_Norm          uint8\n",
       "condition_1_PosA          uint8\n",
       "condition_1_PosN          uint8\n",
       "condition_1_RRAe          uint8\n",
       "condition_1_RRAn          uint8\n",
       "condition_1_RRNe          uint8\n",
       "condition_1_RRNn          uint8\n",
       "condition_2_Feedr         uint8\n",
       "condition_2_Norm          uint8\n",
       "condition_2_PosA          uint8\n",
       "condition_2_PosN          uint8\n",
       "condition_2_RRAe          uint8\n",
       "condition_2_RRAn          uint8\n",
       "condition_2_RRNn          uint8\n",
       "bldg_type_2fmCon          uint8\n",
       "bldg_type_Duplex          uint8\n",
       "bldg_type_Twnhs           uint8\n",
       "bldg_type_TwnhsE          uint8\n",
       "house_style_1.5Unf        uint8\n",
       "house_style_1Story        uint8\n",
       "house_style_2.5Fin        uint8\n",
       "house_style_2.5Unf        uint8\n",
       "house_style_2Story        uint8\n",
       "house_style_SFoyer        uint8\n",
       "house_style_SLvl          uint8\n",
       "roof_style_Gable          uint8\n",
       "roof_style_Gambrel        uint8\n",
       "roof_style_Hip            uint8\n",
       "roof_style_Mansard        uint8\n",
       "roof_style_Shed           uint8\n",
       "roof_matl_CompShg         uint8\n",
       "roof_matl_Membran         uint8\n",
       "roof_matl_Tar&Grv         uint8\n",
       "roof_matl_WdShake         uint8\n",
       "roof_matl_WdShngl         uint8\n",
       "exterior_1st_AsphShn      uint8\n",
       "exterior_1st_BrkComm      uint8\n",
       "exterior_1st_BrkFace      uint8\n",
       "exterior_1st_CBlock       uint8\n",
       "exterior_1st_CemntBd      uint8\n",
       "exterior_1st_HdBoard      uint8\n",
       "exterior_1st_ImStucc      uint8\n",
       "exterior_1st_MetalSd      uint8\n",
       "exterior_1st_Plywood      uint8\n",
       "exterior_1st_Stone        uint8\n",
       "exterior_1st_Stucco       uint8\n",
       "exterior_1st_VinylSd      uint8\n",
       "exterior_1st_Wd Sdng      uint8\n",
       "exterior_1st_WdShing      uint8\n",
       "exterior_2nd_AsphShn      uint8\n",
       "exterior_2nd_Brk Cmn      uint8\n",
       "exterior_2nd_BrkFace      uint8\n",
       "exterior_2nd_CBlock       uint8\n",
       "exterior_2nd_CmentBd      uint8\n",
       "exterior_2nd_HdBoard      uint8\n",
       "exterior_2nd_ImStucc      uint8\n",
       "exterior_2nd_MetalSd      uint8\n",
       "exterior_2nd_Plywood      uint8\n",
       "exterior_2nd_Stone        uint8\n",
       "exterior_2nd_Stucco       uint8\n",
       "exterior_2nd_VinylSd      uint8\n",
       "exterior_2nd_Wd Sdng      uint8\n",
       "exterior_2nd_Wd Shng      uint8\n",
       "mas_vnr_type_BrkFace      uint8\n",
       "mas_vnr_type_None         uint8\n",
       "mas_vnr_type_Stone        uint8\n",
       "exter_qual_3              uint8\n",
       "exter_qual_4              uint8\n",
       "exter_qual_5              uint8\n",
       "exter_cond_2              uint8\n",
       "exter_cond_3              uint8\n",
       "exter_cond_4              uint8\n",
       "exter_cond_5              uint8\n",
       "foundation_CBlock         uint8\n",
       "foundation_PConc          uint8\n",
       "foundation_Slab           uint8\n",
       "foundation_Stone          uint8\n",
       "foundation_Wood           uint8\n",
       "bsmtfin_type_1_2          uint8\n",
       "bsmtfin_type_1_3          uint8\n",
       "bsmtfin_type_1_4          uint8\n",
       "bsmtfin_type_1_5          uint8\n",
       "bsmtfin_type_1_6          uint8\n",
       "bsmtfin_type_1_Unf        uint8\n",
       "bsmtfin_type_2_2          uint8\n",
       "bsmtfin_type_2_3          uint8\n",
       "bsmtfin_type_2_4          uint8\n",
       "bsmtfin_type_2_5          uint8\n",
       "bsmtfin_type_2_6          uint8\n",
       "bsmtfin_type_2_Unf        uint8\n",
       "heating_GasW              uint8\n",
       "heating_Grav              uint8\n",
       "heating_OthW              uint8\n",
       "heating_Wall              uint8\n",
       "heating_qc_2              uint8\n",
       "heating_qc_3              uint8\n",
       "heating_qc_4              uint8\n",
       "heating_qc_5              uint8\n",
       "central_air_Y             uint8\n",
       "electrical_2              uint8\n",
       "electrical_3              uint8\n",
       "electrical_4              uint8\n",
       "electrical_5              uint8\n",
       "kitchen_qual_3            uint8\n",
       "kitchen_qual_4            uint8\n",
       "kitchen_qual_5            uint8\n",
       "functional_2              uint8\n",
       "functional_3              uint8\n",
       "functional_4              uint8\n",
       "functional_5              uint8\n",
       "functional_6              uint8\n",
       "functional_7              uint8\n",
       "functional_8              uint8\n",
       "garage_type_Attchd        uint8\n",
       "garage_type_Basment       uint8\n",
       "garage_type_BuiltIn       uint8\n",
       "garage_type_CarPort       uint8\n",
       "garage_type_Detchd        uint8\n",
       "garage_type_None          uint8\n",
       "paved_drive_2             uint8\n",
       "paved_drive_3             uint8\n",
       "misc_feature_Gar2         uint8\n",
       "misc_feature_None         uint8\n",
       "misc_feature_Othr         uint8\n",
       "misc_feature_Shed         uint8\n",
       "misc_feature_TenC         uint8\n",
       "sale_type_CWD             uint8\n",
       "sale_type_Con             uint8\n",
       "sale_type_ConLD           uint8\n",
       "sale_type_ConLI           uint8\n",
       "sale_type_ConLw           uint8\n",
       "sale_type_New             uint8\n",
       "sale_type_Oth             uint8\n",
       "sale_type_WD              uint8\n",
       "dtype: object"
      ]
     },
     "execution_count": 23,
     "metadata": {},
     "output_type": "execute_result"
    }
   ],
   "source": [
    "train.dtypes"
   ]
  },
  {
   "cell_type": "markdown",
   "metadata": {},
   "source": [
    "We can see that now all our columns which encoded and can be recognised and used for modelling and we can now hearby check for collinearity with respect to what we are trying to predict here, Sale Price. <br>\n",
    "\n",
    "Here below, we view the first 15 most positively correlated values with respect to our Sale Price and also, the 5 most negatively correlated values at the same time."
   ]
  },
  {
   "cell_type": "code",
   "execution_count": 24,
   "metadata": {
    "scrolled": false
   },
   "outputs": [
    {
     "name": "stdout",
     "output_type": "stream",
     "text": [
      "saleprice           1.000000\n",
      "overall_qual        0.800207\n",
      "gr_liv_area         0.697038\n",
      "garage_area         0.649897\n",
      "garage_cars         0.647781\n",
      "total_bsmt_sf       0.629303\n",
      "1st_flr_sf          0.618486\n",
      "bsmt_qual           0.612188\n",
      "year_built          0.571849\n",
      "garage_finish       0.557839\n",
      "kitchen_qual_5      0.551284\n",
      "year_remod/add      0.550370\n",
      "fireplace_qu        0.538925\n",
      "full_bath           0.537969\n",
      "foundation_PConc    0.529047\n",
      "Name: saleprice, dtype: float64 \n",
      "\n",
      "foundation_CBlock    -0.355535\n",
      "garage_type_Detchd   -0.370344\n",
      "mas_vnr_type_None    -0.411170\n",
      "kitchen_qual_3       -0.540860\n",
      "exter_qual_3         -0.600362\n",
      "Name: saleprice, dtype: float64\n"
     ]
    }
   ],
   "source": [
    "corr = numeric_features.corr()\n",
    "print (corr['saleprice'].sort_values(ascending=False)[:15], '\\n')\n",
    "print (corr['saleprice'].sort_values(ascending=False)[-5:])"
   ]
  },
  {
   "cell_type": "markdown",
   "metadata": {},
   "source": [
    "Since we have so many predictor columns, we can take a few of the more positively correlated predictors and plot a heatmap to help us visually understand it's collinearity. We can take the top most correlated columns and plot a heatmap."
   ]
  },
  {
   "cell_type": "code",
   "execution_count": 25,
   "metadata": {},
   "outputs": [],
   "source": [
    "most_corr = train[['saleprice',\n",
    "                  'overall_qual',\n",
    "                  'gr_liv_area',\n",
    "                  'garage_area',\n",
    "                  'total_bsmt_sf',\n",
    "                  'bsmt_qual',\n",
    "                  'year_built',\n",
    "                  'garage_finish',\n",
    "                  'year_remod/add',\n",
    "                  'fireplace_qu',\n",
    "                  'full_bath']]"
   ]
  },
  {
   "cell_type": "code",
   "execution_count": 26,
   "metadata": {
    "scrolled": false
   },
   "outputs": [
    {
     "data": {
      "text/plain": [
       "<matplotlib.axes._subplots.AxesSubplot at 0x1eb750f5358>"
      ]
     },
     "execution_count": 26,
     "metadata": {},
     "output_type": "execute_result"
    },
    {
     "data": {
      "image/png": "[encoded data removed]",
      "text/plain": [
       "<Figure size 1080x720 with 2 Axes>"
      ]
     },
     "metadata": {
      "needs_background": "light"
     },
     "output_type": "display_data"
    }
   ],
   "source": [
    "fig, ax = plt.subplots(figsize=(15,10)) \n",
    "corr = most_corr.corr()\n",
    "mask = np.zeros_like(corr, dtype=np.bool)\n",
    "mask[np.triu_indices_from(mask)] = True\n",
    "\n",
    "sns.heatmap(corr, annot=True, mask=mask)"
   ]
  },
  {
   "cell_type": "markdown",
   "metadata": {},
   "source": [
    "We can also create histograms of all the columns above to check for their distribution."
   ]
  },
  {
   "cell_type": "code",
   "execution_count": 27,
   "metadata": {},
   "outputs": [
    {
     "data": {
      "image/png": "[encoded data removed]",
      "text/plain": [
       "<Figure size 1080x1080 with 12 Axes>"
      ]
     },
     "metadata": {
      "needs_background": "light"
     },
     "output_type": "display_data"
    }
   ],
   "source": [
    "most_corr.hist(figsize=(15, 15));"
   ]
  },
  {
   "cell_type": "markdown",
   "metadata": {},
   "source": [
    "Some features can we drawn from all the histograms above. One clear feature we can see from the histograms above is that, the price of the house increases with the year which it is built. Histograms are important for us to see how the data is distributed for every variable. <br>\n",
    "\n",
    "Furthur exploratory data analysis can be done as we take some of the most correlated columns and plot their scatter plots out."
   ]
  },
  {
   "cell_type": "markdown",
   "metadata": {},
   "source": [
    "[Return to Table of Contents](#title)"
   ]
  },
  {
   "cell_type": "markdown",
   "metadata": {},
   "source": [
    "<a class=\"anchor\" id=\"fourth-section\"></a>\n",
    "\n",
    "<h3> 4. Scatter Plotting </h3>"
   ]
  },
  {
   "cell_type": "markdown",
   "metadata": {},
   "source": [
    "<b> Scatter plot of Overall Quality against Sale Price <b>"
   ]
  },
  {
   "cell_type": "markdown",
   "metadata": {},
   "source": [
    "First, we remove some outliers from these columns which we will be looking into more."
   ]
  },
  {
   "cell_type": "code",
   "execution_count": 28,
   "metadata": {},
   "outputs": [],
   "source": [
    "train = train[train['saleprice'] > 95000]"
   ]
  },
  {
   "cell_type": "code",
   "execution_count": 29,
   "metadata": {},
   "outputs": [],
   "source": [
    "train = train[train['gr_liv_area'] < 3000]"
   ]
  },
  {
   "cell_type": "code",
   "execution_count": 30,
   "metadata": {},
   "outputs": [],
   "source": [
    "train = train[train['garage_area'] < 1000]"
   ]
  },
  {
   "cell_type": "code",
   "execution_count": 31,
   "metadata": {},
   "outputs": [],
   "source": [
    "train = train[train['total_bsmt_sf'] < 2300]"
   ]
  },
  {
   "cell_type": "code",
   "execution_count": 32,
   "metadata": {},
   "outputs": [],
   "source": [
    "target = np.log(train['saleprice'])"
   ]
  },
  {
   "cell_type": "code",
   "execution_count": 33,
   "metadata": {},
   "outputs": [
    {
     "data": {
      "image/png": "[encoded data removed]",
      "text/plain": [
       "<Figure size 432x288 with 1 Axes>"
      ]
     },
     "metadata": {
      "needs_background": "light"
     },
     "output_type": "display_data"
    }
   ],
   "source": [
    "plt.scatter(x=train['overall_qual'], y=target,c=['red'])\n",
    "plt.ylabel('Sale Price')\n",
    "plt.xlabel('Overall Quality')\n",
    "plt.plot(np.unique(train['overall_qual']), np.poly1d(np.polyfit(train['overall_qual'], target, 1))(np.unique(train['overall_qual'])))\n",
    "plt.show()"
   ]
  },
  {
   "cell_type": "markdown",
   "metadata": {},
   "source": [
    "<b> Scatter plot of General Living Area against Sale Price <b>"
   ]
  },
  {
   "cell_type": "code",
   "execution_count": 34,
   "metadata": {
    "scrolled": true
   },
   "outputs": [
    {
     "data": {
      "image/png": "[encoded data removed]",
      "text/plain": [
       "<Figure size 432x288 with 1 Axes>"
      ]
     },
     "metadata": {
      "needs_background": "light"
     },
     "output_type": "display_data"
    }
   ],
   "source": [
    "plt.scatter(x=train['gr_liv_area'], y=target,c=['red'])\n",
    "plt.ylabel('Sale Price')\n",
    "plt.xlabel('Above grade (ground) living area square feet')\n",
    "plt.plot(np.unique(train['gr_liv_area']), np.poly1d(np.polyfit(train['gr_liv_area'], target, 1))(np.unique(train['gr_liv_area'])))\n",
    "plt.show()"
   ]
  },
  {
   "cell_type": "markdown",
   "metadata": {},
   "source": [
    "<b> Scatter plot of Garage Area against Sale Price <b>"
   ]
  },
  {
   "cell_type": "code",
   "execution_count": 35,
   "metadata": {
    "scrolled": true
   },
   "outputs": [
    {
     "data": {
      "image/png": "[encoded data removed]",
      "text/plain": [
       "<Figure size 432x288 with 1 Axes>"
      ]
     },
     "metadata": {
      "needs_background": "light"
     },
     "output_type": "display_data"
    }
   ],
   "source": [
    "plt.scatter(x=train['garage_area'], y=target,c=['red'])\n",
    "plt.ylabel('Sale Price')\n",
    "plt.xlabel('Garage Area')\n",
    "plt.plot(np.unique(train['garage_area']), np.poly1d(np.polyfit(train['garage_area'], target, 1))(np.unique(train['garage_area'])))\n",
    "plt.show()"
   ]
  },
  {
   "cell_type": "markdown",
   "metadata": {},
   "source": [
    "<b> Scatter plot of Total Basement Sqft against Sale Price <b>"
   ]
  },
  {
   "cell_type": "code",
   "execution_count": 36,
   "metadata": {
    "scrolled": true
   },
   "outputs": [
    {
     "data": {
      "image/png": "[encoded data removed]",
      "text/plain": [
       "<Figure size 432x288 with 1 Axes>"
      ]
     },
     "metadata": {
      "needs_background": "light"
     },
     "output_type": "display_data"
    }
   ],
   "source": [
    "plt.scatter(x=train['total_bsmt_sf'], y=target,c=['red'])\n",
    "plt.ylabel('Sale Price')\n",
    "plt.xlabel('Total Basement Sqft')\n",
    "plt.plot(np.unique(train['total_bsmt_sf']), np.poly1d(np.polyfit(train['total_bsmt_sf'], target, 1))(np.unique(train['total_bsmt_sf'])))\n",
    "plt.show()"
   ]
  },
  {
   "cell_type": "markdown",
   "metadata": {},
   "source": [
    "<b> Scatter plot of Year Built against Sale Price <b>"
   ]
  },
  {
   "cell_type": "code",
   "execution_count": 37,
   "metadata": {
    "scrolled": true
   },
   "outputs": [
    {
     "data": {
      "image/png": "[encoded data removed]",
      "text/plain": [
       "<Figure size 432x288 with 1 Axes>"
      ]
     },
     "metadata": {
      "needs_background": "light"
     },
     "output_type": "display_data"
    }
   ],
   "source": [
    "plt.scatter(x=train['year_built'], y=target,c=['red'])\n",
    "plt.ylabel('Sale Price')\n",
    "plt.xlabel('Year Built')\n",
    "plt.plot(np.unique(train['year_built']), np.poly1d(np.polyfit(train['year_built'], target, 1))(np.unique(train['year_built'])))\n",
    "plt.show()"
   ]
  },
  {
   "cell_type": "markdown",
   "metadata": {},
   "source": [
    "<b> Scatter plot of Garage Finish against Sale Price <b>"
   ]
  },
  {
   "cell_type": "code",
   "execution_count": 38,
   "metadata": {},
   "outputs": [
    {
     "data": {
      "image/png": "[encoded data removed]",
      "text/plain": [
       "<Figure size 432x288 with 1 Axes>"
      ]
     },
     "metadata": {
      "needs_background": "light"
     },
     "output_type": "display_data"
    }
   ],
   "source": [
    "plt.scatter(x=train['garage_finish'], y=target,c=['red'])\n",
    "plt.ylabel('Sale Price')\n",
    "plt.xlabel('Quality of Garage')\n",
    "plt.plot(np.unique(train['garage_finish']), np.poly1d(np.polyfit(train['garage_finish'], target, 1))(np.unique(train['garage_finish'])))\n",
    "plt.show()"
   ]
  },
  {
   "cell_type": "markdown",
   "metadata": {},
   "source": [
    "<b> Scatter plot of Year Remodelled against Sale Price"
   ]
  },
  {
   "cell_type": "code",
   "execution_count": 39,
   "metadata": {},
   "outputs": [
    {
     "data": {
      "image/png": "[encoded data removed]",
      "text/plain": [
       "<Figure size 432x288 with 1 Axes>"
      ]
     },
     "metadata": {
      "needs_background": "light"
     },
     "output_type": "display_data"
    }
   ],
   "source": [
    "plt.scatter(x=train['year_remod/add'], y=target,c=['red'])\n",
    "plt.ylabel('Sale Price')\n",
    "plt.xlabel('Year Remodelled')\n",
    "plt.plot(np.unique(train['year_remod/add']), np.poly1d(np.polyfit(train['year_remod/add'], target, 1))(np.unique(train['year_remod/add'])))\n",
    "plt.show()"
   ]
  },
  {
   "cell_type": "markdown",
   "metadata": {},
   "source": [
    "<b> Scatter plot of Fireplace Quality against Sale Price"
   ]
  },
  {
   "cell_type": "code",
   "execution_count": 40,
   "metadata": {},
   "outputs": [
    {
     "data": {
      "image/png": "[encoded data removed]",
      "text/plain": [
       "<Figure size 432x288 with 1 Axes>"
      ]
     },
     "metadata": {
      "needs_background": "light"
     },
     "output_type": "display_data"
    }
   ],
   "source": [
    "plt.scatter(x=train['fireplace_qu'], y=target,c=['red'])\n",
    "plt.ylabel('Sale Price')\n",
    "plt.xlabel('Fireplace Quality')\n",
    "plt.plot(np.unique(train['fireplace_qu']), np.poly1d(np.polyfit(train['fireplace_qu'], target, 1))(np.unique(train['fireplace_qu'])))\n",
    "plt.show()"
   ]
  },
  {
   "cell_type": "markdown",
   "metadata": {},
   "source": [
    "From the scatter plots above, we can see that the outliers which might affect our model later are removed and our data looks better represented now."
   ]
  },
  {
   "cell_type": "markdown",
   "metadata": {},
   "source": [
    "[Return to Table of Contents](#title)"
   ]
  },
  {
   "cell_type": "markdown",
   "metadata": {},
   "source": [
    "<a class=\"anchor\" id=\"fifth-section\"></a>\n",
    "\n",
    "# 5. Modelling"
   ]
  },
  {
   "cell_type": "markdown",
   "metadata": {},
   "source": [
    "In this section, we will be running a few regression models to furthur test and find out which model fits this case the most for our predictor set of values!"
   ]
  },
  {
   "cell_type": "markdown",
   "metadata": {},
   "source": [
    "<a class=\"anchor\" id=\"sixth-section\"></a>\n",
    "\n",
    "\n",
    "<b> <span style=\"color:blue\">Multiple Linear Regression (MLR) with 1 predictor column </span></b>"
   ]
  },
  {
   "cell_type": "markdown",
   "metadata": {},
   "source": [
    "Setting up our predictors matrix with the top 1 most correlated and initializing target vector."
   ]
  },
  {
   "cell_type": "code",
   "execution_count": 41,
   "metadata": {},
   "outputs": [
    {
     "name": "stdout",
     "output_type": "stream",
     "text": [
      "(1861,)\n",
      "(1861, 1)\n"
     ]
    }
   ],
   "source": [
    "X = train[['overall_qual']].values\n",
    "\n",
    "# Target vector (SalePrice)\n",
    "target = train['saleprice']\n",
    "y = target\n",
    "\n",
    "print(target.shape)\n",
    "print(X.shape)"
   ]
  },
  {
   "cell_type": "markdown",
   "metadata": {},
   "source": [
    "Our target is a vector that represents a single variable (SalePrice), which has exactly the same number of observations as our training set: 1861. Thus we are good to proceed! </b>\n",
    "\n",
    "We first do a train-test-split and fit the training data into the Linear Regression Model."
   ]
  },
  {
   "cell_type": "code",
   "execution_count": 42,
   "metadata": {},
   "outputs": [
    {
     "data": {
      "text/plain": [
       "LinearRegression(copy_X=True, fit_intercept=True, n_jobs=None,\n",
       "         normalize=False)"
      ]
     },
     "execution_count": 42,
     "metadata": {},
     "output_type": "execute_result"
    }
   ],
   "source": [
    "X_train, X_test, y_train, y_test = train_test_split(X, y, random_state=22)\n",
    "\n",
    "lr = linear_model.LinearRegression()\n",
    "\n",
    "lr.fit(X_train, y_train)"
   ]
  },
  {
   "cell_type": "markdown",
   "metadata": {},
   "source": [
    "Now that the model has been fit, we can now evaluate our model. We need two scores to determine if our model is performing well, or experiencing high bias/variance. Thus, here we use .score()."
   ]
  },
  {
   "cell_type": "code",
   "execution_count": 43,
   "metadata": {},
   "outputs": [
    {
     "data": {
      "text/plain": [
       "0.6318548089543015"
      ]
     },
     "execution_count": 43,
     "metadata": {},
     "output_type": "execute_result"
    }
   ],
   "source": [
    "lr.score(X_train, y_train)"
   ]
  },
  {
   "cell_type": "code",
   "execution_count": 44,
   "metadata": {},
   "outputs": [
    {
     "data": {
      "text/plain": [
       "0.5689749953235402"
      ]
     },
     "execution_count": 44,
     "metadata": {},
     "output_type": "execute_result"
    }
   ],
   "source": [
    "lr.score(X_test, y_test)"
   ]
  },
  {
   "cell_type": "markdown",
   "metadata": {},
   "source": [
    "Then, we proceed to predict our Sale Price with this model."
   ]
  },
  {
   "cell_type": "code",
   "execution_count": 45,
   "metadata": {},
   "outputs": [
    {
     "data": {
      "image/png": "[encoded data removed]",
      "text/plain": [
       "<Figure size 576x576 with 1 Axes>"
      ]
     },
     "metadata": {
      "needs_background": "light"
     },
     "output_type": "display_data"
    },
    {
     "name": "stdout",
     "output_type": "stream",
     "text": [
      "Mean-squared-error:  41853.445556205515\n",
      "R2 score:  0.6184042997644941\n"
     ]
    }
   ],
   "source": [
    "predictions  =  lr.predict(X)\n",
    "score = lr.score(X,y)\n",
    "\n",
    "# Plot the model\n",
    "plt.figure(figsize=(8,8))\n",
    "plt.scatter(predictions, y , s=30, c='r', marker='+', zorder=10)\n",
    "plt.xlabel(\"X\")\n",
    "plt.ylabel(\"Y\")\n",
    "\n",
    "plt.plot([0, np.max(y)], [0, np.max(y)], c = 'k')\n",
    "\n",
    "plt.show()\n",
    "\n",
    "print(\"Mean-squared-error: \", np.sqrt(mean_squared_error(target, predictions)))\n",
    "print(\"R2 score: \", score)"
   ]
  },
  {
   "cell_type": "markdown",
   "metadata": {},
   "source": [
    "We can see from the mean-squared-error and R2 score that this has a quite serious case of underfitting, the accuracy of this model used to predict our Sale Price if we only use Overall Quality of House is very low. "
   ]
  },
  {
   "cell_type": "markdown",
   "metadata": {},
   "source": [
    "Let's use more predictors in the next model and see what effect this has on our MLR model."
   ]
  },
  {
   "cell_type": "markdown",
   "metadata": {},
   "source": [
    "[Return to Table of Contents](#title)"
   ]
  },
  {
   "cell_type": "markdown",
   "metadata": {},
   "source": [
    "<a class=\"anchor\" id=\"seventh-section\"></a>\n",
    "\n",
    "\n",
    "<b><span style=\"color:blue\"> Multiple Linear Regression (MLR) with 5 predictor columns </span></b>"
   ]
  },
  {
   "cell_type": "markdown",
   "metadata": {},
   "source": [
    "Setting up our predictors matrix with the top 5 most correlated and initializing target vector."
   ]
  },
  {
   "cell_type": "code",
   "execution_count": 46,
   "metadata": {},
   "outputs": [
    {
     "name": "stdout",
     "output_type": "stream",
     "text": [
      "(1861,)\n",
      "(1861, 5)\n"
     ]
    }
   ],
   "source": [
    "#Predictors\n",
    "X = train[['overall_qual','gr_liv_area','garage_area','total_bsmt_sf','year_built']].values\n",
    "\n",
    "# Target vector (SalePrice)\n",
    "target = train['saleprice']\n",
    "y = target\n",
    "\n",
    "print(target.shape)\n",
    "print(X.shape)"
   ]
  },
  {
   "cell_type": "markdown",
   "metadata": {},
   "source": [
    "Our target is a vector that represents a single variable (SalePrice), which has exactly the same number of observations as our training set: 1861. Thus we are good to proceed! </b>\n",
    "\n",
    "We do another train-test-split and fit the training data into the Linear Regression Model."
   ]
  },
  {
   "cell_type": "code",
   "execution_count": 47,
   "metadata": {},
   "outputs": [
    {
     "data": {
      "text/plain": [
       "LinearRegression(copy_X=True, fit_intercept=True, n_jobs=None,\n",
       "         normalize=False)"
      ]
     },
     "execution_count": 47,
     "metadata": {},
     "output_type": "execute_result"
    }
   ],
   "source": [
    "X_train, X_test, y_train, y_test = train_test_split(X, y, random_state=22)\n",
    "\n",
    "lr = linear_model.LinearRegression()\n",
    "\n",
    "lr.fit(X_train, y_train)"
   ]
  },
  {
   "cell_type": "markdown",
   "metadata": {},
   "source": [
    "Now that the model has been fit, we can now evaluate our model. We need two scores to determine if our model is performing well, or experiencing high bias/variance. Thus, here we use .score()."
   ]
  },
  {
   "cell_type": "code",
   "execution_count": 48,
   "metadata": {},
   "outputs": [
    {
     "data": {
      "text/plain": [
       "0.8089974419935105"
      ]
     },
     "execution_count": 48,
     "metadata": {},
     "output_type": "execute_result"
    }
   ],
   "source": [
    "lr.score(X_train, y_train)"
   ]
  },
  {
   "cell_type": "code",
   "execution_count": 49,
   "metadata": {},
   "outputs": [
    {
     "data": {
      "text/plain": [
       "0.7901458416133452"
      ]
     },
     "execution_count": 49,
     "metadata": {},
     "output_type": "execute_result"
    }
   ],
   "source": [
    "lr.score(X_test, y_test)"
   ]
  },
  {
   "cell_type": "markdown",
   "metadata": {},
   "source": [
    "Then, we proceed to predict our Sale Price with this model."
   ]
  },
  {
   "cell_type": "code",
   "execution_count": 50,
   "metadata": {
    "scrolled": false
   },
   "outputs": [
    {
     "data": {
      "image/png": "[encoded data removed]",
      "text/plain": [
       "<Figure size 576x576 with 1 Axes>"
      ]
     },
     "metadata": {
      "needs_background": "light"
     },
     "output_type": "display_data"
    },
    {
     "name": "stdout",
     "output_type": "stream",
     "text": [
      "Mean-squared-error:  29921.585947535543\n",
      "R2 score:  0.8049660319648525\n"
     ]
    }
   ],
   "source": [
    "predictions  =  lr.predict(X)\n",
    "score = lr.score(X,y)\n",
    "\n",
    "# Plot the model\n",
    "plt.figure(figsize=(8,8))\n",
    "plt.scatter(predictions, y , s=30, c='r', marker='+', zorder=10)\n",
    "plt.xlabel(\"X\")\n",
    "plt.ylabel(\"Y\")\n",
    "\n",
    "plt.plot([0, np.max(y)], [0, np.max(y)], c = 'k')\n",
    "\n",
    "plt.show()\n",
    "\n",
    "print(\"Mean-squared-error: \", np.sqrt(mean_squared_error(target, predictions)))\n",
    "print(\"R2 score: \", score)"
   ]
  },
  {
   "cell_type": "markdown",
   "metadata": {},
   "source": [
    "Based on the MSE and R2 score compared to the above model, we can see that the inclusion of more predictors improved our model score accordingly and we can start to interpret the coefficients of this MLR model."
   ]
  },
  {
   "cell_type": "code",
   "execution_count": 51,
   "metadata": {},
   "outputs": [
    {
     "name": "stdout",
     "output_type": "stream",
     "text": [
      "[20563.86972181    52.31390964    43.04431041    38.90145486\n",
      "   285.30419905]\n"
     ]
    }
   ],
   "source": [
    "print(lr.coef_)"
   ]
  },
  {
   "cell_type": "markdown",
   "metadata": {},
   "source": [
    "<b> Intepretation: </b>"
   ]
  },
  {
   "cell_type": "markdown",
   "metadata": {},
   "source": [
    "For a 1-unit increase in Overall Quality (holding constant the rest), there is a 20563.86972181 increase in SALEPRICE <br>\n",
    "For a 1-unit increase in General Living Area (holding constant the rest), there is a 52.31390964 increase in SALEPRICE <br>\n",
    "For a 1-unit increase in Garage Area (holding constant the rest), there is a 43.04431041 increase in SALEPRICE <br>\n",
    "For a 1-unit increase in Total Basement Sqft (holding constant the rest), there is a 38.90145486 increase in SALEPRICE <br>\n",
    "For a 1-unit increase in Year Built (holding constant the rest), there is a 285.30419905 increase in SALEPRICE"
   ]
  },
  {
   "cell_type": "markdown",
   "metadata": {},
   "source": [
    "Cross-Validation-Score:"
   ]
  },
  {
   "cell_type": "code",
   "execution_count": 52,
   "metadata": {
    "scrolled": true
   },
   "outputs": [
    {
     "data": {
      "text/plain": [
       "0.8078019151370258"
      ]
     },
     "execution_count": 52,
     "metadata": {},
     "output_type": "execute_result"
    }
   ],
   "source": [
    "scores = cross_val_score(lr, X_train, y_train, cv=5).mean()\n",
    "scores"
   ]
  },
  {
   "cell_type": "markdown",
   "metadata": {},
   "source": [
    "This value will be used to evaluate the difference between using 5 and 10 predictor columns."
   ]
  },
  {
   "cell_type": "markdown",
   "metadata": {},
   "source": [
    "[Return to Table of Contents](#title)"
   ]
  },
  {
   "cell_type": "markdown",
   "metadata": {},
   "source": [
    "<a class=\"anchor\" id=\"eighth-section\"></a>\n",
    "\n",
    "<b> <span style=\"color:blue\">Multiple Linear Regression (MLR) with 10 predictor columns </span></b>"
   ]
  },
  {
   "cell_type": "code",
   "execution_count": 53,
   "metadata": {
    "scrolled": true
   },
   "outputs": [
    {
     "name": "stdout",
     "output_type": "stream",
     "text": [
      "(1861,)\n",
      "(1861, 10)\n"
     ]
    }
   ],
   "source": [
    "#Predictors\n",
    "X = train[['overall_qual',\n",
    "              'gr_liv_area',\n",
    "              'garage_area',\n",
    "              'total_bsmt_sf',\n",
    "              'bsmt_qual',\n",
    "              'year_built',\n",
    "              'garage_finish',\n",
    "              'year_remod/add',\n",
    "              'fireplace_qu',\n",
    "              'kitchen_qual_5']].values\n",
    "\n",
    "# Target vector (SalePrice)\n",
    "target = train['saleprice']\n",
    "y = target\n",
    "\n",
    "print(target.shape)\n",
    "print(X.shape)"
   ]
  },
  {
   "cell_type": "code",
   "execution_count": 54,
   "metadata": {},
   "outputs": [
    {
     "data": {
      "text/plain": [
       "LinearRegression(copy_X=True, fit_intercept=True, n_jobs=None,\n",
       "         normalize=False)"
      ]
     },
     "execution_count": 54,
     "metadata": {},
     "output_type": "execute_result"
    }
   ],
   "source": [
    "X_train, X_test, y_train, y_test = train_test_split(X, y, random_state=22)\n",
    "\n",
    "lr = linear_model.LinearRegression()\n",
    "\n",
    "lr.fit(X_train, y_train)"
   ]
  },
  {
   "cell_type": "code",
   "execution_count": 55,
   "metadata": {
    "scrolled": false
   },
   "outputs": [
    {
     "data": {
      "image/png": "[encoded data removed]",
      "text/plain": [
       "<Figure size 576x576 with 1 Axes>"
      ]
     },
     "metadata": {
      "needs_background": "light"
     },
     "output_type": "display_data"
    },
    {
     "name": "stdout",
     "output_type": "stream",
     "text": [
      "Mean-squared-error:  26906.07414148556\n",
      "R2 score:  0.8422963634267\n"
     ]
    }
   ],
   "source": [
    "lr = linear_model.LinearRegression()\n",
    "\n",
    "model = lr.fit(X, y)\n",
    "\n",
    "predictions  =  model.predict(X)\n",
    "score        =  model.score(X, y)\n",
    "\n",
    "# Plot the model\n",
    "plt.figure(figsize=(8,8))\n",
    "plt.scatter(predictions, y, s=30, c='r', marker='+', zorder=10)\n",
    "plt.xlabel(\"X\")\n",
    "plt.ylabel(\"Y\")\n",
    "\n",
    "plt.plot([0, np.max(y)], [0, np.max(y)], c = 'k')\n",
    "\n",
    "plt.show()\n",
    "\n",
    "print(\"Mean-squared-error: \", np.sqrt(mean_squared_error(target, predictions)))\n",
    "print(\"R2 score: \", score)"
   ]
  },
  {
   "cell_type": "code",
   "execution_count": 56,
   "metadata": {
    "scrolled": false
   },
   "outputs": [
    {
     "name": "stdout",
     "output_type": "stream",
     "text": [
      "[1.25260707e+04 4.69679721e+01 4.43674440e+01 3.30927424e+01\n",
      " 4.06961170e+03 1.85614343e+02 2.50405962e+03 2.84645656e+02\n",
      " 3.23698676e+03 4.43260174e+04]\n"
     ]
    }
   ],
   "source": [
    "print(lr.coef_)"
   ]
  },
  {
   "cell_type": "markdown",
   "metadata": {},
   "source": [
    "Cross-Validation-Score:"
   ]
  },
  {
   "cell_type": "code",
   "execution_count": 57,
   "metadata": {},
   "outputs": [
    {
     "data": {
      "text/plain": [
       "0.8413433080372817"
      ]
     },
     "execution_count": 57,
     "metadata": {},
     "output_type": "execute_result"
    }
   ],
   "source": [
    "scores = cross_val_score(lr, X_train, y_train, cv=3).mean()\n",
    "scores"
   ]
  },
  {
   "cell_type": "markdown",
   "metadata": {},
   "source": [
    "We can see that our MSE and R2 score has reduced upon the inclusion of more predictors. However, now that we are adding predictors into our model, with more and more predictors we will also run the risk of overfitting our prediction model thus we can implement Ridge and Lasso Regressions to prevent overfitting.\n",
    "\n",
    "For this case based on the CV Score, 10 predictors seems to do better than 5 predictors and 1 predictor. We will use these 10 predictors for our Ridge and Lasso Regression in the next section."
   ]
  },
  {
   "cell_type": "markdown",
   "metadata": {},
   "source": [
    "[Return to Table of Contents](#title)"
   ]
  },
  {
   "cell_type": "markdown",
   "metadata": {},
   "source": [
    "<a class=\"anchor\" id=\"ninth-section\"></a>\n",
    "\n",
    "# Ridge and Lasso Regression Models\n",
    "\n",
    "Hence, we will be using 10 predictors for our Ridge and Lasso Regression and then evaluate them again against our MLR with 10 predictor columns. <br>\n",
    "\n",
    "### Scaling"
   ]
  },
  {
   "cell_type": "markdown",
   "metadata": {},
   "source": [
    "Since we are using Ridge and Lasso Regression, we will have to scale our features and we create instances of the Lasso and Ridge models."
   ]
  },
  {
   "cell_type": "code",
   "execution_count": 58,
   "metadata": {},
   "outputs": [],
   "source": [
    "ss = StandardScaler()\n",
    "ss.fit(X_train)\n",
    "X_train = ss.transform(X_train)\n",
    "X_test = ss.transform(X_test)\n",
    "\n",
    "lasso = LassoCV(n_alphas=200)\n",
    "ridge = RidgeCV(alphas=np.linspace(.1, 10, 100))"
   ]
  },
  {
   "cell_type": "markdown",
   "metadata": {},
   "source": [
    "Then we evaluate these two models with their CV Score."
   ]
  },
  {
   "cell_type": "code",
   "execution_count": 59,
   "metadata": {},
   "outputs": [
    {
     "name": "stderr",
     "output_type": "stream",
     "text": [
      "C:\\Users\\kelvi\\Anaconda3\\lib\\site-packages\\sklearn\\model_selection\\_split.py:2053: FutureWarning: You should specify a value for 'cv' instead of relying on the default value. The default value will change from 3 to 5 in version 0.22.\n",
      "  warnings.warn(CV_WARNING, FutureWarning)\n",
      "C:\\Users\\kelvi\\Anaconda3\\lib\\site-packages\\sklearn\\model_selection\\_split.py:2053: FutureWarning: You should specify a value for 'cv' instead of relying on the default value. The default value will change from 3 to 5 in version 0.22.\n",
      "  warnings.warn(CV_WARNING, FutureWarning)\n",
      "C:\\Users\\kelvi\\Anaconda3\\lib\\site-packages\\sklearn\\model_selection\\_split.py:2053: FutureWarning: You should specify a value for 'cv' instead of relying on the default value. The default value will change from 3 to 5 in version 0.22.\n",
      "  warnings.warn(CV_WARNING, FutureWarning)\n"
     ]
    },
    {
     "data": {
      "text/plain": [
       "0.8413527442592313"
      ]
     },
     "execution_count": 59,
     "metadata": {},
     "output_type": "execute_result"
    }
   ],
   "source": [
    "lasso_scores = cross_val_score(lasso, X_train, y_train, cv=3)\n",
    "lasso_scores.mean()"
   ]
  },
  {
   "cell_type": "code",
   "execution_count": 60,
   "metadata": {},
   "outputs": [
    {
     "data": {
      "text/plain": [
       "0.8414251449317129"
      ]
     },
     "execution_count": 60,
     "metadata": {},
     "output_type": "execute_result"
    }
   ],
   "source": [
    "ridge_scores = cross_val_score(ridge, X_train, y_train, cv=3)\n",
    "ridge_scores.mean()"
   ]
  },
  {
   "cell_type": "markdown",
   "metadata": {},
   "source": [
    "### Ridge Regression Model:\n",
    "\n",
    "Ridge Regression is used as we can control variance with the alpha parameter which will impose a penalty on the features applied, and thus prevent overfitting compared to MLR which overfitting will occur if we fit too many features into it."
   ]
  },
  {
   "cell_type": "markdown",
   "metadata": {},
   "source": [
    "First we fit our training set into the ridge model."
   ]
  },
  {
   "cell_type": "code",
   "execution_count": 61,
   "metadata": {
    "scrolled": false
   },
   "outputs": [
    {
     "data": {
      "text/plain": [
       "RidgeCV(alphas=array([ 0.1,  0.2, ...,  9.9, 10. ]), cv=None,\n",
       "    fit_intercept=True, gcv_mode=None, normalize=False, scoring=None,\n",
       "    store_cv_values=False)"
      ]
     },
     "execution_count": 61,
     "metadata": {},
     "output_type": "execute_result"
    }
   ],
   "source": [
    "ridge.fit(X_train, y_train)"
   ]
  },
  {
   "cell_type": "markdown",
   "metadata": {},
   "source": [
    "Then we proceed to check our score on both our training and testing set."
   ]
  },
  {
   "cell_type": "code",
   "execution_count": 62,
   "metadata": {},
   "outputs": [
    {
     "data": {
      "text/plain": [
       "0.8448581478164838"
      ]
     },
     "execution_count": 62,
     "metadata": {},
     "output_type": "execute_result"
    }
   ],
   "source": [
    "ridge.score(X_train, y_train)"
   ]
  },
  {
   "cell_type": "code",
   "execution_count": 63,
   "metadata": {},
   "outputs": [
    {
     "data": {
      "text/plain": [
       "0.8317421056850381"
      ]
     },
     "execution_count": 63,
     "metadata": {},
     "output_type": "execute_result"
    }
   ],
   "source": [
    "ridge.score(X_test, y_test)"
   ]
  },
  {
   "cell_type": "code",
   "execution_count": 64,
   "metadata": {
    "scrolled": true
   },
   "outputs": [
    {
     "data": {
      "text/plain": [
       "0.8414251449317129"
      ]
     },
     "execution_count": 64,
     "metadata": {},
     "output_type": "execute_result"
    }
   ],
   "source": [
    "ridge_scores.mean()"
   ]
  },
  {
   "cell_type": "markdown",
   "metadata": {},
   "source": [
    "Finally, we carry out the prediction with Ridge model."
   ]
  },
  {
   "cell_type": "code",
   "execution_count": 65,
   "metadata": {},
   "outputs": [],
   "source": [
    "pred = ridge.predict(X_test)"
   ]
  },
  {
   "cell_type": "code",
   "execution_count": 66,
   "metadata": {},
   "outputs": [
    {
     "data": {
      "text/plain": [
       "0.831742105685038"
      ]
     },
     "execution_count": 66,
     "metadata": {},
     "output_type": "execute_result"
    }
   ],
   "source": [
    "r2_score(y_test, pred)"
   ]
  },
  {
   "cell_type": "markdown",
   "metadata": {},
   "source": [
    "### Lasso Regression Model:"
   ]
  },
  {
   "cell_type": "code",
   "execution_count": 67,
   "metadata": {},
   "outputs": [
    {
     "data": {
      "text/plain": [
       "(466,)"
      ]
     },
     "execution_count": 67,
     "metadata": {},
     "output_type": "execute_result"
    }
   ],
   "source": [
    "pred.shape"
   ]
  },
  {
   "cell_type": "markdown",
   "metadata": {},
   "source": [
    "First we fit our training set into the lasso model."
   ]
  },
  {
   "cell_type": "code",
   "execution_count": 68,
   "metadata": {
    "scrolled": false
   },
   "outputs": [
    {
     "name": "stderr",
     "output_type": "stream",
     "text": [
      "C:\\Users\\kelvi\\Anaconda3\\lib\\site-packages\\sklearn\\model_selection\\_split.py:2053: FutureWarning: You should specify a value for 'cv' instead of relying on the default value. The default value will change from 3 to 5 in version 0.22.\n",
      "  warnings.warn(CV_WARNING, FutureWarning)\n"
     ]
    },
    {
     "data": {
      "text/plain": [
       "LassoCV(alphas=None, copy_X=True, cv='warn', eps=0.001, fit_intercept=True,\n",
       "    max_iter=1000, n_alphas=200, n_jobs=None, normalize=False,\n",
       "    positive=False, precompute='auto', random_state=None,\n",
       "    selection='cyclic', tol=0.0001, verbose=False)"
      ]
     },
     "execution_count": 68,
     "metadata": {},
     "output_type": "execute_result"
    }
   ],
   "source": [
    "lasso.fit(X_train, y_train)"
   ]
  },
  {
   "cell_type": "markdown",
   "metadata": {},
   "source": [
    "Then we proceed to check our score on both our training and testing set."
   ]
  },
  {
   "cell_type": "code",
   "execution_count": 69,
   "metadata": {},
   "outputs": [
    {
     "data": {
      "text/plain": [
       "0.8448502806256737"
      ]
     },
     "execution_count": 69,
     "metadata": {},
     "output_type": "execute_result"
    }
   ],
   "source": [
    "lasso.score(X_train, y_train)"
   ]
  },
  {
   "cell_type": "code",
   "execution_count": 70,
   "metadata": {},
   "outputs": [
    {
     "data": {
      "text/plain": [
       "0.8314233941556084"
      ]
     },
     "execution_count": 70,
     "metadata": {},
     "output_type": "execute_result"
    }
   ],
   "source": [
    "lasso.score(X_test, y_test)"
   ]
  },
  {
   "cell_type": "code",
   "execution_count": 71,
   "metadata": {
    "scrolled": true
   },
   "outputs": [
    {
     "data": {
      "text/plain": [
       "0.8413527442592313"
      ]
     },
     "execution_count": 71,
     "metadata": {},
     "output_type": "execute_result"
    }
   ],
   "source": [
    "lasso_scores.mean()"
   ]
  },
  {
   "cell_type": "markdown",
   "metadata": {},
   "source": [
    "Finally, we carry out the prediction with lasso model."
   ]
  },
  {
   "cell_type": "code",
   "execution_count": 72,
   "metadata": {},
   "outputs": [],
   "source": [
    "pred = lasso.predict(X_test)"
   ]
  },
  {
   "cell_type": "code",
   "execution_count": 73,
   "metadata": {
    "scrolled": true
   },
   "outputs": [
    {
     "data": {
      "text/plain": [
       "0.8314233941556084"
      ]
     },
     "execution_count": 73,
     "metadata": {},
     "output_type": "execute_result"
    }
   ],
   "source": [
    "r2_score(y_test, pred)"
   ]
  },
  {
   "cell_type": "markdown",
   "metadata": {},
   "source": [
    "<b> Based on all the evaluation done above, we can see that for our set of predictors, MLR with 10 top predictors seems to be the best performing model thus we will go ahead with using this model to predict our SalePrice for our test data for the Kaggle Challenge. </b>"
   ]
  },
  {
   "cell_type": "markdown",
   "metadata": {},
   "source": [
    "[Return to Table of Contents](#title)"
   ]
  },
  {
   "cell_type": "markdown",
   "metadata": {},
   "source": [
    "<a class=\"anchor\" id=\"tenth-section\"></a>\n",
    "\n",
    "# 6. Submission\n",
    "\n",
    "We finally trained our model and is ready to make prediction on test set. We will use predict() function imported from Scikit-learn and create a Pandas DataFrame containing the Id and the correspending SalePrice of each house in the test set.\n",
    "\n",
    "This last step consists of converting the DataFrame into a .csv file and uploading it on Kaggle by clicking \"Submit Predictions\" and choosing the .csv file."
   ]
  },
  {
   "cell_type": "markdown",
   "metadata": {},
   "source": [
    "Using the MLR model with 10 predictors on our test set..."
   ]
  },
  {
   "cell_type": "code",
   "execution_count": 74,
   "metadata": {},
   "outputs": [],
   "source": [
    "kaggle_upload = model.predict(test[['overall_qual',\n",
    "              'gr_liv_area',\n",
    "              'garage_area',\n",
    "              'total_bsmt_sf',\n",
    "              'bsmt_qual',\n",
    "              'year_built',\n",
    "              'garage_finish',\n",
    "              'year_remod/add',\n",
    "              'fireplace_qu',\n",
    "              'kitchen_qual_5']])"
   ]
  },
  {
   "cell_type": "code",
   "execution_count": 75,
   "metadata": {},
   "outputs": [
    {
     "data": {
      "text/plain": [
       "(879,)"
      ]
     },
     "execution_count": 75,
     "metadata": {},
     "output_type": "execute_result"
    }
   ],
   "source": [
    "kaggle_upload.shape"
   ]
  },
  {
   "cell_type": "code",
   "execution_count": 76,
   "metadata": {},
   "outputs": [],
   "source": [
    "df = pd.DataFrame(test['id'])"
   ]
  },
  {
   "cell_type": "code",
   "execution_count": 77,
   "metadata": {},
   "outputs": [],
   "source": [
    "df['saleprice'] = kaggle_upload"
   ]
  },
  {
   "cell_type": "code",
   "execution_count": 78,
   "metadata": {},
   "outputs": [],
   "source": [
    "df.set_index(keys=['id'], inplace=True)"
   ]
  },
  {
   "cell_type": "code",
   "execution_count": 79,
   "metadata": {},
   "outputs": [
    {
     "data": {
      "text/html": [
       "<div>\n",
       "<style scoped>\n",
       "    .dataframe tbody tr th:only-of-type {\n",
       "        vertical-align: middle;\n",
       "    }\n",
       "\n",
       "    .dataframe tbody tr th {\n",
       "        vertical-align: top;\n",
       "    }\n",
       "\n",
       "    .dataframe thead th {\n",
       "        text-align: right;\n",
       "    }\n",
       "</style>\n",
       "<table border=\"1\" class=\"dataframe\">\n",
       "  <thead>\n",
       "    <tr style=\"text-align: right;\">\n",
       "      <th></th>\n",
       "      <th>saleprice</th>\n",
       "    </tr>\n",
       "    <tr>\n",
       "      <th>id</th>\n",
       "      <th></th>\n",
       "    </tr>\n",
       "  </thead>\n",
       "  <tbody>\n",
       "    <tr>\n",
       "      <th>2658</th>\n",
       "      <td>158722.693301</td>\n",
       "    </tr>\n",
       "    <tr>\n",
       "      <th>2718</th>\n",
       "      <td>218847.579058</td>\n",
       "    </tr>\n",
       "    <tr>\n",
       "      <th>2414</th>\n",
       "      <td>195575.875850</td>\n",
       "    </tr>\n",
       "    <tr>\n",
       "      <th>1989</th>\n",
       "      <td>123583.999359</td>\n",
       "    </tr>\n",
       "    <tr>\n",
       "      <th>625</th>\n",
       "      <td>186430.856463</td>\n",
       "    </tr>\n",
       "  </tbody>\n",
       "</table>\n",
       "</div>"
      ],
      "text/plain": [
       "          saleprice\n",
       "id                 \n",
       "2658  158722.693301\n",
       "2718  218847.579058\n",
       "2414  195575.875850\n",
       "1989  123583.999359\n",
       "625   186430.856463"
      ]
     },
     "execution_count": 79,
     "metadata": {},
     "output_type": "execute_result"
    }
   ],
   "source": [
    "df.head()"
   ]
  },
  {
   "cell_type": "markdown",
   "metadata": {},
   "source": [
    "Then, we save into a csv file for uploading to Kaggle to retrieve our score!"
   ]
  },
  {
   "cell_type": "code",
   "execution_count": 80,
   "metadata": {},
   "outputs": [],
   "source": [
    "df.to_csv(r'./datasets/kaggle.csv')"
   ]
  },
  {
   "cell_type": "markdown",
   "metadata": {},
   "source": [
    "### After uploading to Kaggle, our model returned a Kaggle score of 33415.70894!"
   ]
  },
  {
   "cell_type": "markdown",
   "metadata": {},
   "source": [
    "[Return to Table of Contents](#title)"
   ]
  }
 ],
 "metadata": {
  "kernelspec": {
   "display_name": "Python 3",
   "language": "python",
   "name": "python3"
  },
  "language_info": {
   "codemirror_mode": {
    "name": "ipython",
    "version": 3
   },
   "file_extension": ".py",
   "mimetype": "text/x-python",
   "name": "python",
   "nbconvert_exporter": "python",
   "pygments_lexer": "ipython3",
   "version": "3.7.3"
  }
 },
 "nbformat": 4,
 "nbformat_minor": 2
}
