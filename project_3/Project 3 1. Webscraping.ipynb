{
 "cells": [
  {
   "cell_type": "markdown",
   "metadata": {},
   "source": [
    "# Project 3 1. Webscraping\n",
    "\n",
    "### Classification models using Natural Language Processing (NLP)\n",
    "\n",
    "1. Webscraping\n",
    "2. Data Cleaning\n",
    "3. Modelling"
   ]
  },
  {
   "cell_type": "markdown",
   "metadata": {},
   "source": [
    "Description: Two different subreddits have been selected to be classified. They are namely: <br>\n",
    "<br>\n",
    "1) Tales From Retail <br>\n",
    "2) Tales From Tech Support <br>\n",
    "<br>\n",
    "<b> Both subreddits consists of posts where people rant about bad experiences while working in these respective sectors. </b>"
   ]
  },
  {
   "cell_type": "markdown",
   "metadata": {},
   "source": [
    "### Webscraping using Reddit API"
   ]
  },
  {
   "cell_type": "markdown",
   "metadata": {},
   "source": [
    "Importing relevant libraries for webscraping:"
   ]
  },
  {
   "cell_type": "code",
   "execution_count": 1,
   "metadata": {},
   "outputs": [],
   "source": [
    "import pandas as pd\n",
    "import requests\n",
    "import numpy as np\n",
    "import time"
   ]
  },
  {
   "cell_type": "markdown",
   "metadata": {},
   "source": [
    "Designating url of subreddits to feed into function:"
   ]
  },
  {
   "cell_type": "code",
   "execution_count": 2,
   "metadata": {},
   "outputs": [],
   "source": [
    "TFR = 'https://www.reddit.com/r/TalesFromRetail.json'\n",
    "TFTS = 'https://www.reddit.com/r/TalesFromTechSupport.json'"
   ]
  },
  {
   "cell_type": "markdown",
   "metadata": {},
   "source": [
    "Defining the function to scrape our data from the subreddits we want to use:"
   ]
  },
  {
   "cell_type": "code",
   "execution_count": 3,
   "metadata": {
    "scrolled": false
   },
   "outputs": [],
   "source": [
    "def get_posts(url,headers = {'User-agent':'Bleep borp bot 1.0'},loops=2):\n",
    "    posts = []\n",
    "    names = []\n",
    "    titles = []\n",
    "    subreddit = []\n",
    "    aft_name=None\n",
    "\n",
    "    for i in range(loops):\n",
    "        if aft_name==None:\n",
    "            params={}\n",
    "        else:\n",
    "            params={'after':aft_name}\n",
    "\n",
    "        req = requests.get(url,params=params,headers=headers)\n",
    "\n",
    "        if req.status_code == 200:\n",
    "            the_json = req.json()\n",
    "            for p in range(len(the_json['data']['children'])):\n",
    "                names.append(the_json['data']['children'][p]['data']['name'])\n",
    "                titles.append(the_json['data']['children'][p]['data']['title'])\n",
    "                posts.append(the_json['data']['children'][p]['data']['selftext'])\n",
    "                subreddit.append(the_json['data']['children'][p]['data']['subreddit'])\n",
    "                aft_name = the_json['data']['after']\n",
    "        else:\n",
    "            print(res.status_code)\n",
    "            break\n",
    "            \n",
    "        time.sleep(np.random.randint(1,5))\n",
    "    \n",
    "    posts_df = pd.DataFrame({'names':names,\n",
    "                         'titles':titles,\n",
    "                         'posts':posts,\n",
    "                         'subreddit':subreddit},columns = ['names','titles','posts','subreddit'])\n",
    "    \n",
    "    return posts_df"
   ]
  },
  {
   "cell_type": "markdown",
   "metadata": {},
   "source": [
    "Checking the length of the freshly scraped DataFrame:"
   ]
  },
  {
   "cell_type": "code",
   "execution_count": 4,
   "metadata": {
    "scrolled": true
   },
   "outputs": [],
   "source": [
    "TFR_df = get_posts(TFR,loops=40)"
   ]
  },
  {
   "cell_type": "code",
   "execution_count": 5,
   "metadata": {},
   "outputs": [],
   "source": [
    "TFTS_df = get_posts(TFTS,loops=40)"
   ]
  },
  {
   "cell_type": "code",
   "execution_count": 6,
   "metadata": {
    "scrolled": true
   },
   "outputs": [
    {
     "data": {
      "text/plain": [
       "999"
      ]
     },
     "execution_count": 6,
     "metadata": {},
     "output_type": "execute_result"
    }
   ],
   "source": [
    "len(TFR_df)"
   ]
  },
  {
   "cell_type": "code",
   "execution_count": 7,
   "metadata": {
    "scrolled": true
   },
   "outputs": [
    {
     "data": {
      "text/plain": [
       "1003"
      ]
     },
     "execution_count": 7,
     "metadata": {},
     "output_type": "execute_result"
    }
   ],
   "source": [
    "len(TFTS_df)"
   ]
  },
  {
   "cell_type": "markdown",
   "metadata": {},
   "source": [
    "Removing duplicates as Reddit API limits requests of post to 1000 only and checking how much data is collected:"
   ]
  },
  {
   "cell_type": "code",
   "execution_count": 10,
   "metadata": {},
   "outputs": [],
   "source": [
    "TFR_df = TFR_df.drop_duplicates(subset='posts',keep='first')\n",
    "TFTS_df = TFTS_df.drop_duplicates(subset='posts',keep='first')\n",
    "TFR_df = TFR_df[TFR_df['posts']!='']\n",
    "TFTS_df = TFTS_df[TFTS_df['posts']!='']"
   ]
  },
  {
   "cell_type": "code",
   "execution_count": 11,
   "metadata": {},
   "outputs": [
    {
     "data": {
      "text/plain": [
       "442"
      ]
     },
     "execution_count": 11,
     "metadata": {},
     "output_type": "execute_result"
    }
   ],
   "source": [
    "len(TFR_df)"
   ]
  },
  {
   "cell_type": "code",
   "execution_count": 12,
   "metadata": {
    "scrolled": true
   },
   "outputs": [
    {
     "data": {
      "text/plain": [
       "976"
      ]
     },
     "execution_count": 12,
     "metadata": {},
     "output_type": "execute_result"
    }
   ],
   "source": [
    "len(TFTS_df)"
   ]
  },
  {
   "cell_type": "code",
   "execution_count": 13,
   "metadata": {},
   "outputs": [
    {
     "data": {
      "text/html": [
       "<div>\n",
       "<style scoped>\n",
       "    .dataframe tbody tr th:only-of-type {\n",
       "        vertical-align: middle;\n",
       "    }\n",
       "\n",
       "    .dataframe tbody tr th {\n",
       "        vertical-align: top;\n",
       "    }\n",
       "\n",
       "    .dataframe thead th {\n",
       "        text-align: right;\n",
       "    }\n",
       "</style>\n",
       "<table border=\"1\" class=\"dataframe\">\n",
       "  <thead>\n",
       "    <tr style=\"text-align: right;\">\n",
       "      <th></th>\n",
       "      <th>names</th>\n",
       "      <th>titles</th>\n",
       "      <th>posts</th>\n",
       "      <th>subreddit</th>\n",
       "    </tr>\n",
       "  </thead>\n",
       "  <tbody>\n",
       "    <tr>\n",
       "      <th>0</th>\n",
       "      <td>t3_dhruue</td>\n",
       "      <td>Weekly TFR Express Lane Checkout - Post your v...</td>\n",
       "      <td>Welcome to /r/TalesFromRetail's Express Lane! ...</td>\n",
       "      <td>TalesFromRetail</td>\n",
       "    </tr>\n",
       "    <tr>\n",
       "      <th>1</th>\n",
       "      <td>t3_dj8mxt</td>\n",
       "      <td>\"The doctors have to take my face off because ...</td>\n",
       "      <td>First-time poster on this sub. This event happ...</td>\n",
       "      <td>TalesFromRetail</td>\n",
       "    </tr>\n",
       "    <tr>\n",
       "      <th>2</th>\n",
       "      <td>t3_djb3c9</td>\n",
       "      <td>She thought we worked 24/7</td>\n",
       "      <td>There was a woman who came in to the store I w...</td>\n",
       "      <td>TalesFromRetail</td>\n",
       "    </tr>\n",
       "    <tr>\n",
       "      <th>3</th>\n",
       "      <td>t3_dizq6s</td>\n",
       "      <td>I Want To Hand Pick 60 Cupcakes</td>\n",
       "      <td>Mobile warning. \\n\\nThis happened 3 weeks back...</td>\n",
       "      <td>TalesFromRetail</td>\n",
       "    </tr>\n",
       "    <tr>\n",
       "      <th>4</th>\n",
       "      <td>t3_dj5k7s</td>\n",
       "      <td>The first time ever someone made a complaint a...</td>\n",
       "      <td>I work at a privately owned builder's store th...</td>\n",
       "      <td>TalesFromRetail</td>\n",
       "    </tr>\n",
       "  </tbody>\n",
       "</table>\n",
       "</div>"
      ],
      "text/plain": [
       "       names                                             titles  \\\n",
       "0  t3_dhruue  Weekly TFR Express Lane Checkout - Post your v...   \n",
       "1  t3_dj8mxt  \"The doctors have to take my face off because ...   \n",
       "2  t3_djb3c9                         She thought we worked 24/7   \n",
       "3  t3_dizq6s                    I Want To Hand Pick 60 Cupcakes   \n",
       "4  t3_dj5k7s  The first time ever someone made a complaint a...   \n",
       "\n",
       "                                               posts        subreddit  \n",
       "0  Welcome to /r/TalesFromRetail's Express Lane! ...  TalesFromRetail  \n",
       "1  First-time poster on this sub. This event happ...  TalesFromRetail  \n",
       "2  There was a woman who came in to the store I w...  TalesFromRetail  \n",
       "3  Mobile warning. \\n\\nThis happened 3 weeks back...  TalesFromRetail  \n",
       "4  I work at a privately owned builder's store th...  TalesFromRetail  "
      ]
     },
     "execution_count": 13,
     "metadata": {},
     "output_type": "execute_result"
    }
   ],
   "source": [
    "TFR_df.head()"
   ]
  },
  {
   "cell_type": "code",
   "execution_count": 14,
   "metadata": {
    "scrolled": true
   },
   "outputs": [
    {
     "data": {
      "text/html": [
       "<div>\n",
       "<style scoped>\n",
       "    .dataframe tbody tr th:only-of-type {\n",
       "        vertical-align: middle;\n",
       "    }\n",
       "\n",
       "    .dataframe tbody tr th {\n",
       "        vertical-align: top;\n",
       "    }\n",
       "\n",
       "    .dataframe thead th {\n",
       "        text-align: right;\n",
       "    }\n",
       "</style>\n",
       "<table border=\"1\" class=\"dataframe\">\n",
       "  <thead>\n",
       "    <tr style=\"text-align: right;\">\n",
       "      <th></th>\n",
       "      <th>names</th>\n",
       "      <th>titles</th>\n",
       "      <th>posts</th>\n",
       "      <th>subreddit</th>\n",
       "    </tr>\n",
       "  </thead>\n",
       "  <tbody>\n",
       "    <tr>\n",
       "      <th>0</th>\n",
       "      <td>t3_3dqlny</td>\n",
       "      <td>TFTS POSTING RULES (MOBILE USERS PLEASE READ!)</td>\n",
       "      <td>Hey, we can have two stickies now!\\n\\n---\\n\\nS...</td>\n",
       "      <td>talesfromtechsupport</td>\n",
       "    </tr>\n",
       "    <tr>\n",
       "      <th>1</th>\n",
       "      <td>t3_dfzukz</td>\n",
       "      <td>TFTS Top Tales - September 2019</td>\n",
       "      <td>Hi Everybody!\\n\\nHere's another month of Top T...</td>\n",
       "      <td>talesfromtechsupport</td>\n",
       "    </tr>\n",
       "    <tr>\n",
       "      <th>2</th>\n",
       "      <td>t3_dj7kgc</td>\n",
       "      <td>Woman just doesn't understand how this works</td>\n",
       "      <td>Bit of a lurker here, come from a friend group...</td>\n",
       "      <td>talesfromtechsupport</td>\n",
       "    </tr>\n",
       "    <tr>\n",
       "      <th>3</th>\n",
       "      <td>t3_djd5xs</td>\n",
       "      <td>We tried to help an old lady, she brought in h...</td>\n",
       "      <td>Older story. Been debating posting this for aw...</td>\n",
       "      <td>talesfromtechsupport</td>\n",
       "    </tr>\n",
       "    <tr>\n",
       "      <th>4</th>\n",
       "      <td>t3_djeew5</td>\n",
       "      <td>Encyclopædia Moronica: T is for Three Little W...</td>\n",
       "      <td>Two years ago:\\n\\n&amp;gt; ME: Ma'am, I understand...</td>\n",
       "      <td>talesfromtechsupport</td>\n",
       "    </tr>\n",
       "  </tbody>\n",
       "</table>\n",
       "</div>"
      ],
      "text/plain": [
       "       names                                             titles  \\\n",
       "0  t3_3dqlny     TFTS POSTING RULES (MOBILE USERS PLEASE READ!)   \n",
       "1  t3_dfzukz                    TFTS Top Tales - September 2019   \n",
       "2  t3_dj7kgc       Woman just doesn't understand how this works   \n",
       "3  t3_djd5xs  We tried to help an old lady, she brought in h...   \n",
       "4  t3_djeew5  Encyclopædia Moronica: T is for Three Little W...   \n",
       "\n",
       "                                               posts             subreddit  \n",
       "0  Hey, we can have two stickies now!\\n\\n---\\n\\nS...  talesfromtechsupport  \n",
       "1  Hi Everybody!\\n\\nHere's another month of Top T...  talesfromtechsupport  \n",
       "2  Bit of a lurker here, come from a friend group...  talesfromtechsupport  \n",
       "3  Older story. Been debating posting this for aw...  talesfromtechsupport  \n",
       "4  Two years ago:\\n\\n&gt; ME: Ma'am, I understand...  talesfromtechsupport  "
      ]
     },
     "execution_count": 14,
     "metadata": {},
     "output_type": "execute_result"
    }
   ],
   "source": [
    "TFTS_df.head()"
   ]
  },
  {
   "cell_type": "markdown",
   "metadata": {},
   "source": [
    "Saving into CSV files to be used in other notebooks to reduce time of scraping data over and over again:"
   ]
  },
  {
   "cell_type": "code",
   "execution_count": 15,
   "metadata": {},
   "outputs": [],
   "source": [
    "TFR_df.to_csv('./datasets/TFR_df.csv',index=False)\n",
    "TFTS_df.to_csv('./datasets/TFTS_df.csv',index=False)"
   ]
  }
 ],
 "metadata": {
  "kernelspec": {
   "display_name": "Python 3",
   "language": "python",
   "name": "python3"
  },
  "language_info": {
   "codemirror_mode": {
    "name": "ipython",
    "version": 3
   },
   "file_extension": ".py",
   "mimetype": "text/x-python",
   "name": "python",
   "nbconvert_exporter": "python",
   "pygments_lexer": "ipython3",
   "version": "3.7.3"
  }
 },
 "nbformat": 4,
 "nbformat_minor": 2
}
