{
 "cells": [
  {
   "cell_type": "markdown",
   "metadata": {},
   "source": [
    "# Modelling\n",
    "\n",
    "Overall Procedure\n",
    "1. import relevant libraries\n",
    "2. import require csv into df\n",
    "3. Take Model Features from train_X Dataframe columns\n",
    "4. Modelling"
   ]
  },
  {
   "cell_type": "markdown",
   "metadata": {},
   "source": [
    "##  Import libraries"
   ]
  },
  {
   "cell_type": "code",
   "execution_count": 3,
   "metadata": {
    "colab": {},
    "colab_type": "code",
    "id": "V17eEZsTOVyf"
   },
   "outputs": [],
   "source": [
    "import pandas as pd\n",
    "import numpy as np\n",
    "import pandas as pd\n",
    "import matplotlib.pyplot as plt\n",
    "import seaborn as sns\n",
    "\n",
    "from sklearn.model_selection import train_test_split, cross_val_score\n",
    "\n",
    "import warnings\n",
    "from warnings import filterwarnings\n",
    "\n",
    "import pickle\n",
    "# from google.colab import files\n",
    "\n"
   ]
  },
  {
   "cell_type": "code",
   "execution_count": 5,
   "metadata": {
    "colab": {},
    "colab_type": "code",
    "id": "M74dtiHrOVyk"
   },
   "outputs": [],
   "source": [
    "from sklearn.linear_model import LogisticRegression\n",
    "from sklearn.pipeline import make_pipeline\n",
    "from sklearn.metrics import roc_auc_score\n",
    "from sklearn.naive_bayes import MultinomialNB\n",
    "from sklearn.tree import DecisionTreeClassifier\n",
    "from sklearn.ensemble import RandomForestClassifier\n",
    "from sklearn.pipeline import Pipeline\n",
    "from sklearn.feature_extraction.text import TfidfTransformer\n",
    "from sklearn.model_selection import GridSearchCV\n",
    "from sklearn.metrics import confusion_matrix\n",
    "from sklearn.ensemble import GradientBoostingClassifier, AdaBoostClassifier, VotingClassifier\n",
    "from sklearn.datasets import make_classification\n",
    "from xgboost.sklearn import XGBClassifier"
   ]
  },
  {
   "cell_type": "markdown",
   "metadata": {
    "colab_type": "text",
    "id": "IHfrWP6NWXx7"
   },
   "source": [
    "Take csv from pat github"
   ]
  },
  {
   "cell_type": "markdown",
   "metadata": {},
   "source": [
    "##  Import CSV"
   ]
  },
  {
   "cell_type": "code",
   "execution_count": 6,
   "metadata": {
    "colab": {},
    "colab_type": "code",
    "id": "m09zr1AVOVyn"
   },
   "outputs": [],
   "source": [
    "url = 'https://raw.githubusercontent.com/chattrapatchua/dsi10_project4/master/data/final_X_training.csv'\n",
    "train_X = pd.read_csv(url, error_bad_lines=False)"
   ]
  },
  {
   "cell_type": "code",
   "execution_count": 7,
   "metadata": {
    "colab": {},
    "colab_type": "code",
    "id": "nNKZB5JeUOAC"
   },
   "outputs": [],
   "source": [
    "url = 'https://raw.githubusercontent.com/chattrapatchua/dsi10_project4/master/data/final_y_training.csv'\n",
    "train_y = pd.read_csv(url)"
   ]
  },
  {
   "cell_type": "code",
   "execution_count": 8,
   "metadata": {
    "colab": {},
    "colab_type": "code",
    "id": "QJ-a6Y_MQ9eY"
   },
   "outputs": [],
   "source": [
    "url = 'https://raw.githubusercontent.com/chattrapatchua/dsi10_project4/master/data/final_X_testing.csv'\n",
    "test_X = pd.read_csv(url)"
   ]
  },
  {
   "cell_type": "code",
   "execution_count": 9,
   "metadata": {
    "colab": {},
    "colab_type": "code",
    "id": "kBz5ZLXvQ9Tv"
   },
   "outputs": [],
   "source": [
    "url = 'https://raw.githubusercontent.com/chattrapatchua/dsi10_project4/master/data/final_y_testing.csv'\n",
    "test_y = pd.read_csv(url,header=None)"
   ]
  },
  {
   "cell_type": "code",
   "execution_count": 10,
   "metadata": {
    "colab": {},
    "colab_type": "code",
    "id": "4g88BPAeSwRN"
   },
   "outputs": [],
   "source": [
    "url = 'https://raw.githubusercontent.com/chattrapatchua/dsi10_project4/master/data/final_test.csv'\n",
    "test = pd.read_csv(url)"
   ]
  },
  {
   "cell_type": "code",
   "execution_count": 11,
   "metadata": {
    "colab": {
     "base_uri": "https://localhost:8080/",
     "height": 1000
    },
    "colab_type": "code",
    "executionInfo": {
     "elapsed": 2144,
     "status": "ok",
     "timestamp": 1573004317629,
     "user": {
      "displayName": "ryan chua",
      "photoUrl": "",
      "userId": "04187144810915160296"
     },
     "user_tz": -480
    },
    "id": "wotmdK-aOVyp",
    "outputId": "305bd0c8-5783-461c-f6ba-2f07f2af1c67"
   },
   "outputs": [
    {
     "data": {
      "text/html": [
       "<div>\n",
       "<style scoped>\n",
       "    .dataframe tbody tr th:only-of-type {\n",
       "        vertical-align: middle;\n",
       "    }\n",
       "\n",
       "    .dataframe tbody tr th {\n",
       "        vertical-align: top;\n",
       "    }\n",
       "\n",
       "    .dataframe thead th {\n",
       "        text-align: right;\n",
       "    }\n",
       "</style>\n",
       "<table border=\"1\" class=\"dataframe\">\n",
       "  <thead>\n",
       "    <tr style=\"text-align: right;\">\n",
       "      <th></th>\n",
       "      <th>Latitude</th>\n",
       "      <th>Longitude</th>\n",
       "      <th>Tavg</th>\n",
       "      <th>DewPoint</th>\n",
       "      <th>ResultSpeed</th>\n",
       "      <th>ResultDir</th>\n",
       "      <th>Tavg_rolling3day</th>\n",
       "      <th>Tavg_rolling7day</th>\n",
       "      <th>Tavg_rolling14day</th>\n",
       "      <th>DewPoint_rolling3day</th>\n",
       "      <th>DewPoint_rolling7day</th>\n",
       "      <th>DewPoint_rolling14day</th>\n",
       "      <th>days_since_rain</th>\n",
       "    </tr>\n",
       "  </thead>\n",
       "  <tbody>\n",
       "    <tr>\n",
       "      <td>0</td>\n",
       "      <td>41.868077</td>\n",
       "      <td>-87.666901</td>\n",
       "      <td>71.5</td>\n",
       "      <td>58.0</td>\n",
       "      <td>1.55</td>\n",
       "      <td>23.0</td>\n",
       "      <td>75.333333</td>\n",
       "      <td>73.285714</td>\n",
       "      <td>73.285714</td>\n",
       "      <td>60.666667</td>\n",
       "      <td>61.214286</td>\n",
       "      <td>60.678571</td>\n",
       "      <td>3.0</td>\n",
       "    </tr>\n",
       "    <tr>\n",
       "      <td>1</td>\n",
       "      <td>41.659112</td>\n",
       "      <td>-87.538693</td>\n",
       "      <td>73.0</td>\n",
       "      <td>66.5</td>\n",
       "      <td>2.00</td>\n",
       "      <td>23.5</td>\n",
       "      <td>76.833333</td>\n",
       "      <td>73.357143</td>\n",
       "      <td>71.678571</td>\n",
       "      <td>64.166667</td>\n",
       "      <td>59.357143</td>\n",
       "      <td>57.535714</td>\n",
       "      <td>0.0</td>\n",
       "    </tr>\n",
       "    <tr>\n",
       "      <td>2</td>\n",
       "      <td>41.763733</td>\n",
       "      <td>-87.742302</td>\n",
       "      <td>75.0</td>\n",
       "      <td>59.0</td>\n",
       "      <td>9.85</td>\n",
       "      <td>23.0</td>\n",
       "      <td>71.000000</td>\n",
       "      <td>67.142857</td>\n",
       "      <td>70.750000</td>\n",
       "      <td>59.166667</td>\n",
       "      <td>55.000000</td>\n",
       "      <td>57.928571</td>\n",
       "      <td>2.0</td>\n",
       "    </tr>\n",
       "    <tr>\n",
       "      <td>3</td>\n",
       "      <td>41.659112</td>\n",
       "      <td>-87.538693</td>\n",
       "      <td>55.0</td>\n",
       "      <td>46.5</td>\n",
       "      <td>7.85</td>\n",
       "      <td>3.0</td>\n",
       "      <td>60.166667</td>\n",
       "      <td>62.071429</td>\n",
       "      <td>64.035714</td>\n",
       "      <td>47.333333</td>\n",
       "      <td>49.571429</td>\n",
       "      <td>48.535714</td>\n",
       "      <td>0.0</td>\n",
       "    </tr>\n",
       "    <tr>\n",
       "      <td>4</td>\n",
       "      <td>41.932094</td>\n",
       "      <td>-87.700117</td>\n",
       "      <td>80.0</td>\n",
       "      <td>70.5</td>\n",
       "      <td>5.40</td>\n",
       "      <td>24.5</td>\n",
       "      <td>80.166667</td>\n",
       "      <td>78.214286</td>\n",
       "      <td>77.535714</td>\n",
       "      <td>65.666667</td>\n",
       "      <td>60.357143</td>\n",
       "      <td>59.821429</td>\n",
       "      <td>0.0</td>\n",
       "    </tr>\n",
       "  </tbody>\n",
       "</table>\n",
       "</div>"
      ],
      "text/plain": [
       "    Latitude  Longitude  Tavg  DewPoint  ResultSpeed  ResultDir  \\\n",
       "0  41.868077 -87.666901  71.5      58.0         1.55       23.0   \n",
       "1  41.659112 -87.538693  73.0      66.5         2.00       23.5   \n",
       "2  41.763733 -87.742302  75.0      59.0         9.85       23.0   \n",
       "3  41.659112 -87.538693  55.0      46.5         7.85        3.0   \n",
       "4  41.932094 -87.700117  80.0      70.5         5.40       24.5   \n",
       "\n",
       "   Tavg_rolling3day  Tavg_rolling7day  Tavg_rolling14day  \\\n",
       "0         75.333333         73.285714          73.285714   \n",
       "1         76.833333         73.357143          71.678571   \n",
       "2         71.000000         67.142857          70.750000   \n",
       "3         60.166667         62.071429          64.035714   \n",
       "4         80.166667         78.214286          77.535714   \n",
       "\n",
       "   DewPoint_rolling3day  DewPoint_rolling7day  DewPoint_rolling14day  \\\n",
       "0             60.666667             61.214286              60.678571   \n",
       "1             64.166667             59.357143              57.535714   \n",
       "2             59.166667             55.000000              57.928571   \n",
       "3             47.333333             49.571429              48.535714   \n",
       "4             65.666667             60.357143              59.821429   \n",
       "\n",
       "   days_since_rain  \n",
       "0              3.0  \n",
       "1              0.0  \n",
       "2              2.0  \n",
       "3              0.0  \n",
       "4              0.0  "
      ]
     },
     "metadata": {},
     "output_type": "display_data"
    },
    {
     "data": {
      "text/html": [
       "<div>\n",
       "<style scoped>\n",
       "    .dataframe tbody tr th:only-of-type {\n",
       "        vertical-align: middle;\n",
       "    }\n",
       "\n",
       "    .dataframe tbody tr th {\n",
       "        vertical-align: top;\n",
       "    }\n",
       "\n",
       "    .dataframe thead th {\n",
       "        text-align: right;\n",
       "    }\n",
       "</style>\n",
       "<table border=\"1\" class=\"dataframe\">\n",
       "  <thead>\n",
       "    <tr style=\"text-align: right;\">\n",
       "      <th></th>\n",
       "      <th>Latitude</th>\n",
       "      <th>Longitude</th>\n",
       "      <th>Tavg</th>\n",
       "      <th>DewPoint</th>\n",
       "      <th>ResultSpeed</th>\n",
       "      <th>ResultDir</th>\n",
       "      <th>Tavg_rolling3day</th>\n",
       "      <th>Tavg_rolling7day</th>\n",
       "      <th>Tavg_rolling14day</th>\n",
       "      <th>DewPoint_rolling3day</th>\n",
       "      <th>DewPoint_rolling7day</th>\n",
       "      <th>DewPoint_rolling14day</th>\n",
       "      <th>days_since_rain</th>\n",
       "    </tr>\n",
       "  </thead>\n",
       "  <tbody>\n",
       "    <tr>\n",
       "      <td>0</td>\n",
       "      <td>41.961743</td>\n",
       "      <td>-87.760070</td>\n",
       "      <td>68.5</td>\n",
       "      <td>56.0</td>\n",
       "      <td>4.25</td>\n",
       "      <td>17.0</td>\n",
       "      <td>67.500000</td>\n",
       "      <td>66.785714</td>\n",
       "      <td>68.250000</td>\n",
       "      <td>54.166667</td>\n",
       "      <td>51.642857</td>\n",
       "      <td>53.000000</td>\n",
       "      <td>1</td>\n",
       "    </tr>\n",
       "    <tr>\n",
       "      <td>1</td>\n",
       "      <td>41.732984</td>\n",
       "      <td>-87.649642</td>\n",
       "      <td>78.0</td>\n",
       "      <td>64.5</td>\n",
       "      <td>4.05</td>\n",
       "      <td>10.0</td>\n",
       "      <td>80.666667</td>\n",
       "      <td>78.214286</td>\n",
       "      <td>75.785714</td>\n",
       "      <td>67.166667</td>\n",
       "      <td>63.142857</td>\n",
       "      <td>61.250000</td>\n",
       "      <td>7</td>\n",
       "    </tr>\n",
       "    <tr>\n",
       "      <td>2</td>\n",
       "      <td>41.803423</td>\n",
       "      <td>-87.642984</td>\n",
       "      <td>71.5</td>\n",
       "      <td>55.5</td>\n",
       "      <td>0.60</td>\n",
       "      <td>23.0</td>\n",
       "      <td>69.833333</td>\n",
       "      <td>70.785714</td>\n",
       "      <td>68.357143</td>\n",
       "      <td>56.833333</td>\n",
       "      <td>59.357143</td>\n",
       "      <td>57.000000</td>\n",
       "      <td>1</td>\n",
       "    </tr>\n",
       "    <tr>\n",
       "      <td>3</td>\n",
       "      <td>41.662014</td>\n",
       "      <td>-87.724608</td>\n",
       "      <td>75.0</td>\n",
       "      <td>59.0</td>\n",
       "      <td>9.85</td>\n",
       "      <td>23.0</td>\n",
       "      <td>71.000000</td>\n",
       "      <td>67.142857</td>\n",
       "      <td>70.750000</td>\n",
       "      <td>59.166667</td>\n",
       "      <td>55.000000</td>\n",
       "      <td>57.928571</td>\n",
       "      <td>2</td>\n",
       "    </tr>\n",
       "    <tr>\n",
       "      <td>4</td>\n",
       "      <td>41.947227</td>\n",
       "      <td>-87.671457</td>\n",
       "      <td>67.0</td>\n",
       "      <td>50.5</td>\n",
       "      <td>6.30</td>\n",
       "      <td>5.5</td>\n",
       "      <td>69.500000</td>\n",
       "      <td>68.571429</td>\n",
       "      <td>64.678571</td>\n",
       "      <td>56.000000</td>\n",
       "      <td>55.428571</td>\n",
       "      <td>51.821429</td>\n",
       "      <td>2</td>\n",
       "    </tr>\n",
       "  </tbody>\n",
       "</table>\n",
       "</div>"
      ],
      "text/plain": [
       "    Latitude  Longitude  Tavg  DewPoint  ResultSpeed  ResultDir  \\\n",
       "0  41.961743 -87.760070  68.5      56.0         4.25       17.0   \n",
       "1  41.732984 -87.649642  78.0      64.5         4.05       10.0   \n",
       "2  41.803423 -87.642984  71.5      55.5         0.60       23.0   \n",
       "3  41.662014 -87.724608  75.0      59.0         9.85       23.0   \n",
       "4  41.947227 -87.671457  67.0      50.5         6.30        5.5   \n",
       "\n",
       "   Tavg_rolling3day  Tavg_rolling7day  Tavg_rolling14day  \\\n",
       "0         67.500000         66.785714          68.250000   \n",
       "1         80.666667         78.214286          75.785714   \n",
       "2         69.833333         70.785714          68.357143   \n",
       "3         71.000000         67.142857          70.750000   \n",
       "4         69.500000         68.571429          64.678571   \n",
       "\n",
       "   DewPoint_rolling3day  DewPoint_rolling7day  DewPoint_rolling14day  \\\n",
       "0             54.166667             51.642857              53.000000   \n",
       "1             67.166667             63.142857              61.250000   \n",
       "2             56.833333             59.357143              57.000000   \n",
       "3             59.166667             55.000000              57.928571   \n",
       "4             56.000000             55.428571              51.821429   \n",
       "\n",
       "   days_since_rain  \n",
       "0                1  \n",
       "1                7  \n",
       "2                1  \n",
       "3                2  \n",
       "4                2  "
      ]
     },
     "metadata": {},
     "output_type": "display_data"
    },
    {
     "data": {
      "text/html": [
       "<div>\n",
       "<style scoped>\n",
       "    .dataframe tbody tr th:only-of-type {\n",
       "        vertical-align: middle;\n",
       "    }\n",
       "\n",
       "    .dataframe tbody tr th {\n",
       "        vertical-align: top;\n",
       "    }\n",
       "\n",
       "    .dataframe thead th {\n",
       "        text-align: right;\n",
       "    }\n",
       "</style>\n",
       "<table border=\"1\" class=\"dataframe\">\n",
       "  <thead>\n",
       "    <tr style=\"text-align: right;\">\n",
       "      <th></th>\n",
       "      <th>WnvPresent</th>\n",
       "    </tr>\n",
       "  </thead>\n",
       "  <tbody>\n",
       "    <tr>\n",
       "      <td>0</td>\n",
       "      <td>0</td>\n",
       "    </tr>\n",
       "    <tr>\n",
       "      <td>1</td>\n",
       "      <td>0</td>\n",
       "    </tr>\n",
       "    <tr>\n",
       "      <td>2</td>\n",
       "      <td>0</td>\n",
       "    </tr>\n",
       "    <tr>\n",
       "      <td>3</td>\n",
       "      <td>0</td>\n",
       "    </tr>\n",
       "    <tr>\n",
       "      <td>4</td>\n",
       "      <td>0</td>\n",
       "    </tr>\n",
       "  </tbody>\n",
       "</table>\n",
       "</div>"
      ],
      "text/plain": [
       "   WnvPresent\n",
       "0           0\n",
       "1           0\n",
       "2           0\n",
       "3           0\n",
       "4           0"
      ]
     },
     "metadata": {},
     "output_type": "display_data"
    },
    {
     "data": {
      "text/html": [
       "<div>\n",
       "<style scoped>\n",
       "    .dataframe tbody tr th:only-of-type {\n",
       "        vertical-align: middle;\n",
       "    }\n",
       "\n",
       "    .dataframe tbody tr th {\n",
       "        vertical-align: top;\n",
       "    }\n",
       "\n",
       "    .dataframe thead th {\n",
       "        text-align: right;\n",
       "    }\n",
       "</style>\n",
       "<table border=\"1\" class=\"dataframe\">\n",
       "  <thead>\n",
       "    <tr style=\"text-align: right;\">\n",
       "      <th></th>\n",
       "      <th>0</th>\n",
       "    </tr>\n",
       "  </thead>\n",
       "  <tbody>\n",
       "    <tr>\n",
       "      <td>0</td>\n",
       "      <td>0</td>\n",
       "    </tr>\n",
       "    <tr>\n",
       "      <td>1</td>\n",
       "      <td>0</td>\n",
       "    </tr>\n",
       "    <tr>\n",
       "      <td>2</td>\n",
       "      <td>0</td>\n",
       "    </tr>\n",
       "    <tr>\n",
       "      <td>3</td>\n",
       "      <td>0</td>\n",
       "    </tr>\n",
       "    <tr>\n",
       "      <td>4</td>\n",
       "      <td>0</td>\n",
       "    </tr>\n",
       "  </tbody>\n",
       "</table>\n",
       "</div>"
      ],
      "text/plain": [
       "   0\n",
       "0  0\n",
       "1  0\n",
       "2  0\n",
       "3  0\n",
       "4  0"
      ]
     },
     "metadata": {},
     "output_type": "display_data"
    },
    {
     "data": {
      "text/html": [
       "<div>\n",
       "<style scoped>\n",
       "    .dataframe tbody tr th:only-of-type {\n",
       "        vertical-align: middle;\n",
       "    }\n",
       "\n",
       "    .dataframe tbody tr th {\n",
       "        vertical-align: top;\n",
       "    }\n",
       "\n",
       "    .dataframe thead th {\n",
       "        text-align: right;\n",
       "    }\n",
       "</style>\n",
       "<table border=\"1\" class=\"dataframe\">\n",
       "  <thead>\n",
       "    <tr style=\"text-align: right;\">\n",
       "      <th></th>\n",
       "      <th>Id</th>\n",
       "      <th>Latitude</th>\n",
       "      <th>Longitude</th>\n",
       "      <th>Tavg</th>\n",
       "      <th>DewPoint</th>\n",
       "      <th>ResultSpeed</th>\n",
       "      <th>ResultDir</th>\n",
       "      <th>Tavg_rolling3day</th>\n",
       "      <th>Tavg_rolling7day</th>\n",
       "      <th>Tavg_rolling14day</th>\n",
       "      <th>DewPoint_rolling3day</th>\n",
       "      <th>DewPoint_rolling7day</th>\n",
       "      <th>DewPoint_rolling14day</th>\n",
       "      <th>days_since_rain</th>\n",
       "    </tr>\n",
       "  </thead>\n",
       "  <tbody>\n",
       "    <tr>\n",
       "      <td>0</td>\n",
       "      <td>1</td>\n",
       "      <td>41.95469</td>\n",
       "      <td>-87.800991</td>\n",
       "      <td>75.0</td>\n",
       "      <td>55.5</td>\n",
       "      <td>9.15</td>\n",
       "      <td>18.0</td>\n",
       "      <td>71.5</td>\n",
       "      <td>74.785714</td>\n",
       "      <td>70.25</td>\n",
       "      <td>58.5</td>\n",
       "      <td>64.571429</td>\n",
       "      <td>58.607143</td>\n",
       "      <td>1</td>\n",
       "    </tr>\n",
       "    <tr>\n",
       "      <td>1</td>\n",
       "      <td>2</td>\n",
       "      <td>41.95469</td>\n",
       "      <td>-87.800991</td>\n",
       "      <td>75.0</td>\n",
       "      <td>55.5</td>\n",
       "      <td>9.15</td>\n",
       "      <td>18.0</td>\n",
       "      <td>71.5</td>\n",
       "      <td>74.785714</td>\n",
       "      <td>70.25</td>\n",
       "      <td>58.5</td>\n",
       "      <td>64.571429</td>\n",
       "      <td>58.607143</td>\n",
       "      <td>1</td>\n",
       "    </tr>\n",
       "    <tr>\n",
       "      <td>2</td>\n",
       "      <td>3</td>\n",
       "      <td>41.95469</td>\n",
       "      <td>-87.800991</td>\n",
       "      <td>75.0</td>\n",
       "      <td>55.5</td>\n",
       "      <td>9.15</td>\n",
       "      <td>18.0</td>\n",
       "      <td>71.5</td>\n",
       "      <td>74.785714</td>\n",
       "      <td>70.25</td>\n",
       "      <td>58.5</td>\n",
       "      <td>64.571429</td>\n",
       "      <td>58.607143</td>\n",
       "      <td>1</td>\n",
       "    </tr>\n",
       "    <tr>\n",
       "      <td>3</td>\n",
       "      <td>4</td>\n",
       "      <td>41.95469</td>\n",
       "      <td>-87.800991</td>\n",
       "      <td>75.0</td>\n",
       "      <td>55.5</td>\n",
       "      <td>9.15</td>\n",
       "      <td>18.0</td>\n",
       "      <td>71.5</td>\n",
       "      <td>74.785714</td>\n",
       "      <td>70.25</td>\n",
       "      <td>58.5</td>\n",
       "      <td>64.571429</td>\n",
       "      <td>58.607143</td>\n",
       "      <td>1</td>\n",
       "    </tr>\n",
       "    <tr>\n",
       "      <td>4</td>\n",
       "      <td>5</td>\n",
       "      <td>41.95469</td>\n",
       "      <td>-87.800991</td>\n",
       "      <td>75.0</td>\n",
       "      <td>55.5</td>\n",
       "      <td>9.15</td>\n",
       "      <td>18.0</td>\n",
       "      <td>71.5</td>\n",
       "      <td>74.785714</td>\n",
       "      <td>70.25</td>\n",
       "      <td>58.5</td>\n",
       "      <td>64.571429</td>\n",
       "      <td>58.607143</td>\n",
       "      <td>1</td>\n",
       "    </tr>\n",
       "  </tbody>\n",
       "</table>\n",
       "</div>"
      ],
      "text/plain": [
       "   Id  Latitude  Longitude  Tavg  DewPoint  ResultSpeed  ResultDir  \\\n",
       "0   1  41.95469 -87.800991  75.0      55.5         9.15       18.0   \n",
       "1   2  41.95469 -87.800991  75.0      55.5         9.15       18.0   \n",
       "2   3  41.95469 -87.800991  75.0      55.5         9.15       18.0   \n",
       "3   4  41.95469 -87.800991  75.0      55.5         9.15       18.0   \n",
       "4   5  41.95469 -87.800991  75.0      55.5         9.15       18.0   \n",
       "\n",
       "   Tavg_rolling3day  Tavg_rolling7day  Tavg_rolling14day  \\\n",
       "0              71.5         74.785714              70.25   \n",
       "1              71.5         74.785714              70.25   \n",
       "2              71.5         74.785714              70.25   \n",
       "3              71.5         74.785714              70.25   \n",
       "4              71.5         74.785714              70.25   \n",
       "\n",
       "   DewPoint_rolling3day  DewPoint_rolling7day  DewPoint_rolling14day  \\\n",
       "0                  58.5             64.571429              58.607143   \n",
       "1                  58.5             64.571429              58.607143   \n",
       "2                  58.5             64.571429              58.607143   \n",
       "3                  58.5             64.571429              58.607143   \n",
       "4                  58.5             64.571429              58.607143   \n",
       "\n",
       "   days_since_rain  \n",
       "0                1  \n",
       "1                1  \n",
       "2                1  \n",
       "3                1  \n",
       "4                1  "
      ]
     },
     "metadata": {},
     "output_type": "display_data"
    }
   ],
   "source": [
    "display(train_X.head(),test_X.head(),train_y.head(),test_y.head(),test.head())"
   ]
  },
  {
   "cell_type": "code",
   "execution_count": 12,
   "metadata": {
    "colab": {
     "base_uri": "https://localhost:8080/",
     "height": 34
    },
    "colab_type": "code",
    "executionInfo": {
     "elapsed": 2025,
     "status": "ok",
     "timestamp": 1573004317630,
     "user": {
      "displayName": "ryan chua",
      "photoUrl": "",
      "userId": "04187144810915160296"
     },
     "user_tz": -480
    },
    "id": "tf0XJQdeZjy4",
    "outputId": "cfc6bd08-55ae-49fd-e602-975d37541df8"
   },
   "outputs": [
    {
     "data": {
      "text/plain": [
       "((14932, 13), (14932, 1), (2627, 13), (2627, 1), (116293, 14))"
      ]
     },
     "execution_count": 12,
     "metadata": {},
     "output_type": "execute_result"
    }
   ],
   "source": [
    "train_X.shape, train_y.shape, test_X.shape, test_y.shape, test.shape"
   ]
  },
  {
   "cell_type": "code",
   "execution_count": 13,
   "metadata": {
    "colab": {
     "base_uri": "https://localhost:8080/",
     "height": 34
    },
    "colab_type": "code",
    "executionInfo": {
     "elapsed": 1877,
     "status": "ok",
     "timestamp": 1573004317631,
     "user": {
      "displayName": "ryan chua",
      "photoUrl": "",
      "userId": "04187144810915160296"
     },
     "user_tz": -480
    },
    "id": "4nEaiRZEb7bc",
    "outputId": "8a75de36-f7b8-4719-ccf9-d96673cdf93b"
   },
   "outputs": [
    {
     "data": {
      "text/plain": [
       "(Int64Index([0], dtype='int64'), Index(['WnvPresent'], dtype='object'))"
      ]
     },
     "execution_count": 13,
     "metadata": {},
     "output_type": "execute_result"
    }
   ],
   "source": [
    "test_y.columns,train_y.columns"
   ]
  },
  {
   "cell_type": "code",
   "execution_count": 14,
   "metadata": {
    "colab": {
     "base_uri": "https://localhost:8080/",
     "height": 34
    },
    "colab_type": "code",
    "executionInfo": {
     "elapsed": 680,
     "status": "ok",
     "timestamp": 1573004317965,
     "user": {
      "displayName": "ryan chua",
      "photoUrl": "",
      "userId": "04187144810915160296"
     },
     "user_tz": -480
    },
    "id": "2zdloEYlbX6A",
    "outputId": "2f581501-148c-4f55-c1e5-adb8a007fa30"
   },
   "outputs": [
    {
     "data": {
      "text/plain": [
       "(Index(['WnvPresent'], dtype='object'), Index(['WnvPresent'], dtype='object'))"
      ]
     },
     "execution_count": 14,
     "metadata": {},
     "output_type": "execute_result"
    }
   ],
   "source": [
    "test_y.rename(columns={0:'WnvPresent'},inplace=True)\n",
    "test_y.columns,train_y.columns"
   ]
  },
  {
   "cell_type": "markdown",
   "metadata": {},
   "source": [
    "##  Model Feature selection"
   ]
  },
  {
   "cell_type": "code",
   "execution_count": 15,
   "metadata": {
    "colab": {
     "base_uri": "https://localhost:8080/",
     "height": 301
    },
    "colab_type": "code",
    "executionInfo": {
     "elapsed": 982,
     "status": "ok",
     "timestamp": 1573004317962,
     "user": {
      "displayName": "ryan chua",
      "photoUrl": "",
      "userId": "04187144810915160296"
     },
     "user_tz": -480
    },
    "id": "jGZl-Lm_cAGP",
    "outputId": "829d57be-0e1f-4e6b-e9b4-5292704e607a"
   },
   "outputs": [
    {
     "data": {
      "text/plain": [
       "['Latitude',\n",
       " 'Longitude',\n",
       " 'Tavg',\n",
       " 'DewPoint',\n",
       " 'ResultSpeed',\n",
       " 'ResultDir',\n",
       " 'Tavg_rolling3day',\n",
       " 'Tavg_rolling7day',\n",
       " 'Tavg_rolling14day',\n",
       " 'DewPoint_rolling3day',\n",
       " 'DewPoint_rolling7day',\n",
       " 'DewPoint_rolling14day',\n",
       " 'days_since_rain']"
      ]
     },
     "execution_count": 15,
     "metadata": {},
     "output_type": "execute_result"
    }
   ],
   "source": [
    "cols = train_X.columns.tolist()\n",
    "cols"
   ]
  },
  {
   "cell_type": "code",
   "execution_count": 16,
   "metadata": {
    "colab": {},
    "colab_type": "code",
    "id": "GXx-bYdXOVyy"
   },
   "outputs": [],
   "source": [
    "X_train = train_X[cols]\n",
    "X_test  = test_X[cols]\n",
    "\n",
    "y_train = train_y[['WnvPresent']]\n",
    "y_test  = test_y[['WnvPresent']]\n",
    "\n",
    "#pred\n",
    "test_submit    = test[cols]  "
   ]
  },
  {
   "cell_type": "markdown",
   "metadata": {},
   "source": [
    "##  Modelling using Gridsearching\n",
    "ALL THE FUNCTIONS COMBINE UNDER 'GRID_SEARCH' "
   ]
  },
  {
   "cell_type": "code",
   "execution_count": 17,
   "metadata": {
    "colab": {},
    "colab_type": "code",
    "id": "SsIud9stOVy4"
   },
   "outputs": [],
   "source": [
    "def grid_searcher( X_train, X_test, y_train, y_test,test_submit, model):\n",
    "    \n",
    "    \n",
    "    \n",
    "    full_name_dict = {\n",
    "                      'lr'       : 'Logistic Regression',\n",
    "                      'dt'       : 'Decision Tree Classifier',\n",
    "                      'rf'       : 'Random Forest Classifier', \n",
    "                      'ada'      : 'AdaBoost Classifier',\n",
    "                      'gb'       : 'Gradient Boosting Classifier',\n",
    "                      'xgb'      : 'XG Boost Classifier'\n",
    "                      }\n",
    "    \n",
    "    param_dict = {'lr' : {},\n",
    "                  'dt' : {'dt__max_depth': [3,5],\n",
    "                          'dt__min_samples_split': [5,10],\n",
    "                          'dt__min_samples_leaf': [2,3]},\n",
    "                  \n",
    "                  'rf' : {'rf__n_estimators': [100],\n",
    "                          'rf__max_depth': [None, 1, 2],\n",
    "                          'rf__min_samples_split': [5,10],\n",
    "                          'rf__min_samples_leaf': [2,3]},\n",
    "                  \n",
    "                  'ada':{'ada__n_estimators':[30,50,80,100],\n",
    "                         'ada__algorithm': ['SAMME', 'SAMME.R'],\n",
    "                         'ada__learning_rate': [0.8,.9, 1.]},\n",
    "                  \n",
    "                  'gb':{'gb__max_depth': [2,3,4],\n",
    "                        'gb__n_estimators': [100, 125, 150],\n",
    "                        'gb__learning_rate': [.08, .1, .12]},\n",
    "                  \n",
    "                  'xgb':{'xgb__max_depth':[2,3],\n",
    "                         'xgb__learning_rate':[0.001,0.01,0.1],\n",
    "                         'xgb__n_estimators':[50,100]                      \n",
    "                  }\n",
    "                  \n",
    "                  }\n",
    "                  \n",
    "    model_dict = {\n",
    "                  'lr' : LogisticRegression(solver='lbfgs'), \n",
    "                  'dt' : DecisionTreeClassifier(),\n",
    "                  'rf' : RandomForestClassifier(),\n",
    "                  'ada': AdaBoostClassifier(),\n",
    "                  'gb' : GradientBoostingClassifier(),\n",
    "                 'xgb' : XGBClassifier()\n",
    "                  }\n",
    "\n",
    "    #choosing model for modelling\n",
    "    model_dict_1 ={\n",
    "                  'lr' : LogisticRegression,\n",
    "                  'dt' : DecisionTreeClassifier,\n",
    "                  'rf' : RandomForestClassifier,\n",
    "                  'ada': AdaBoostClassifier,\n",
    "                  'gb' : GradientBoostingClassifier,\n",
    "                  'xgb': XGBClassifier\n",
    "                  }\n",
    "    \n",
    "    pipe = Pipeline([(model, model_dict[model])])\n",
    "    \n",
    "    \n",
    "    pipe_params = param_dict[model]\n",
    "    \n",
    "    grid = GridSearchCV(pipe,\n",
    "           param_grid=pipe_params,\n",
    "           cv=10)\n",
    "        \n",
    "    grid.fit(X_train, y_train.values.ravel())\n",
    "    train_score = grid.score(X_test,y_test)\n",
    "\n",
    "    string_remove = model + '__'\n",
    "    parameter = dict((k.replace(string_remove,''),v) for k,v in grid.best_params_.items())\n",
    "    \n",
    "    choosen_model = model_dict_1[model](**parameter).fit(X_train,y_train)   \n",
    "    pred = choosen_model.predict(X_test)\n",
    "    test_score =roc_auc_score(y_test,pred)\n",
    "    print_out(full_name_dict[model],parameter,train_score,test_score,choosen_model)\n",
    "\n",
    "\n",
    "    pred_test = choosen_model.predict_proba(test_submit)\n",
    "    \n",
    "    submission_df(pred_test,model)\n",
    "    save_model(choosen_model,model)\n",
    "    \n",
    "    return \n",
    "    \n"
   ]
  },
  {
   "cell_type": "code",
   "execution_count": 18,
   "metadata": {
    "colab": {},
    "colab_type": "code",
    "id": "8wGNCms8TenA"
   },
   "outputs": [],
   "source": [
    "#Functions to Plot ROC curve with AUC scoring\n",
    "# Define function to calculate sensitivity. (True positive rate.)\n",
    "def TPR(df, true_col, pred_prob_col, threshold):\n",
    "    true_positive = df[(df[true_col] == 1) & (df[pred_prob_col] >= threshold)].shape[0]\n",
    "    false_negative = df[(df[true_col] == 1) & (df[pred_prob_col] < threshold)].shape[0]\n",
    "    return true_positive / (true_positive + false_negative)\n",
    "    \n",
    "\n",
    "# Define function to calculate 1 - specificity. (False positive rate.)\n",
    "def FPR(df, true_col, pred_prob_col, threshold):\n",
    "    true_negative = df[(df[true_col] == 0) & (df[pred_prob_col] <= threshold)].shape[0]\n",
    "    false_positive = df[(df[true_col] == 0) & (df[pred_prob_col] > threshold)].shape[0]\n",
    "    return 1 - (true_negative / (true_negative + false_positive))\n",
    "\n",
    "def Calculate(pred_df,thresholds):\n",
    "    # Calculate sensitivity & 1-specificity for each threshold between 0 and 1.\n",
    "    tpr_values = [TPR(pred_df, 'true_values', 'pred_probs', prob) for prob in thresholds]\n",
    "    fpr_values = [FPR(pred_df, 'true_values', 'pred_probs', prob) for prob in thresholds]\n",
    "    \n",
    "    return tpr_values,fpr_values\n",
    "\n",
    "def ROC_curve(y_test, X_test,model):\n",
    "    \n",
    "    pred_proba = [i[1] for i in model.predict_proba(X_test)]\n",
    "\n",
    "    pred_df = pd.DataFrame({'true_values': y_test['WnvPresent'],\n",
    "                           'pred_probs': pred_proba})\n",
    "\n",
    "    roc_auc_score(pred_df['true_values'], pred_df['pred_probs'])\n",
    "\n",
    "    # Create figure.\n",
    "    plt.figure(figsize = (10,7))\n",
    "\n",
    "    # Create threshold values. (Dashed red line in image.)\n",
    "    thresholds = np.linspace(0, 1, 200)\n",
    "    \n",
    "    tpr_values,fpr_values = Calculate(pred_df,thresholds)\n",
    "    \n",
    "    # Plot ROC curve.\n",
    "    plt.plot(fpr_values, # False Positive Rate on X-axis\n",
    "             tpr_values, # True Positive Rate on Y-axis\n",
    "             label='ROC Curve')\n",
    "\n",
    "    # Plot baseline. (Perfect overlap between the two populations.)\n",
    "    plt.plot(np.linspace(0, 1, 200),\n",
    "             np.linspace(0, 1, 200),\n",
    "             label='baseline',\n",
    "             linestyle='--')\n",
    "\n",
    "    # Label axes.\n",
    "    plt.title(f'ROC Curve with AUC = {round(roc_auc_score(pred_df[\"true_values\"], pred_df[\"pred_probs\"]),3)}', fontsize=22)\n",
    "    plt.ylabel('Sensitivity', fontsize=18)\n",
    "    plt.xlabel('1 - Specificity', fontsize=18)\n",
    "\n",
    "    # Create legend.\n",
    "    plt.legend(fontsize=16);\n",
    "              \n",
    "def confusion(X_test,y_test,model):\n",
    "    pred = model.predict(X_test)\n",
    "    df_confusion = pd.DataFrame(confusion_matrix(y_test,pred), \n",
    "             index = ['Predict {}'.format('WnV Not Present'), 'Predict {}'.format('WnV Present')],\n",
    "             columns = ['actual  {}'.format('WnV Not Present'), 'actual  {}'.format('WnV Present')]\n",
    "            )\n",
    "    display(df_confusion)\n",
    "    tn, fp, fn, tp = confusion_matrix(y_test, pred).ravel()\n",
    "    \n",
    "    accuracy          = round((tp+tn)/(tp+fp+tn+fn),4)*100\n",
    "    misclassification = round((fp+fn)/(tp+fp+tn+fn),4)*100\n",
    "    precision         = round(tp/(tp+fp),4) * 100\n",
    "    recall            = round(tp/(tp+fn),4)\n",
    "    specificity       = round(tn/(tn+fp),4)\n",
    "    \n",
    "    print('** Accuracy %: {}% **'     .format(accuracy))\n",
    "    print('Misclassification %: {}&'.format(misclassification))\n",
    "    print('Precision %: {}'           .format(round(tp/(tp+fp),4)))\n",
    "    print('Recall: {}'                .format(round(tp/(tp+fn),4)))\n",
    "    print('Specificity: {}'           .format(round(tn/(tn+fp),4)))\n",
    "    \n",
    "    return accuracy, misclassification , precision, recall, specificity\n",
    "              \n",
    "combine_info=[]\n",
    "def print_out(gs,best_prams,train_score,test_score,model):\n",
    "    print('''\n",
    "    ###########################\n",
    "    {} model\n",
    "    ###########################    \n",
    "    '''.format(gs))\n",
    "    print(\"Best params: {}\".format(best_prams))\n",
    "    print('Train score: {}, Test score {}'.format(train_score, test_score))\n",
    "\n",
    "    accuracy, misclassification , precision, recall, specificity = confusion(X_test,y_test,model)\n",
    "    \n",
    "    ROC_curve(y_test,X_test,model)\n",
    "    \n",
    "    ls = [gs,train_score,test_score,accuracy,misclassification,precision, recall, specificity]\n",
    "    combine_info.append(ls)\n",
    "    \n",
    "    \n",
    "\n",
    "\n",
    "              "
   ]
  },
  {
   "cell_type": "code",
   "execution_count": 19,
   "metadata": {
    "colab": {},
    "colab_type": "code",
    "id": "4ODq1aB3bs4E"
   },
   "outputs": [],
   "source": [
    "def submission_df(predict,model_type='submission'):\n",
    "    df = pd.DataFrame(test['Id'])\n",
    "    df['WnvPresent'] = predict[:,1]\n",
    "#     df.set_index(['Id'], inplace = True)\n",
    "    name = model_type + '.csv'\n",
    "    df.to_csv(name, index=False)\n",
    "#     files.download(name)\n",
    "\n",
    "def save_model(choosen_model,model_type='submission'):\n",
    "    filename = model_type + '.pkl'\n",
    "    filesave = open(filename, 'wb')\n",
    "    pickle.dump(choosen_model, filesave)\n",
    "    filesave.close()\n",
    "#     files.download(filename)\n"
   ]
  },
  {
   "cell_type": "markdown",
   "metadata": {
    "colab_type": "text",
    "id": "4C53oRz1buk3"
   },
   "source": [
    "ALL THE FUNCTIONS COMBINE UNDER 'GRID_SEARCH' "
   ]
  },
  {
   "cell_type": "code",
   "execution_count": 20,
   "metadata": {
    "colab": {
     "base_uri": "https://localhost:8080/",
     "height": 1000
    },
    "colab_type": "code",
    "executionInfo": {
     "elapsed": 9520,
     "status": "ok",
     "timestamp": 1573004625480,
     "user": {
      "displayName": "ryan chua",
      "photoUrl": "",
      "userId": "04187144810915160296"
     },
     "user_tz": -480
    },
    "id": "f2omrzkiN1VH",
    "outputId": "bfdcd06d-4684-4bda-8e9e-a9d504a5163e"
   },
   "outputs": [
    {
     "name": "stderr",
     "output_type": "stream",
     "text": [
      "/Users/YLChua/anaconda3/lib/python3.7/site-packages/sklearn/linear_model/logistic.py:758: ConvergenceWarning: lbfgs failed to converge. Increase the number of iterations.\n",
      "  \"of iterations.\", ConvergenceWarning)\n",
      "/Users/YLChua/anaconda3/lib/python3.7/site-packages/sklearn/linear_model/logistic.py:758: ConvergenceWarning: lbfgs failed to converge. Increase the number of iterations.\n",
      "  \"of iterations.\", ConvergenceWarning)\n",
      "/Users/YLChua/anaconda3/lib/python3.7/site-packages/sklearn/linear_model/logistic.py:758: ConvergenceWarning: lbfgs failed to converge. Increase the number of iterations.\n",
      "  \"of iterations.\", ConvergenceWarning)\n",
      "/Users/YLChua/anaconda3/lib/python3.7/site-packages/sklearn/linear_model/logistic.py:758: ConvergenceWarning: lbfgs failed to converge. Increase the number of iterations.\n",
      "  \"of iterations.\", ConvergenceWarning)\n",
      "/Users/YLChua/anaconda3/lib/python3.7/site-packages/sklearn/linear_model/logistic.py:758: ConvergenceWarning: lbfgs failed to converge. Increase the number of iterations.\n",
      "  \"of iterations.\", ConvergenceWarning)\n",
      "/Users/YLChua/anaconda3/lib/python3.7/site-packages/sklearn/linear_model/logistic.py:758: ConvergenceWarning: lbfgs failed to converge. Increase the number of iterations.\n",
      "  \"of iterations.\", ConvergenceWarning)\n",
      "/Users/YLChua/anaconda3/lib/python3.7/site-packages/sklearn/linear_model/logistic.py:758: ConvergenceWarning: lbfgs failed to converge. Increase the number of iterations.\n",
      "  \"of iterations.\", ConvergenceWarning)\n",
      "/Users/YLChua/anaconda3/lib/python3.7/site-packages/sklearn/linear_model/logistic.py:758: ConvergenceWarning: lbfgs failed to converge. Increase the number of iterations.\n",
      "  \"of iterations.\", ConvergenceWarning)\n",
      "/Users/YLChua/anaconda3/lib/python3.7/site-packages/sklearn/linear_model/logistic.py:758: ConvergenceWarning: lbfgs failed to converge. Increase the number of iterations.\n",
      "  \"of iterations.\", ConvergenceWarning)\n",
      "/Users/YLChua/anaconda3/lib/python3.7/site-packages/sklearn/linear_model/logistic.py:758: ConvergenceWarning: lbfgs failed to converge. Increase the number of iterations.\n",
      "  \"of iterations.\", ConvergenceWarning)\n",
      "/Users/YLChua/anaconda3/lib/python3.7/site-packages/sklearn/linear_model/logistic.py:758: ConvergenceWarning: lbfgs failed to converge. Increase the number of iterations.\n",
      "  \"of iterations.\", ConvergenceWarning)\n",
      "/Users/YLChua/anaconda3/lib/python3.7/site-packages/sklearn/linear_model/logistic.py:433: FutureWarning: Default solver will be changed to 'lbfgs' in 0.22. Specify a solver to silence this warning.\n",
      "  FutureWarning)\n",
      "/Users/YLChua/anaconda3/lib/python3.7/site-packages/sklearn/utils/validation.py:761: DataConversionWarning: A column-vector y was passed when a 1d array was expected. Please change the shape of y to (n_samples, ), for example using ravel().\n",
      "  y = column_or_1d(y, warn=True)\n"
     ]
    },
    {
     "name": "stdout",
     "output_type": "stream",
     "text": [
      "\n",
      "    ###########################\n",
      "    Logistic Regression model\n",
      "    ###########################    \n",
      "    \n",
      "Best params: {}\n",
      "Train score: 0.6433193757137419, Test score 0.649524574795768\n"
     ]
    },
    {
     "data": {
      "text/html": [
       "<div>\n",
       "<style scoped>\n",
       "    .dataframe tbody tr th:only-of-type {\n",
       "        vertical-align: middle;\n",
       "    }\n",
       "\n",
       "    .dataframe tbody tr th {\n",
       "        vertical-align: top;\n",
       "    }\n",
       "\n",
       "    .dataframe thead th {\n",
       "        text-align: right;\n",
       "    }\n",
       "</style>\n",
       "<table border=\"1\" class=\"dataframe\">\n",
       "  <thead>\n",
       "    <tr style=\"text-align: right;\">\n",
       "      <th></th>\n",
       "      <th>actual  WnV Not Present</th>\n",
       "      <th>actual  WnV Present</th>\n",
       "    </tr>\n",
       "  </thead>\n",
       "  <tbody>\n",
       "    <tr>\n",
       "      <td>Predict WnV Not Present</td>\n",
       "      <td>1574</td>\n",
       "      <td>915</td>\n",
       "    </tr>\n",
       "    <tr>\n",
       "      <td>Predict WnV Present</td>\n",
       "      <td>46</td>\n",
       "      <td>92</td>\n",
       "    </tr>\n",
       "  </tbody>\n",
       "</table>\n",
       "</div>"
      ],
      "text/plain": [
       "                         actual  WnV Not Present  actual  WnV Present\n",
       "Predict WnV Not Present                     1574                  915\n",
       "Predict WnV Present                           46                   92"
      ]
     },
     "metadata": {},
     "output_type": "display_data"
    },
    {
     "name": "stdout",
     "output_type": "stream",
     "text": [
      "** Accuracy %: 63.42% **\n",
      "Misclassification %: 36.58&\n",
      "Precision %: 0.0914\n",
      "Recall: 0.6667\n",
      "Specificity: 0.6324\n"
     ]
    },
    {
     "data": {
      "image/png": "[encoded data removed]",
      "text/plain": [
       "<Figure size 720x504 with 1 Axes>"
      ]
     },
     "metadata": {
      "needs_background": "light"
     },
     "output_type": "display_data"
    }
   ],
   "source": [
    "grid_searcher(X_train, X_test, y_train, y_test,test_submit,'lr')"
   ]
  },
  {
   "cell_type": "code",
   "execution_count": 21,
   "metadata": {
    "colab": {
     "base_uri": "https://localhost:8080/",
     "height": 776
    },
    "colab_type": "code",
    "executionInfo": {
     "elapsed": 8536,
     "status": "ok",
     "timestamp": 1573004695127,
     "user": {
      "displayName": "ryan chua",
      "photoUrl": "",
      "userId": "04187144810915160296"
     },
     "user_tz": -480
    },
    "id": "1SYonmpaYj7u",
    "outputId": "761a4f75-a8a4-4d83-daad-4016ef5649bb"
   },
   "outputs": [
    {
     "name": "stdout",
     "output_type": "stream",
     "text": [
      "\n",
      "    ###########################\n",
      "    Decision Tree Classifier model\n",
      "    ###########################    \n",
      "    \n",
      "Best params: {'max_depth': 5, 'min_samples_leaf': 2, 'min_samples_split': 10}\n",
      "Train score: 0.7293490673772364, Test score 0.7305462877239564\n"
     ]
    },
    {
     "data": {
      "text/html": [
       "<div>\n",
       "<style scoped>\n",
       "    .dataframe tbody tr th:only-of-type {\n",
       "        vertical-align: middle;\n",
       "    }\n",
       "\n",
       "    .dataframe tbody tr th {\n",
       "        vertical-align: top;\n",
       "    }\n",
       "\n",
       "    .dataframe thead th {\n",
       "        text-align: right;\n",
       "    }\n",
       "</style>\n",
       "<table border=\"1\" class=\"dataframe\">\n",
       "  <thead>\n",
       "    <tr style=\"text-align: right;\">\n",
       "      <th></th>\n",
       "      <th>actual  WnV Not Present</th>\n",
       "      <th>actual  WnV Present</th>\n",
       "    </tr>\n",
       "  </thead>\n",
       "  <tbody>\n",
       "    <tr>\n",
       "      <td>Predict WnV Not Present</td>\n",
       "      <td>1815</td>\n",
       "      <td>674</td>\n",
       "    </tr>\n",
       "    <tr>\n",
       "      <td>Predict WnV Present</td>\n",
       "      <td>37</td>\n",
       "      <td>101</td>\n",
       "    </tr>\n",
       "  </tbody>\n",
       "</table>\n",
       "</div>"
      ],
      "text/plain": [
       "                         actual  WnV Not Present  actual  WnV Present\n",
       "Predict WnV Not Present                     1815                  674\n",
       "Predict WnV Present                           37                  101"
      ]
     },
     "metadata": {},
     "output_type": "display_data"
    },
    {
     "name": "stdout",
     "output_type": "stream",
     "text": [
      "** Accuracy %: 72.92999999999999% **\n",
      "Misclassification %: 27.07&\n",
      "Precision %: 0.1303\n",
      "Recall: 0.7319\n",
      "Specificity: 0.7292\n"
     ]
    },
    {
     "data": {
      "image/png": "[encoded data removed]",
      "text/plain": [
       "<Figure size 720x504 with 1 Axes>"
      ]
     },
     "metadata": {
      "needs_background": "light"
     },
     "output_type": "display_data"
    }
   ],
   "source": [
    "grid_searcher(X_train, X_test, y_train, y_test,test_submit,'dt')"
   ]
  },
  {
   "cell_type": "code",
   "execution_count": 22,
   "metadata": {
    "colab": {
     "base_uri": "https://localhost:8080/",
     "height": 1000
    },
    "colab_type": "code",
    "executionInfo": {
     "elapsed": 110219,
     "status": "error",
     "timestamp": 1573004797235,
     "user": {
      "displayName": "ryan chua",
      "photoUrl": "",
      "userId": "04187144810915160296"
     },
     "user_tz": -480
    },
    "id": "8S_rjTNtYj36",
    "outputId": "24181a92-c8ff-40da-99b9-86d21d50bff3"
   },
   "outputs": [
    {
     "name": "stderr",
     "output_type": "stream",
     "text": [
      "/Users/YLChua/anaconda3/lib/python3.7/site-packages/ipykernel_launcher.py:73: DataConversionWarning: A column-vector y was passed when a 1d array was expected. Please change the shape of y to (n_samples,), for example using ravel().\n"
     ]
    },
    {
     "name": "stdout",
     "output_type": "stream",
     "text": [
      "\n",
      "    ###########################\n",
      "    Random Forest Classifier model\n",
      "    ###########################    \n",
      "    \n",
      "Best params: {'max_depth': None, 'min_samples_leaf': 2, 'min_samples_split': 5, 'n_estimators': 100}\n",
      "Train score: 0.8679101636848116, Test score 0.603165522501907\n"
     ]
    },
    {
     "data": {
      "text/html": [
       "<div>\n",
       "<style scoped>\n",
       "    .dataframe tbody tr th:only-of-type {\n",
       "        vertical-align: middle;\n",
       "    }\n",
       "\n",
       "    .dataframe tbody tr th {\n",
       "        vertical-align: top;\n",
       "    }\n",
       "\n",
       "    .dataframe thead th {\n",
       "        text-align: right;\n",
       "    }\n",
       "</style>\n",
       "<table border=\"1\" class=\"dataframe\">\n",
       "  <thead>\n",
       "    <tr style=\"text-align: right;\">\n",
       "      <th></th>\n",
       "      <th>actual  WnV Not Present</th>\n",
       "      <th>actual  WnV Present</th>\n",
       "    </tr>\n",
       "  </thead>\n",
       "  <tbody>\n",
       "    <tr>\n",
       "      <td>Predict WnV Not Present</td>\n",
       "      <td>2227</td>\n",
       "      <td>262</td>\n",
       "    </tr>\n",
       "    <tr>\n",
       "      <td>Predict WnV Present</td>\n",
       "      <td>95</td>\n",
       "      <td>43</td>\n",
       "    </tr>\n",
       "  </tbody>\n",
       "</table>\n",
       "</div>"
      ],
      "text/plain": [
       "                         actual  WnV Not Present  actual  WnV Present\n",
       "Predict WnV Not Present                     2227                  262\n",
       "Predict WnV Present                           95                   43"
      ]
     },
     "metadata": {},
     "output_type": "display_data"
    },
    {
     "name": "stdout",
     "output_type": "stream",
     "text": [
      "** Accuracy %: 86.41% **\n",
      "Misclassification %: 13.59&\n",
      "Precision %: 0.141\n",
      "Recall: 0.3116\n",
      "Specificity: 0.8947\n"
     ]
    },
    {
     "data": {
      "image/png": "[encoded data removed]",
      "text/plain": [
       "<Figure size 720x504 with 1 Axes>"
      ]
     },
     "metadata": {
      "needs_background": "light"
     },
     "output_type": "display_data"
    }
   ],
   "source": [
    "grid_searcher(X_train, X_test, y_train, y_test,test_submit,'rf')"
   ]
  },
  {
   "cell_type": "code",
   "execution_count": 23,
   "metadata": {
    "colab": {},
    "colab_type": "code",
    "id": "vWJoMdiXYj0h",
    "scrolled": true
   },
   "outputs": [
    {
     "name": "stderr",
     "output_type": "stream",
     "text": [
      "/Users/YLChua/anaconda3/lib/python3.7/site-packages/sklearn/utils/validation.py:761: DataConversionWarning: A column-vector y was passed when a 1d array was expected. Please change the shape of y to (n_samples, ), for example using ravel().\n",
      "  y = column_or_1d(y, warn=True)\n"
     ]
    },
    {
     "name": "stdout",
     "output_type": "stream",
     "text": [
      "\n",
      "    ###########################\n",
      "    AdaBoost Classifier model\n",
      "    ###########################    \n",
      "    \n",
      "Best params: {'algorithm': 'SAMME.R', 'learning_rate': 1.0, 'n_estimators': 100}\n",
      "Train score: 0.7460982108869433, Test score 0.7325405698115185\n"
     ]
    },
    {
     "data": {
      "text/html": [
       "<div>\n",
       "<style scoped>\n",
       "    .dataframe tbody tr th:only-of-type {\n",
       "        vertical-align: middle;\n",
       "    }\n",
       "\n",
       "    .dataframe tbody tr th {\n",
       "        vertical-align: top;\n",
       "    }\n",
       "\n",
       "    .dataframe thead th {\n",
       "        text-align: right;\n",
       "    }\n",
       "</style>\n",
       "<table border=\"1\" class=\"dataframe\">\n",
       "  <thead>\n",
       "    <tr style=\"text-align: right;\">\n",
       "      <th></th>\n",
       "      <th>actual  WnV Not Present</th>\n",
       "      <th>actual  WnV Present</th>\n",
       "    </tr>\n",
       "  </thead>\n",
       "  <tbody>\n",
       "    <tr>\n",
       "      <td>Predict WnV Not Present</td>\n",
       "      <td>1861</td>\n",
       "      <td>628</td>\n",
       "    </tr>\n",
       "    <tr>\n",
       "      <td>Predict WnV Present</td>\n",
       "      <td>39</td>\n",
       "      <td>99</td>\n",
       "    </tr>\n",
       "  </tbody>\n",
       "</table>\n",
       "</div>"
      ],
      "text/plain": [
       "                         actual  WnV Not Present  actual  WnV Present\n",
       "Predict WnV Not Present                     1861                  628\n",
       "Predict WnV Present                           39                   99"
      ]
     },
     "metadata": {},
     "output_type": "display_data"
    },
    {
     "name": "stdout",
     "output_type": "stream",
     "text": [
      "** Accuracy %: 74.61% **\n",
      "Misclassification %: 25.39&\n",
      "Precision %: 0.1362\n",
      "Recall: 0.7174\n",
      "Specificity: 0.7477\n"
     ]
    },
    {
     "data": {
      "image/png": "[encoded data removed]",
      "text/plain": [
       "<Figure size 720x504 with 1 Axes>"
      ]
     },
     "metadata": {
      "needs_background": "light"
     },
     "output_type": "display_data"
    }
   ],
   "source": [
    "grid_searcher(X_train, X_test, y_train, y_test,test_submit,'ada')"
   ]
  },
  {
   "cell_type": "code",
   "execution_count": 24,
   "metadata": {
    "colab": {},
    "colab_type": "code",
    "id": "8rP64mV4YjsW"
   },
   "outputs": [
    {
     "name": "stderr",
     "output_type": "stream",
     "text": [
      "/Users/YLChua/anaconda3/lib/python3.7/site-packages/sklearn/utils/validation.py:761: DataConversionWarning: A column-vector y was passed when a 1d array was expected. Please change the shape of y to (n_samples, ), for example using ravel().\n",
      "  y = column_or_1d(y, warn=True)\n"
     ]
    },
    {
     "name": "stdout",
     "output_type": "stream",
     "text": [
      "\n",
      "    ###########################\n",
      "    Gradient Boosting Classifier model\n",
      "    ###########################    \n",
      "    \n",
      "Best params: {'learning_rate': 0.12, 'max_depth': 4, 'n_estimators': 150}\n",
      "Train score: 0.8252759802055577, Test score 0.6990337193797638\n"
     ]
    },
    {
     "data": {
      "text/html": [
       "<div>\n",
       "<style scoped>\n",
       "    .dataframe tbody tr th:only-of-type {\n",
       "        vertical-align: middle;\n",
       "    }\n",
       "\n",
       "    .dataframe tbody tr th {\n",
       "        vertical-align: top;\n",
       "    }\n",
       "\n",
       "    .dataframe thead th {\n",
       "        text-align: right;\n",
       "    }\n",
       "</style>\n",
       "<table border=\"1\" class=\"dataframe\">\n",
       "  <thead>\n",
       "    <tr style=\"text-align: right;\">\n",
       "      <th></th>\n",
       "      <th>actual  WnV Not Present</th>\n",
       "      <th>actual  WnV Present</th>\n",
       "    </tr>\n",
       "  </thead>\n",
       "  <tbody>\n",
       "    <tr>\n",
       "      <td>Predict WnV Not Present</td>\n",
       "      <td>2091</td>\n",
       "      <td>398</td>\n",
       "    </tr>\n",
       "    <tr>\n",
       "      <td>Predict WnV Present</td>\n",
       "      <td>61</td>\n",
       "      <td>77</td>\n",
       "    </tr>\n",
       "  </tbody>\n",
       "</table>\n",
       "</div>"
      ],
      "text/plain": [
       "                         actual  WnV Not Present  actual  WnV Present\n",
       "Predict WnV Not Present                     2091                  398\n",
       "Predict WnV Present                           61                   77"
      ]
     },
     "metadata": {},
     "output_type": "display_data"
    },
    {
     "name": "stdout",
     "output_type": "stream",
     "text": [
      "** Accuracy %: 82.53% **\n",
      "Misclassification %: 17.47&\n",
      "Precision %: 0.1621\n",
      "Recall: 0.558\n",
      "Specificity: 0.8401\n"
     ]
    },
    {
     "data": {
      "image/png": "[encoded data removed]",
      "text/plain": [
       "<Figure size 720x504 with 1 Axes>"
      ]
     },
     "metadata": {
      "needs_background": "light"
     },
     "output_type": "display_data"
    }
   ],
   "source": [
    "grid_searcher(X_train, X_test, y_train, y_test,test_submit,'gb')"
   ]
  },
  {
   "cell_type": "code",
   "execution_count": 25,
   "metadata": {
    "colab": {},
    "colab_type": "code",
    "id": "v0c_M8OvYrlJ"
   },
   "outputs": [
    {
     "name": "stderr",
     "output_type": "stream",
     "text": [
      "/Users/YLChua/anaconda3/lib/python3.7/site-packages/sklearn/preprocessing/label.py:219: DataConversionWarning: A column-vector y was passed when a 1d array was expected. Please change the shape of y to (n_samples, ), for example using ravel().\n",
      "  y = column_or_1d(y, warn=True)\n",
      "/Users/YLChua/anaconda3/lib/python3.7/site-packages/sklearn/preprocessing/label.py:252: DataConversionWarning: A column-vector y was passed when a 1d array was expected. Please change the shape of y to (n_samples, ), for example using ravel().\n",
      "  y = column_or_1d(y, warn=True)\n"
     ]
    },
    {
     "name": "stdout",
     "output_type": "stream",
     "text": [
      "\n",
      "    ###########################\n",
      "    XG Boost Classifier model\n",
      "    ###########################    \n",
      "    \n",
      "Best params: {'learning_rate': 0.1, 'max_depth': 3, 'n_estimators': 100}\n",
      "Train score: 0.7681766273315569, Test score 0.73734722634665\n"
     ]
    },
    {
     "data": {
      "text/html": [
       "<div>\n",
       "<style scoped>\n",
       "    .dataframe tbody tr th:only-of-type {\n",
       "        vertical-align: middle;\n",
       "    }\n",
       "\n",
       "    .dataframe tbody tr th {\n",
       "        vertical-align: top;\n",
       "    }\n",
       "\n",
       "    .dataframe thead th {\n",
       "        text-align: right;\n",
       "    }\n",
       "</style>\n",
       "<table border=\"1\" class=\"dataframe\">\n",
       "  <thead>\n",
       "    <tr style=\"text-align: right;\">\n",
       "      <th></th>\n",
       "      <th>actual  WnV Not Present</th>\n",
       "      <th>actual  WnV Present</th>\n",
       "    </tr>\n",
       "  </thead>\n",
       "  <tbody>\n",
       "    <tr>\n",
       "      <td>Predict WnV Not Present</td>\n",
       "      <td>1921</td>\n",
       "      <td>568</td>\n",
       "    </tr>\n",
       "    <tr>\n",
       "      <td>Predict WnV Present</td>\n",
       "      <td>41</td>\n",
       "      <td>97</td>\n",
       "    </tr>\n",
       "  </tbody>\n",
       "</table>\n",
       "</div>"
      ],
      "text/plain": [
       "                         actual  WnV Not Present  actual  WnV Present\n",
       "Predict WnV Not Present                     1921                  568\n",
       "Predict WnV Present                           41                   97"
      ]
     },
     "metadata": {},
     "output_type": "display_data"
    },
    {
     "name": "stdout",
     "output_type": "stream",
     "text": [
      "** Accuracy %: 76.82% **\n",
      "Misclassification %: 23.18&\n",
      "Precision %: 0.1459\n",
      "Recall: 0.7029\n",
      "Specificity: 0.7718\n"
     ]
    },
    {
     "data": {
      "image/png": "[encoded data removed]",
      "text/plain": [
       "<Figure size 720x504 with 1 Axes>"
      ]
     },
     "metadata": {
      "needs_background": "light"
     },
     "output_type": "display_data"
    }
   ],
   "source": [
    "grid_searcher(X_train, X_test, y_train, y_test,test_submit,'xgb')"
   ]
  },
  {
   "cell_type": "markdown",
   "metadata": {},
   "source": []
  },
  {
   "cell_type": "code",
   "execution_count": 26,
   "metadata": {},
   "outputs": [
    {
     "data": {
      "text/plain": [
       "[['Logistic Regression',\n",
       "  0.6433193757137419,\n",
       "  0.649524574795768,\n",
       "  63.42,\n",
       "  36.58,\n",
       "  9.139999999999999,\n",
       "  0.6667,\n",
       "  0.6324],\n",
       " ['Decision Tree Classifier',\n",
       "  0.7293490673772364,\n",
       "  0.7305462877239564,\n",
       "  72.92999999999999,\n",
       "  27.07,\n",
       "  13.03,\n",
       "  0.7319,\n",
       "  0.7292],\n",
       " ['Random Forest Classifier',\n",
       "  0.8679101636848116,\n",
       "  0.603165522501907,\n",
       "  86.41,\n",
       "  13.59,\n",
       "  14.099999999999998,\n",
       "  0.3116,\n",
       "  0.8947],\n",
       " ['AdaBoost Classifier',\n",
       "  0.7460982108869433,\n",
       "  0.7325405698115185,\n",
       "  74.61,\n",
       "  25.39,\n",
       "  13.62,\n",
       "  0.7174,\n",
       "  0.7477],\n",
       " ['Gradient Boosting Classifier',\n",
       "  0.8252759802055577,\n",
       "  0.6990337193797638,\n",
       "  82.53,\n",
       "  17.47,\n",
       "  16.21,\n",
       "  0.558,\n",
       "  0.8401],\n",
       " ['XG Boost Classifier',\n",
       "  0.7681766273315569,\n",
       "  0.73734722634665,\n",
       "  76.82,\n",
       "  23.18,\n",
       "  14.59,\n",
       "  0.7029,\n",
       "  0.7718]]"
      ]
     },
     "execution_count": 26,
     "metadata": {},
     "output_type": "execute_result"
    }
   ],
   "source": [
    "combine_info"
   ]
  },
  {
   "cell_type": "code",
   "execution_count": 33,
   "metadata": {},
   "outputs": [
    {
     "data": {
      "text/html": [
       "<div>\n",
       "<style scoped>\n",
       "    .dataframe tbody tr th:only-of-type {\n",
       "        vertical-align: middle;\n",
       "    }\n",
       "\n",
       "    .dataframe tbody tr th {\n",
       "        vertical-align: top;\n",
       "    }\n",
       "\n",
       "    .dataframe thead th {\n",
       "        text-align: right;\n",
       "    }\n",
       "</style>\n",
       "<table border=\"1\" class=\"dataframe\">\n",
       "  <thead>\n",
       "    <tr style=\"text-align: right;\">\n",
       "      <th></th>\n",
       "      <th>train_score</th>\n",
       "      <th>test_score</th>\n",
       "      <th>accuracy</th>\n",
       "      <th>misclassification</th>\n",
       "      <th>precision</th>\n",
       "      <th>recall</th>\n",
       "      <th>specificity</th>\n",
       "    </tr>\n",
       "    <tr>\n",
       "      <th>model</th>\n",
       "      <th></th>\n",
       "      <th></th>\n",
       "      <th></th>\n",
       "      <th></th>\n",
       "      <th></th>\n",
       "      <th></th>\n",
       "      <th></th>\n",
       "    </tr>\n",
       "  </thead>\n",
       "  <tbody>\n",
       "    <tr>\n",
       "      <td>Logistic Regression</td>\n",
       "      <td>0.643319</td>\n",
       "      <td>0.649525</td>\n",
       "      <td>63.42</td>\n",
       "      <td>36.58</td>\n",
       "      <td>9.14</td>\n",
       "      <td>0.6667</td>\n",
       "      <td>0.6324</td>\n",
       "    </tr>\n",
       "    <tr>\n",
       "      <td>Decision Tree Classifier</td>\n",
       "      <td>0.729349</td>\n",
       "      <td>0.730546</td>\n",
       "      <td>72.93</td>\n",
       "      <td>27.07</td>\n",
       "      <td>13.03</td>\n",
       "      <td>0.7319</td>\n",
       "      <td>0.7292</td>\n",
       "    </tr>\n",
       "    <tr>\n",
       "      <td>Random Forest Classifier</td>\n",
       "      <td>0.867910</td>\n",
       "      <td>0.603166</td>\n",
       "      <td>86.41</td>\n",
       "      <td>13.59</td>\n",
       "      <td>14.10</td>\n",
       "      <td>0.3116</td>\n",
       "      <td>0.8947</td>\n",
       "    </tr>\n",
       "    <tr>\n",
       "      <td>AdaBoost Classifier</td>\n",
       "      <td>0.746098</td>\n",
       "      <td>0.732541</td>\n",
       "      <td>74.61</td>\n",
       "      <td>25.39</td>\n",
       "      <td>13.62</td>\n",
       "      <td>0.7174</td>\n",
       "      <td>0.7477</td>\n",
       "    </tr>\n",
       "    <tr>\n",
       "      <td>Gradient Boosting Classifier</td>\n",
       "      <td>0.825276</td>\n",
       "      <td>0.699034</td>\n",
       "      <td>82.53</td>\n",
       "      <td>17.47</td>\n",
       "      <td>16.21</td>\n",
       "      <td>0.5580</td>\n",
       "      <td>0.8401</td>\n",
       "    </tr>\n",
       "    <tr>\n",
       "      <td>XG Boost Classifier</td>\n",
       "      <td>0.768177</td>\n",
       "      <td>0.737347</td>\n",
       "      <td>76.82</td>\n",
       "      <td>23.18</td>\n",
       "      <td>14.59</td>\n",
       "      <td>0.7029</td>\n",
       "      <td>0.7718</td>\n",
       "    </tr>\n",
       "  </tbody>\n",
       "</table>\n",
       "</div>"
      ],
      "text/plain": [
       "                              train_score  test_score  accuracy  \\\n",
       "model                                                             \n",
       "Logistic Regression              0.643319    0.649525     63.42   \n",
       "Decision Tree Classifier         0.729349    0.730546     72.93   \n",
       "Random Forest Classifier         0.867910    0.603166     86.41   \n",
       "AdaBoost Classifier              0.746098    0.732541     74.61   \n",
       "Gradient Boosting Classifier     0.825276    0.699034     82.53   \n",
       "XG Boost Classifier              0.768177    0.737347     76.82   \n",
       "\n",
       "                              misclassification  precision  recall  \\\n",
       "model                                                                \n",
       "Logistic Regression                       36.58       9.14  0.6667   \n",
       "Decision Tree Classifier                  27.07      13.03  0.7319   \n",
       "Random Forest Classifier                  13.59      14.10  0.3116   \n",
       "AdaBoost Classifier                       25.39      13.62  0.7174   \n",
       "Gradient Boosting Classifier              17.47      16.21  0.5580   \n",
       "XG Boost Classifier                       23.18      14.59  0.7029   \n",
       "\n",
       "                              specificity  \n",
       "model                                      \n",
       "Logistic Regression                0.6324  \n",
       "Decision Tree Classifier           0.7292  \n",
       "Random Forest Classifier           0.8947  \n",
       "AdaBoost Classifier                0.7477  \n",
       "Gradient Boosting Classifier       0.8401  \n",
       "XG Boost Classifier                0.7718  "
      ]
     },
     "execution_count": 33,
     "metadata": {},
     "output_type": "execute_result"
    }
   ],
   "source": [
    "column = ['model','train_score','test_score','accuracy','misclassification','precision', 'recall', 'specificity']\n",
    "df = pd.DataFrame(combine_info, columns=column)\n",
    "df.set_index('model',drop=True,inplace = True)\n",
    "df"
   ]
  },
  {
   "cell_type": "code",
   "execution_count": null,
   "metadata": {},
   "outputs": [],
   "source": []
  }
 ],
 "metadata": {
  "colab": {
   "collapsed_sections": [],
   "name": "model.ipynb",
   "provenance": [
    {
     "file_id": "1PlI_oNGpP3XBcSo5JweXyZfuoQh_YAHs",
     "timestamp": 1572679287985
    }
   ]
  },
  "kernelspec": {
   "display_name": "Python 3",
   "language": "python",
   "name": "python3"
  },
  "language_info": {
   "codemirror_mode": {
    "name": "ipython",
    "version": 3
   },
   "file_extension": ".py",
   "mimetype": "text/x-python",
   "name": "python",
   "nbconvert_exporter": "python",
   "pygments_lexer": "ipython3",
   "version": "3.7.3"
  },
  "toc": {
   "base_numbering": 1,
   "nav_menu": {},
   "number_sections": true,
   "sideBar": true,
   "skip_h1_title": false,
   "title_cell": "Table of Contents",
   "title_sidebar": "Contents",
   "toc_cell": false,
   "toc_position": {},
   "toc_section_display": true,
   "toc_window_display": false
  }
 },
 "nbformat": 4,
 "nbformat_minor": 1
}
